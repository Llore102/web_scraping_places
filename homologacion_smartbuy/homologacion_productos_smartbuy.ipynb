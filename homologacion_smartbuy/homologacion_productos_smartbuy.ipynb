{
 "cells": [
  {
   "cell_type": "code",
   "execution_count": 1,
   "metadata": {},
   "outputs": [
    {
     "name": "stderr",
     "output_type": "stream",
     "text": [
      "/Users/cevalenciam/anaconda3/envs/smartbuy/lib/python3.8/site-packages/fuzzywuzzy/fuzz.py:11: UserWarning: Using slow pure-python SequenceMatcher. Install python-Levenshtein to remove this warning\n",
      "  warnings.warn('Using slow pure-python SequenceMatcher. Install python-Levenshtein to remove this warning')\n"
     ]
    }
   ],
   "source": [
    "import pandas as pd\n",
    "import numpy as np\n",
    "import glob\n",
    "import tqdm\n",
    "import string\n",
    "import os\n",
    "\n",
    "from nltk.corpus import stopwords\n",
    "from nltk import word_tokenize\n",
    "from nltk.tokenize.treebank import TreebankWordDetokenizer\n",
    "\n",
    "sw = stopwords.words('spanish')\n",
    "\n",
    "#from thefuzz import fuzz\n",
    "#from thefuzz import process\n",
    "\n",
    "from fuzzywuzzy import fuzz\n",
    "from fuzzywuzzy import process\n",
    "\n",
    "import multiprocessing as mp\n",
    "import istarmap  # import to apply patch\n",
    "\n",
    "from datetime import datetime\n",
    "\n",
    "import warnings\n",
    "warnings.filterwarnings('ignore')"
   ]
  },
  {
   "cell_type": "code",
   "execution_count": 2,
   "metadata": {},
   "outputs": [],
   "source": [
    "n = mp.cpu_count()"
   ]
  },
  {
   "cell_type": "code",
   "execution_count": 3,
   "metadata": {},
   "outputs": [],
   "source": [
    "try:\n",
    "   mp.set_start_method('spawn', force=True)\n",
    "#   print(\"spawned\")\n",
    "except RuntimeError:\n",
    "   pass"
   ]
  },
  {
   "cell_type": "code",
   "execution_count": 4,
   "metadata": {},
   "outputs": [
    {
     "data": {
      "text/plain": [
       "'/Users/cevalenciam/Library/CloudStorage/OneDrive-Personal/SmartBuy/smartbuy/homologacion-smartbuy'"
      ]
     },
     "execution_count": 4,
     "metadata": {},
     "output_type": "execute_result"
    }
   ],
   "source": [
    "os.getcwd()"
   ]
  },
  {
   "cell_type": "code",
   "execution_count": 5,
   "metadata": {},
   "outputs": [],
   "source": [
    "ruta = os.getcwd()"
   ]
  },
  {
   "cell_type": "code",
   "execution_count": 6,
   "metadata": {},
   "outputs": [],
   "source": [
    "def marca_tottus(x):\n",
    "    if x.find('marca: ')==-1:\n",
    "        return('')\n",
    "    elif x.find(';', x.find('marca: ')+1)==-1:\n",
    "        return(x[x.find('marca: ')+7:])\n",
    "    else:\n",
    "        return(x[x.find('marca: ')+7: x.find(';', x.index('marca: ')+1)])"
   ]
  },
  {
   "cell_type": "code",
   "execution_count": 7,
   "metadata": {},
   "outputs": [],
   "source": [
    "def formato_tottus(x):\n",
    "    if x.find('formato: ')==-1:\n",
    "        return('')\n",
    "    elif x.find(';', x.find('formato: ')+1)==-1:\n",
    "        return(x[x.find('formato: ')+9:])\n",
    "    else:\n",
    "        return(x[x.find('formato: ')+9: x.find(';', x.find('formato: ')+1)])"
   ]
  },
  {
   "cell_type": "code",
   "execution_count": 8,
   "metadata": {},
   "outputs": [],
   "source": [
    "def format(x):\n",
    "    if x[-2:]=='gr':\n",
    "        return(x[:-1])\n",
    "    elif x[-2:]=='lt':\n",
    "        return(x[:-1])\n",
    "    else:\n",
    "        return(x)"
   ]
  },
  {
   "cell_type": "code",
   "execution_count": 9,
   "metadata": {},
   "outputs": [],
   "source": [
    "def formato_lider(x):\n",
    "    if x[x.rfind(',')+1:x.rfind(',')+2]!=' ':\n",
    "        return(x[x.rfind(',', 0, x.rfind(','))+2:])\n",
    "    else:\n",
    "        return(x[x.rfind(',')+2:])"
   ]
  },
  {
   "cell_type": "code",
   "execution_count": 10,
   "metadata": {},
   "outputs": [],
   "source": [
    "def remove_stopwords(lines, sw = sw):\n",
    "    '''\n",
    "    The purpose of this function is to remove stopwords from a given array of \n",
    "    lines.\n",
    "    \n",
    "    params:\n",
    "        lines (Array / List) : The list of lines you want to remove the stopwords from\n",
    "        sw (Set) : The set of stopwords you want to remove\n",
    "        \n",
    "    example:\n",
    "        lines = remove_stopwords(lines = lines, sw = sw)\n",
    "    '''\n",
    "    \n",
    "    res = []\n",
    "    for line in lines:\n",
    "        original = line\n",
    "        line = [w for w in line if w not in sw]\n",
    "        if len(line) < 1:\n",
    "            line = original\n",
    "        res.append(line)\n",
    "    return res"
   ]
  },
  {
   "cell_type": "code",
   "execution_count": 92,
   "metadata": {},
   "outputs": [],
   "source": [
    "def matching(id, product, empresa, collection_tottus, collection_lider, collection_jumbo):\n",
    "    tottus = process.extractOne(product, collection_tottus, scorer=fuzz.ratio)\n",
    "    if tottus==None:\n",
    "        tottus = ('', np.nan)\n",
    "    lider = process.extractOne(product, collection_lider, scorer=fuzz.ratio)\n",
    "    if lider==None:\n",
    "        lider = ('', np.nan)\n",
    "    jumbo = process.extractOne(product, collection_jumbo, scorer=fuzz.ratio)\n",
    "    if jumbo==None:\n",
    "        jumbo = ('', np.nan)\n",
    "    return([id, product, empresa, tottus[0], tottus[1], lider[0], lider[1], jumbo[0], jumbo[1]])"
   ]
  },
  {
   "cell_type": "code",
   "execution_count": 12,
   "metadata": {},
   "outputs": [],
   "source": [
    "df_cat_smartbuy = pd.read_excel(ruta + \"/Categorías_SmartBuy_v6.xlsx\")"
   ]
  },
  {
   "cell_type": "code",
   "execution_count": 13,
   "metadata": {},
   "outputs": [
    {
     "name": "stdout",
     "output_type": "stream",
     "text": [
      "6330\n",
      "695\n"
     ]
    }
   ],
   "source": [
    "df_tottus = pd.read_excel(ruta[:-22] + \"/web-scraper-tottus/Output/REPORTE_WS_TOTTUS.xlsx\", converters={'internet_price':str})\n",
    "print(df_tottus.shape[0])\n",
    "df_tottus['id'] = 'T' + df_tottus['id'].fillna(0).astype(int).astype(str)\n",
    "df_tottus['name'] = df_tottus['name'].astype(str).replace('nan', 'no info')\n",
    "df_tottus['description'] = df_tottus['description'].astype(str).map(lambda x:x[x.find('>', x.find('h3'))+1:x.find('</h3>')] if x[0]=='<' else x).replace('nan', 'no info')\n",
    "df_tottus['marca'] = df_tottus['attributes'].astype(str).str.lower().map(lambda x:marca_tottus(x)).replace('nan', 'no info')\n",
    "df_tottus['formato'] = df_tottus['attributes'].astype(str).str.lower().map(lambda x:formato_tottus(x)).replace('nan', 'no info')\n",
    "df_tottus['formato'] = df_tottus['formato'].map(lambda x:format(x))\n",
    "df_tottus['image1'] = df_tottus['url_image'].astype(str).map(lambda x:x if x.find(';')==-1 else x[:x.find(';')]).replace('nan', 'no info')\n",
    "df_tottus['image2'] = df_tottus['url_image'].astype(str).map(lambda x:'' if x.find(';')==-1 else x[x.find(';')+2:x.find(';', x.find(';')+1)]).replace('nan', 'no info')\n",
    "df_tottus['image3'] = df_tottus['url_image'].astype(str).map(lambda x:'' if x.find(';', x.find(';')+1)==-1 else x[:x.find(';')]).replace('nan', 'no info')\n",
    "df_tottus['internet_price'] = df_tottus['internet_price'].astype(str).str.replace('.', '').str.replace('nan', '0').astype(float)\n",
    "df_tottus['empresa'] = 'Tottus'\n",
    "\n",
    "#3 niveles\n",
    "df_tottus = pd.merge(df_tottus, \n",
    "                df_cat_smartbuy[df_cat_smartbuy['Categoría nivel 3.1'].notnull()][['Categoría nivel 1.2', 'Categoría nivel 2.2', 'Categoría nivel 3.1', 'COD_CAT_N1_SMT', 'Categoría nivel 1 - Smartbuy', 'COD_CAT_N2_SMT', 'Categoría nivel 2 - Smartbuy']]\\\n",
    "                .rename(columns={'Categoría nivel 1.2': 'first_category',\n",
    "                                'Categoría nivel 2.2': 'second_category',\n",
    "                                'Categoría nivel 3.1': 'third_category'}).drop_duplicates(), \n",
    "                on=['first_category', 'second_category', 'third_category'], \n",
    "                how='left').drop_duplicates()\n",
    "\n",
    "#2 niveles\n",
    "df_tottus = pd.merge(df_tottus, \n",
    "                df_cat_smartbuy[(df_cat_smartbuy['Categoría nivel 3.1'].isnull()) &\n",
    "                                (df_cat_smartbuy['Categoría nivel 2.2'].notnull())][['Categoría nivel 1.2', 'Categoría nivel 2.2', 'COD_CAT_N1_SMT', 'Categoría nivel 1 - Smartbuy', 'COD_CAT_N2_SMT', 'Categoría nivel 2 - Smartbuy']]\\\n",
    "                .rename(columns={'Categoría nivel 1.2': 'first_category',\n",
    "                                'Categoría nivel 2.2': 'second_category'}).drop_duplicates(), \n",
    "                on=['first_category', 'second_category'], \n",
    "                how='left').drop_duplicates()\n",
    "\n",
    "#creando campos \n",
    "df_tottus['COD_CAT_N1_SMT'] = np.where(df_tottus['COD_CAT_N1_SMT_x'].isnull(), df_tottus['COD_CAT_N1_SMT_y'], df_tottus['COD_CAT_N1_SMT_x'])\n",
    "df_tottus['Categoría nivel 1 - Smartbuy'] = np.where(df_tottus['Categoría nivel 1 - Smartbuy_x'].isnull(), df_tottus['Categoría nivel 1 - Smartbuy_y'], df_tottus['Categoría nivel 1 - Smartbuy_x'])\n",
    "df_tottus['COD_CAT_N2_SMT'] = np.where(df_tottus['COD_CAT_N2_SMT_x'].isnull(), df_tottus['COD_CAT_N2_SMT_y'], df_tottus['COD_CAT_N2_SMT_x'])\n",
    "df_tottus['Categoría nivel 2 - Smartbuy'] = np.where(df_tottus['Categoría nivel 2 - Smartbuy_x'].isnull(), df_tottus['Categoría nivel 2 - Smartbuy_y'], df_tottus['Categoría nivel 2 - Smartbuy_x'])\n",
    "\n",
    "#base final\n",
    "df_tottus = df_tottus[df_tottus['COD_CAT_N1_SMT'].notnull()].drop(['COD_CAT_N1_SMT_x',\n",
    "                                                                'Categoría nivel 1 - Smartbuy_x', 'COD_CAT_N2_SMT_x',\n",
    "                                                                'Categoría nivel 2 - Smartbuy_x', 'COD_CAT_N1_SMT_y',\n",
    "                                                                'Categoría nivel 1 - Smartbuy_y', 'COD_CAT_N2_SMT_y',\n",
    "                                                                'Categoría nivel 2 - Smartbuy_y'], axis=1).drop_duplicates()\n",
    "\n",
    "print(df_tottus.shape[0])"
   ]
  },
  {
   "cell_type": "code",
   "execution_count": 14,
   "metadata": {},
   "outputs": [
    {
     "name": "stdout",
     "output_type": "stream",
     "text": [
      "57380\n",
      "23288\n"
     ]
    }
   ],
   "source": [
    "filenames = glob.glob(ruta[:-22] + \"/web-scraper-lider/Output/REPORTE_WS_*\")\n",
    "df_lider = pd.concat(pd.read_excel(file, converters={'internet_price':str}) for file in filenames).reset_index(drop=True)\n",
    "print(df_lider.shape[0])\n",
    "df_lider['id'] = 'L' + df_lider['id'].fillna('item 0').map(lambda x:x[5:])\n",
    "df_lider['name'] = df_lider['name'].astype(str).replace('nan', 'no info')\n",
    "df_lider['description'] = df_lider['description'].astype(str).replace('nan', 'no info')\n",
    "df_lider['marca'] = df_lider['attributes'].astype(str).str.lower().str.replace('á', 'a').str.replace('é', 'e').str.replace('í', 'i').str.replace('ó', 'o').str.replace('ú', 'u').replace('nan', 'no info')\n",
    "df_lider['formato'] = df_lider['name'].astype(str).str.lower().map(lambda x:formato_lider(x)).replace('nan', 'no info')\n",
    "df_lider['formato'] = df_lider['formato'].map(lambda x:format(x))\n",
    "df_lider['image1'] = df_lider['url_image'].astype(str).map(lambda x:x if x.find(';')==-1 else x[:x.find(';')]).replace('nan', 'no info')\n",
    "df_lider['image2'] = df_lider['url_image'].astype(str).map(lambda x:'' if x.find(';')==-1 else x[x.find(';')+2:x.find(';', x.find(';')+1)]).replace('nan', 'no info')\n",
    "df_lider['image3'] = df_lider['url_image'].astype(str).map(lambda x:'' if x.find(';', x.find(';')+1)==-1 else x[:x.find(';')]).replace('nan', 'no info')\n",
    "df_lider['internet_price'] = np.where(df_lider['internet_price'].astype(str).map(lambda x:x[0].isdigit()), df_lider['normal_price'], df_lider['internet_price'])\n",
    "df_lider['internet_price'] = df_lider['internet_price'].astype(str).map(lambda x:x[x.find('$')+1:]).str.replace('.', '').str.replace('nan', '0').astype(float)\n",
    "df_lider['empresa'] = 'Lider'\n",
    "\n",
    "#2 categorias\n",
    "df_lider = pd.merge(df_lider, \n",
    "                df_cat_smartbuy[['Categoría nivel 1', 'Categoría nivel 2', 'COD_CAT_N1_SMT', 'Categoría nivel 1 - Smartbuy', 'COD_CAT_N2_SMT', 'Categoría nivel 2 - Smartbuy']]\\\n",
    "                .rename(columns={'Categoría nivel 1': 'first_category',\n",
    "                                'Categoría nivel 2': 'second_category'}).drop_duplicates(), \n",
    "                on=['first_category', 'second_category'], \n",
    "                how='inner').drop_duplicates()\n",
    "\n",
    "print(df_lider.shape[0])"
   ]
  },
  {
   "cell_type": "code",
   "execution_count": 15,
   "metadata": {},
   "outputs": [
    {
     "name": "stdout",
     "output_type": "stream",
     "text": [
      "30573\n",
      "14364\n"
     ]
    }
   ],
   "source": [
    "filenames = glob.glob(ruta[:-22] + \"/web-scraper-jumbo/Output/REPORTE_WS_*\")\n",
    "df_jumbo = pd.concat(pd.read_excel(file, converters={'internet_price':str}) for file in filenames).reset_index(drop=True)\n",
    "print(df_jumbo.shape[0])\n",
    "df_jumbo['id'] = 'J' + df_jumbo['id'].fillna('Código: 0').map(lambda x:x[8:])\n",
    "df_jumbo['name'] = df_jumbo['name'].astype(str).replace('nan', 'no info')\n",
    "df_jumbo['description'] = df_jumbo['description'].astype(str).replace('nan', 'no info')\n",
    "df_jumbo['marca'] = df_jumbo['attributes'].astype(str).str.lower().str.replace('á', 'a').str.replace('é', 'e').str.replace('í', 'i').str.replace('ó', 'o').str.replace('ú', 'u').replace('nan', 'no info')\n",
    "df_jumbo['formato'] = df_jumbo['name'].astype(str).str.lower().map(lambda x:x[x[:x.rfind(\" \")].rfind(\" \")+1:]).replace('nan', 'no info')\n",
    "df_jumbo['formato'] = df_jumbo['formato'].map(lambda x:format(x))\n",
    "df_jumbo['image1'] = df_jumbo['url_image'].astype(str).map(lambda x:x if x.find(';')==-1 else x[:x.find(';')]).replace('nan', 'no info')\n",
    "df_jumbo['image2'] = df_jumbo['url_image'].astype(str).map(lambda x:'' if x.find(';')==-1 else x[x.find(';')+2:x.find(';', x.find(';')+1)]).replace('nan', 'no info')\n",
    "df_jumbo['image3'] = df_jumbo['url_image'].astype(str).map(lambda x:'' if x.find(';', x.find(';')+1)==-1 else x[:x.find(';')]).replace('nan', 'no info')\n",
    "df_jumbo['internet_price'] = df_jumbo['internet_price'].astype(str).map(lambda x:x[x.find('$')+1:]).str.replace('.', '').str.replace('nan', '0').astype(float)\n",
    "df_jumbo['empresa'] = 'Jumbo'\n",
    "\n",
    "#3 niveles\n",
    "df_jumbo = pd.merge(df_jumbo, \n",
    "                df_cat_smartbuy[df_cat_smartbuy['Categoría nivel 3'].notnull()][['Categoría nivel 1.1', 'Categoría nivel 2.1', 'Categoría nivel 3', 'COD_CAT_N1_SMT', 'Categoría nivel 1 - Smartbuy', 'COD_CAT_N2_SMT', 'Categoría nivel 2 - Smartbuy']]\\\n",
    "                .rename(columns={'Categoría nivel 1.1': 'first_category',\n",
    "                                'Categoría nivel 2.1': 'second_category',\n",
    "                                'Categoría nivel 3': 'third_category'}).drop_duplicates(), \n",
    "                on=['first_category', 'second_category', 'third_category'], \n",
    "                how='left').drop_duplicates()\n",
    "\n",
    "#2 niveles\n",
    "df_jumbo = pd.merge(df_jumbo, \n",
    "                df_cat_smartbuy[(df_cat_smartbuy['Categoría nivel 3'].isnull()) &\n",
    "                                (df_cat_smartbuy['Categoría nivel 2.1'].notnull())][['Categoría nivel 1.1', 'Categoría nivel 2.1', 'COD_CAT_N1_SMT', 'Categoría nivel 1 - Smartbuy', 'COD_CAT_N2_SMT', 'Categoría nivel 2 - Smartbuy']]\\\n",
    "                .rename(columns={'Categoría nivel 1.1': 'first_category',\n",
    "                                'Categoría nivel 2.1': 'second_category'}).drop_duplicates(), \n",
    "                on=['first_category', 'second_category'], \n",
    "                how='left').drop_duplicates()\n",
    "\n",
    "#creando campos \n",
    "df_jumbo['COD_CAT_N1_SMT'] = np.where(df_jumbo['COD_CAT_N1_SMT_x'].isnull(), df_jumbo['COD_CAT_N1_SMT_y'], df_jumbo['COD_CAT_N1_SMT_x'])\n",
    "df_jumbo['Categoría nivel 1 - Smartbuy'] = np.where(df_jumbo['Categoría nivel 1 - Smartbuy_x'].isnull(), df_jumbo['Categoría nivel 1 - Smartbuy_y'], df_jumbo['Categoría nivel 1 - Smartbuy_x'])\n",
    "df_jumbo['COD_CAT_N2_SMT'] = np.where(df_jumbo['COD_CAT_N2_SMT_x'].isnull(), df_jumbo['COD_CAT_N2_SMT_y'], df_jumbo['COD_CAT_N2_SMT_x'])\n",
    "df_jumbo['Categoría nivel 2 - Smartbuy'] = np.where(df_jumbo['Categoría nivel 2 - Smartbuy_x'].isnull(), df_jumbo['Categoría nivel 2 - Smartbuy_y'], df_jumbo['Categoría nivel 2 - Smartbuy_x'])\n",
    "\n",
    "#base final\n",
    "df_jumbo = df_jumbo[df_jumbo['COD_CAT_N1_SMT'].notnull()].drop(['COD_CAT_N1_SMT_x',\n",
    "                                                                'Categoría nivel 1 - Smartbuy_x', 'COD_CAT_N2_SMT_x',\n",
    "                                                                'Categoría nivel 2 - Smartbuy_x', 'COD_CAT_N1_SMT_y',\n",
    "                                                                'Categoría nivel 1 - Smartbuy_y', 'COD_CAT_N2_SMT_y',\n",
    "                                                                'Categoría nivel 2 - Smartbuy_y'], axis=1).drop_duplicates()\n",
    "\n",
    "print(df_jumbo.shape[0])"
   ]
  },
  {
   "cell_type": "code",
   "execution_count": 163,
   "metadata": {},
   "outputs": [],
   "source": [
    "vars_productos = ['id', 'name', 'description', 'first_category', 'second_category', 'third_category', 'marca', 'formato', 'internet_price', 'image1', 'image2', 'image3', 'empresa', 'COD_CAT_N1_SMT', 'Categoría nivel 1 - Smartbuy', 'COD_CAT_N2_SMT', 'Categoría nivel 2 - Smartbuy']"
   ]
  },
  {
   "cell_type": "code",
   "execution_count": 18,
   "metadata": {},
   "outputs": [],
   "source": [
    "df_prod_1 = df_prod[vars_productos].reset_index(drop=True)"
   ]
  },
  {
   "cell_type": "code",
   "execution_count": 19,
   "metadata": {},
   "outputs": [
    {
     "name": "stdout",
     "output_type": "stream",
     "text": [
      "Total:  (38347, 17)\n",
      "Total sin duplicados:  (38299, 17)\n"
     ]
    }
   ],
   "source": [
    "print(\"Total: \",df_prod_1.shape)\n",
    "df_prod_1 = df_prod_1.drop_duplicates()\n",
    "print(\"Total sin duplicados: \",df_prod_1.shape)"
   ]
  },
  {
   "cell_type": "code",
   "execution_count": 414,
   "metadata": {},
   "outputs": [
    {
     "data": {
      "text/html": [
       "<div>\n",
       "<style scoped>\n",
       "    .dataframe tbody tr th:only-of-type {\n",
       "        vertical-align: middle;\n",
       "    }\n",
       "\n",
       "    .dataframe tbody tr th {\n",
       "        vertical-align: top;\n",
       "    }\n",
       "\n",
       "    .dataframe thead th {\n",
       "        text-align: right;\n",
       "    }\n",
       "</style>\n",
       "<table border=\"1\" class=\"dataframe\">\n",
       "  <thead>\n",
       "    <tr style=\"text-align: right;\">\n",
       "      <th></th>\n",
       "      <th>id</th>\n",
       "      <th>name</th>\n",
       "      <th>marca</th>\n",
       "      <th>formato</th>\n",
       "      <th>empresa</th>\n",
       "      <th>size</th>\n",
       "    </tr>\n",
       "  </thead>\n",
       "  <tbody>\n",
       "    <tr>\n",
       "      <th>0</th>\n",
       "      <td>J1000589</td>\n",
       "      <td>Pan de molde blanco 580 g</td>\n",
       "      <td>pan pierre</td>\n",
       "      <td>580 g</td>\n",
       "      <td>Jumbo</td>\n",
       "      <td>1</td>\n",
       "    </tr>\n",
       "    <tr>\n",
       "      <th>1</th>\n",
       "      <td>J1000590</td>\n",
       "      <td>Pan de molde integral 580 g</td>\n",
       "      <td>pan pierre</td>\n",
       "      <td>580 g</td>\n",
       "      <td>Jumbo</td>\n",
       "      <td>1</td>\n",
       "    </tr>\n",
       "    <tr>\n",
       "      <th>2</th>\n",
       "      <td>J1000623</td>\n",
       "      <td>Agua Mineral Jahuel Gasificada 330 cc</td>\n",
       "      <td>jahuel</td>\n",
       "      <td>330 cc</td>\n",
       "      <td>Jumbo</td>\n",
       "      <td>2</td>\n",
       "    </tr>\n",
       "    <tr>\n",
       "      <th>3</th>\n",
       "      <td>J1000624</td>\n",
       "      <td>Agua Mineral Jahuel Sin Gas de 330 cc</td>\n",
       "      <td>jahuel</td>\n",
       "      <td>330 cc</td>\n",
       "      <td>Jumbo</td>\n",
       "      <td>2</td>\n",
       "    </tr>\n",
       "    <tr>\n",
       "      <th>4</th>\n",
       "      <td>J1000627</td>\n",
       "      <td>Agua Mineral Jahuel Gasificada 1.6 L</td>\n",
       "      <td>jahuel</td>\n",
       "      <td>1.6 l</td>\n",
       "      <td>Jumbo</td>\n",
       "      <td>2</td>\n",
       "    </tr>\n",
       "  </tbody>\n",
       "</table>\n",
       "</div>"
      ],
      "text/plain": [
       "         id                                   name       marca formato  \\\n",
       "0  J1000589              Pan de molde blanco 580 g  pan pierre   580 g   \n",
       "1  J1000590            Pan de molde integral 580 g  pan pierre   580 g   \n",
       "2  J1000623  Agua Mineral Jahuel Gasificada 330 cc      jahuel  330 cc   \n",
       "3  J1000624  Agua Mineral Jahuel Sin Gas de 330 cc      jahuel  330 cc   \n",
       "4  J1000627   Agua Mineral Jahuel Gasificada 1.6 L      jahuel   1.6 l   \n",
       "\n",
       "  empresa  size  \n",
       "0   Jumbo     1  \n",
       "1   Jumbo     1  \n",
       "2   Jumbo     2  \n",
       "3   Jumbo     2  \n",
       "4   Jumbo     2  "
      ]
     },
     "execution_count": 414,
     "metadata": {},
     "output_type": "execute_result"
    }
   ],
   "source": [
    "df_prod_2 = df_prod_1.groupby(['id', 'name', 'marca', 'formato', 'empresa'], as_index=False, dropna=False).size()\n",
    "df_prod_2.head()"
   ]
  },
  {
   "cell_type": "code",
   "execution_count": 22,
   "metadata": {},
   "outputs": [],
   "source": [
    "df = df_prod_1[~((df_prod_1['id'].isin(df_prod_2[df_prod_2['size']>1]['id'].unique())) & (df_prod_1['third_category'].fillna('sin info').str.lower().str.contains('ver todo')))]"
   ]
  },
  {
   "cell_type": "code",
   "execution_count": 23,
   "metadata": {},
   "outputs": [],
   "source": [
    "vars_productos_2 = ['id', 'name', 'description', 'marca', 'formato', 'internet_price', 'image1', 'image2', 'image3', 'empresa', 'COD_CAT_N1_SMT', 'Categoría nivel 1 - Smartbuy', 'COD_CAT_N2_SMT', 'Categoría nivel 2 - Smartbuy']"
   ]
  },
  {
   "cell_type": "code",
   "execution_count": 24,
   "metadata": {},
   "outputs": [],
   "source": [
    "df = df[vars_productos_2].reset_index(drop=True)"
   ]
  },
  {
   "cell_type": "code",
   "execution_count": 25,
   "metadata": {},
   "outputs": [
    {
     "name": "stdout",
     "output_type": "stream",
     "text": [
      "Total:  (23269, 14)\n",
      "Total sin duplicados:  (22332, 14)\n"
     ]
    }
   ],
   "source": [
    "print(\"Total: \",df.shape)\n",
    "df = df.drop_duplicates()\n",
    "print(\"Total sin duplicados: \",df.shape)"
   ]
  },
  {
   "cell_type": "code",
   "execution_count": 33,
   "metadata": {},
   "outputs": [],
   "source": [
    "df['product'] = df['name'].astype(str) + ' ' +\\\n",
    "                df['marca'].astype(str) + ' ' +\\\n",
    "                df['formato'].astype(str)"
   ]
  },
  {
   "cell_type": "code",
   "execution_count": 35,
   "metadata": {},
   "outputs": [],
   "source": [
    "lines = df['product'].tolist()\n",
    "\n",
    "# remove new lines\n",
    "lines = [line.rstrip('\\n') for line in lines]\n",
    "\n",
    "# make all characters lower\n",
    "lines = [line.lower() for line in lines]\n",
    "\n",
    "# remove punctuations from each line\n",
    "lines = [line.translate(str.maketrans('', '', string.punctuation)) for line in lines]\n",
    "\n",
    "# tokenize\n",
    "lines = [word_tokenize(line) for line in lines]\n",
    "    \n",
    "filtered_lines = remove_stopwords(lines = lines, sw = sw)\n",
    "\n",
    "filtered_lines = [TreebankWordDetokenizer().detokenize(line) for line in filtered_lines]"
   ]
  },
  {
   "cell_type": "code",
   "execution_count": 36,
   "metadata": {},
   "outputs": [],
   "source": [
    "df['product'] = filtered_lines"
   ]
  },
  {
   "cell_type": "code",
   "execution_count": 824,
   "metadata": {},
   "outputs": [
    {
     "data": {
      "text/html": [
       "<div>\n",
       "<style scoped>\n",
       "    .dataframe tbody tr th:only-of-type {\n",
       "        vertical-align: middle;\n",
       "    }\n",
       "\n",
       "    .dataframe tbody tr th {\n",
       "        vertical-align: top;\n",
       "    }\n",
       "\n",
       "    .dataframe thead th {\n",
       "        text-align: right;\n",
       "    }\n",
       "</style>\n",
       "<table border=\"1\" class=\"dataframe\">\n",
       "  <thead>\n",
       "    <tr style=\"text-align: right;\">\n",
       "      <th></th>\n",
       "      <th>id</th>\n",
       "      <th>name</th>\n",
       "      <th>description</th>\n",
       "      <th>marca</th>\n",
       "      <th>formato</th>\n",
       "      <th>internet_price</th>\n",
       "      <th>image1</th>\n",
       "      <th>image2</th>\n",
       "      <th>image3</th>\n",
       "      <th>empresa</th>\n",
       "      <th>COD_CAT_N1_SMT</th>\n",
       "      <th>Categoría nivel 1 - Smartbuy</th>\n",
       "      <th>COD_CAT_N2_SMT</th>\n",
       "      <th>Categoría nivel 2 - Smartbuy</th>\n",
       "      <th>product</th>\n",
       "    </tr>\n",
       "  </thead>\n",
       "  <tbody>\n",
       "    <tr>\n",
       "      <th>10782</th>\n",
       "      <td>L293383</td>\n",
       "      <td>Aceite De Maravilla Botella Botella, 1 L</td>\n",
       "      <td>Aceite Vegetal Maravilla Chef, 1lt</td>\n",
       "      <td>chef</td>\n",
       "      <td>1 l</td>\n",
       "      <td>3790.0</td>\n",
       "      <td>https://images.lider.cl/wmtcl?source=url[file:...</td>\n",
       "      <td></td>\n",
       "      <td></td>\n",
       "      <td>Lider</td>\n",
       "      <td>D_001</td>\n",
       "      <td>Despensa</td>\n",
       "      <td>AYA_001</td>\n",
       "      <td>Aceites y Aderezos</td>\n",
       "      <td>aceite maravilla botella botella 1 l chef 1 l</td>\n",
       "    </tr>\n",
       "  </tbody>\n",
       "</table>\n",
       "</div>"
      ],
      "text/plain": [
       "            id                                      name  \\\n",
       "10782  L293383  Aceite De Maravilla Botella Botella, 1 L   \n",
       "\n",
       "                              description marca formato  internet_price  \\\n",
       "10782  Aceite Vegetal Maravilla Chef, 1lt  chef     1 l          3790.0   \n",
       "\n",
       "                                                  image1 image2 image3  \\\n",
       "10782  https://images.lider.cl/wmtcl?source=url[file:...                 \n",
       "\n",
       "      empresa COD_CAT_N1_SMT Categoría nivel 1 - Smartbuy COD_CAT_N2_SMT  \\\n",
       "10782   Lider          D_001                     Despensa        AYA_001   \n",
       "\n",
       "      Categoría nivel 2 - Smartbuy  \\\n",
       "10782           Aceites y Aderezos   \n",
       "\n",
       "                                             product  \n",
       "10782  aceite maravilla botella botella 1 l chef 1 l  "
      ]
     },
     "execution_count": 824,
     "metadata": {},
     "output_type": "execute_result"
    }
   ],
   "source": [
    "df[df['id']=='L293383']"
   ]
  },
  {
   "cell_type": "code",
   "execution_count": 833,
   "metadata": {},
   "outputs": [],
   "source": [
    "categorias_smt = df[df['Categoría nivel 2 - Smartbuy'].str.lower().str.contains('aceites')][['COD_CAT_N1_SMT', 'Categoría nivel 1 - Smartbuy', 'COD_CAT_N2_SMT', 'Categoría nivel 2 - Smartbuy']].drop_duplicates().values.tolist()"
   ]
  },
  {
   "cell_type": "code",
   "execution_count": 830,
   "metadata": {},
   "outputs": [
    {
     "data": {
      "text/plain": [
       "[]"
      ]
     },
     "execution_count": 830,
     "metadata": {},
     "output_type": "execute_result"
    }
   ],
   "source": [
    "categorias_smt = categorias_smt[-2:-1]\n",
    "categorias_smt"
   ]
  },
  {
   "cell_type": "code",
   "execution_count": 835,
   "metadata": {},
   "outputs": [
    {
     "name": "stdout",
     "output_type": "stream",
     "text": [
      "Despensa   Aceites y Aderezos\n",
      "1  de  1\n"
     ]
    },
    {
     "name": "stderr",
     "output_type": "stream",
     "text": [
      "100%|██████████| 783/783 [01:35<00:00,  8.21it/s]\n"
     ]
    }
   ],
   "source": [
    "results = []\n",
    "\n",
    "i = 1\n",
    "\n",
    "df_res = pd.DataFrame()\n",
    "\n",
    "for cat1, cat_1, cat2, cat_2 in categorias_smt:\n",
    "\n",
    "    print(cat_1, ' ', cat_2)\n",
    "    print(i, ' de ', len(categorias_smt))\n",
    "\n",
    "    collection_tottus = df[(df['empresa']=='Tottus') & (df['COD_CAT_N1_SMT']==cat1) & (df['COD_CAT_N2_SMT']==cat2)]['product'].values\n",
    "    collection_lider = df[(df['empresa']=='Lider') & (df['COD_CAT_N1_SMT']==cat1) & (df['COD_CAT_N2_SMT']==cat2)]['product'].values\n",
    "    collection_jumbo = df[(df['empresa']=='Jumbo') & (df['COD_CAT_N1_SMT']==cat1) & (df['COD_CAT_N2_SMT']==cat2)]['product'].values\n",
    "\n",
    "    products = df[(df['COD_CAT_N1_SMT']==cat1) & (df['COD_CAT_N2_SMT']==cat2)][['id', 'product', 'empresa']].drop_duplicates().values\n",
    "\n",
    "    for id, product, empresa in tqdm.tqdm(products):\n",
    "        results.append(matching(id, product, empresa, collection_tottus, collection_lider, collection_jumbo))\n",
    "\n",
    "\n",
    "    df_temp = pd.DataFrame(results, columns=['id', 'product', 'empresa', 'name_tottus', 'score_tottus', 'name_lider', 'score_lider', 'name_jumbo', 'score_jumbo'])\n",
    "\n",
    "    df_res = df_res.append(df_temp)\n",
    "\n",
    "    i = i+1"
   ]
  },
  {
   "cell_type": "code",
   "execution_count": 219,
   "metadata": {},
   "outputs": [],
   "source": [
    "df_matching = pd.read_excel('df_matching.xlsx')"
   ]
  },
  {
   "cell_type": "code",
   "execution_count": 221,
   "metadata": {},
   "outputs": [],
   "source": [
    "df_matching['product'] = df_matching['name'].astype(str) + ' ' +\\\n",
    "                df_matching['marca'].astype(str) + ' ' +\\\n",
    "                df_matching['formato'].astype(str)"
   ]
  },
  {
   "cell_type": "code",
   "execution_count": 222,
   "metadata": {},
   "outputs": [],
   "source": [
    "lines = df_matching['product'].tolist()\n",
    "\n",
    "# remove new lines\n",
    "lines = [line.rstrip('\\n') for line in lines]\n",
    "\n",
    "# make all characters lower\n",
    "lines = [line.lower() for line in lines]\n",
    "\n",
    "# remove punctuations from each line\n",
    "lines = [line.translate(str.maketrans('', '', string.punctuation)) for line in lines]\n",
    "\n",
    "# tokenize\n",
    "lines = [word_tokenize(line) for line in lines]\n",
    "    \n",
    "filtered_lines = remove_stopwords(lines = lines, sw = sw)\n",
    "\n",
    "filtered_lines = [TreebankWordDetokenizer().detokenize(line) for line in filtered_lines]"
   ]
  },
  {
   "cell_type": "code",
   "execution_count": 223,
   "metadata": {},
   "outputs": [],
   "source": [
    "df_matching['product'] = filtered_lines"
   ]
  },
  {
   "cell_type": "code",
   "execution_count": 224,
   "metadata": {},
   "outputs": [],
   "source": [
    "df_res = df_matching[df_res.columns].drop_duplicates()"
   ]
  },
  {
   "cell_type": "code",
   "execution_count": 518,
   "metadata": {},
   "outputs": [
    {
     "data": {
      "text/html": [
       "<div>\n",
       "<style scoped>\n",
       "    .dataframe tbody tr th:only-of-type {\n",
       "        vertical-align: middle;\n",
       "    }\n",
       "\n",
       "    .dataframe tbody tr th {\n",
       "        vertical-align: top;\n",
       "    }\n",
       "\n",
       "    .dataframe thead th {\n",
       "        text-align: right;\n",
       "    }\n",
       "</style>\n",
       "<table border=\"1\" class=\"dataframe\">\n",
       "  <thead>\n",
       "    <tr style=\"text-align: right;\">\n",
       "      <th></th>\n",
       "      <th>id</th>\n",
       "      <th>product</th>\n",
       "      <th>empresa</th>\n",
       "      <th>name_tottus</th>\n",
       "      <th>score_tottus</th>\n",
       "      <th>name_lider</th>\n",
       "      <th>score_lider</th>\n",
       "      <th>name_jumbo</th>\n",
       "      <th>score_jumbo</th>\n",
       "    </tr>\n",
       "  </thead>\n",
       "  <tbody>\n",
       "    <tr>\n",
       "      <th>0</th>\n",
       "      <td>T110606885</td>\n",
       "      <td>aceite vegetal tottus 900 cc nan 900 ml</td>\n",
       "      <td>Tottus</td>\n",
       "      <td>aceite vegetal tottus 900 cc 900 ml</td>\n",
       "      <td>100.0</td>\n",
       "      <td>aceite vegetal 900 ml romana 900 ml</td>\n",
       "      <td>72</td>\n",
       "      <td>aceite vegetal 900 ml natura 900 ml</td>\n",
       "      <td>72.0</td>\n",
       "    </tr>\n",
       "    <tr>\n",
       "      <th>1</th>\n",
       "      <td>T110615978</td>\n",
       "      <td>aceite vegetal belmont 1 l</td>\n",
       "      <td>Tottus</td>\n",
       "      <td>aceite vegetal belmont 1 l</td>\n",
       "      <td>100.0</td>\n",
       "      <td>aceite vegetal botella 1 l belmont 1 l</td>\n",
       "      <td>81</td>\n",
       "      <td>aceite vegetal 1 l belmont 1 l</td>\n",
       "      <td>93.0</td>\n",
       "    </tr>\n",
       "    <tr>\n",
       "      <th>4</th>\n",
       "      <td>T110607018</td>\n",
       "      <td>aceite oliva extra virgen 500 ml tottus 500 ml</td>\n",
       "      <td>Tottus</td>\n",
       "      <td>aceite oliva extra virgen 500 ml tottus 500 ml</td>\n",
       "      <td>100.0</td>\n",
       "      <td>aceite oliva extra virgen botella 500 ml olave...</td>\n",
       "      <td>81</td>\n",
       "      <td>aceite oliva extra virgen 500 ml trattoria 500 ml</td>\n",
       "      <td>89.0</td>\n",
       "    </tr>\n",
       "  </tbody>\n",
       "</table>\n",
       "</div>"
      ],
      "text/plain": [
       "           id                                         product empresa  \\\n",
       "0  T110606885         aceite vegetal tottus 900 cc nan 900 ml  Tottus   \n",
       "1  T110615978                      aceite vegetal belmont 1 l  Tottus   \n",
       "4  T110607018  aceite oliva extra virgen 500 ml tottus 500 ml  Tottus   \n",
       "\n",
       "                                      name_tottus  score_tottus  \\\n",
       "0             aceite vegetal tottus 900 cc 900 ml         100.0   \n",
       "1                      aceite vegetal belmont 1 l         100.0   \n",
       "4  aceite oliva extra virgen 500 ml tottus 500 ml         100.0   \n",
       "\n",
       "                                          name_lider  score_lider  \\\n",
       "0                aceite vegetal 900 ml romana 900 ml           72   \n",
       "1             aceite vegetal botella 1 l belmont 1 l           81   \n",
       "4  aceite oliva extra virgen botella 500 ml olave...           81   \n",
       "\n",
       "                                          name_jumbo  score_jumbo  \n",
       "0                aceite vegetal 900 ml natura 900 ml         72.0  \n",
       "1                     aceite vegetal 1 l belmont 1 l         93.0  \n",
       "4  aceite oliva extra virgen 500 ml trattoria 500 ml         89.0  "
      ]
     },
     "execution_count": 518,
     "metadata": {},
     "output_type": "execute_result"
    }
   ],
   "source": [
    "df_res.head(3)"
   ]
  },
  {
   "cell_type": "code",
   "execution_count": 836,
   "metadata": {},
   "outputs": [],
   "source": [
    "df_res_0 = pd.merge(df_res, df[['id', 'product', 'empresa', 'name', 'description', 'COD_CAT_N1_SMT', 'Categoría nivel 1 - Smartbuy', 'COD_CAT_N2_SMT', 'Categoría nivel 2 - Smartbuy', 'marca', 'formato', 'internet_price', 'image1', 'image2', 'image3']].drop_duplicates(), how='left', on=['id', 'product', 'empresa']).reset_index(drop=True)"
   ]
  },
  {
   "cell_type": "code",
   "execution_count": 837,
   "metadata": {},
   "outputs": [],
   "source": [
    "df_res_0 = df_res_0[['id', 'name', 'description', 'COD_CAT_N1_SMT', 'Categoría nivel 1 - Smartbuy', 'COD_CAT_N2_SMT', 'Categoría nivel 2 - Smartbuy', 'marca', 'formato', 'internet_price', 'image1', 'image2', 'image3', 'product', 'empresa', 'name_tottus', 'score_tottus', 'name_lider', 'score_lider', 'name_jumbo', 'score_jumbo']].drop_duplicates()"
   ]
  },
  {
   "cell_type": "code",
   "execution_count": 838,
   "metadata": {},
   "outputs": [
    {
     "data": {
      "text/html": [
       "<div>\n",
       "<style scoped>\n",
       "    .dataframe tbody tr th:only-of-type {\n",
       "        vertical-align: middle;\n",
       "    }\n",
       "\n",
       "    .dataframe tbody tr th {\n",
       "        vertical-align: top;\n",
       "    }\n",
       "\n",
       "    .dataframe thead th {\n",
       "        text-align: right;\n",
       "    }\n",
       "</style>\n",
       "<table border=\"1\" class=\"dataframe\">\n",
       "  <thead>\n",
       "    <tr style=\"text-align: right;\">\n",
       "      <th></th>\n",
       "      <th>id</th>\n",
       "      <th>product</th>\n",
       "      <th>empresa</th>\n",
       "      <th>name_tottus</th>\n",
       "      <th>score_tottus</th>\n",
       "      <th>name_lider</th>\n",
       "      <th>score_lider</th>\n",
       "      <th>name_jumbo</th>\n",
       "      <th>score_jumbo</th>\n",
       "    </tr>\n",
       "  </thead>\n",
       "  <tbody>\n",
       "    <tr>\n",
       "      <th>5</th>\n",
       "      <td>T110621059</td>\n",
       "      <td>aceite maravilla 1 lt chef 1 l</td>\n",
       "      <td>Tottus</td>\n",
       "      <td>aceite maravilla 1 lt chef 1 l</td>\n",
       "      <td>100</td>\n",
       "      <td>aceite maiz botella 1 l chef 1 l</td>\n",
       "      <td>84</td>\n",
       "      <td>aceite maravilla 1 l chef 1 l</td>\n",
       "      <td>98</td>\n",
       "    </tr>\n",
       "  </tbody>\n",
       "</table>\n",
       "</div>"
      ],
      "text/plain": [
       "           id                         product empresa  \\\n",
       "5  T110621059  aceite maravilla 1 lt chef 1 l  Tottus   \n",
       "\n",
       "                      name_tottus  score_tottus  \\\n",
       "5  aceite maravilla 1 lt chef 1 l           100   \n",
       "\n",
       "                         name_lider  score_lider  \\\n",
       "5  aceite maiz botella 1 l chef 1 l           84   \n",
       "\n",
       "                      name_jumbo  score_jumbo  \n",
       "5  aceite maravilla 1 l chef 1 l           98  "
      ]
     },
     "execution_count": 838,
     "metadata": {},
     "output_type": "execute_result"
    }
   ],
   "source": [
    "df_res[df_res['id']=='T110621059']"
   ]
  },
  {
   "cell_type": "code",
   "execution_count": 839,
   "metadata": {},
   "outputs": [
    {
     "data": {
      "text/plain": [
       "(792, 21)"
      ]
     },
     "execution_count": 839,
     "metadata": {},
     "output_type": "execute_result"
    }
   ],
   "source": [
    "df_res_0.shape"
   ]
  },
  {
   "cell_type": "code",
   "execution_count": 788,
   "metadata": {},
   "outputs": [],
   "source": [
    "df_res_1 = pd.merge(df_res_0, df[df['empresa']=='Tottus'][['product', 'marca', 'formato', 'internet_price']].rename(columns={'product': 'name_tottus',\n",
    "                                                                                                                                'marca': 'marca_tottus',\n",
    "                                                                                                                                'formato': 'formato_tottus',\n",
    "                                                                                                                                'internet_price': 'precio_tottus'}), how='left', on='name_tottus')"
   ]
  },
  {
   "cell_type": "code",
   "execution_count": 789,
   "metadata": {},
   "outputs": [
    {
     "data": {
      "text/plain": [
       "(26922, 24)"
      ]
     },
     "execution_count": 789,
     "metadata": {},
     "output_type": "execute_result"
    }
   ],
   "source": [
    "df_res_1.shape"
   ]
  },
  {
   "cell_type": "code",
   "execution_count": 790,
   "metadata": {},
   "outputs": [],
   "source": [
    "df_res_2 = pd.merge(df_res_1, df[df['empresa']=='Lider'][['product', 'marca', 'formato', 'internet_price']].rename(columns={'product': 'name_lider',\n",
    "                                                                                                                                'marca': 'marca_lider',\n",
    "                                                                                                                                'formato': 'formato_lider',\n",
    "                                                                                                                                'internet_price': 'precio_lider'}), how='left', on='name_lider')"
   ]
  },
  {
   "cell_type": "code",
   "execution_count": 791,
   "metadata": {},
   "outputs": [
    {
     "data": {
      "text/plain": [
       "(32503, 27)"
      ]
     },
     "execution_count": 791,
     "metadata": {},
     "output_type": "execute_result"
    }
   ],
   "source": [
    "df_res_2.shape"
   ]
  },
  {
   "cell_type": "code",
   "execution_count": 792,
   "metadata": {},
   "outputs": [],
   "source": [
    "df_res_3 = pd.merge(df_res_2, df[df['empresa']=='Jumbo'][['product', 'marca', 'formato', 'internet_price']].rename(columns={'product': 'name_jumbo',\n",
    "                                                                                                                                'marca': 'marca_jumbo',\n",
    "                                                                                                                                'formato': 'formato_jumbo',\n",
    "                                                                                                                                'internet_price': 'precio_jumbo'}), how='left', on='name_jumbo')"
   ]
  },
  {
   "cell_type": "code",
   "execution_count": 793,
   "metadata": {},
   "outputs": [
    {
     "data": {
      "text/plain": [
       "(32870, 30)"
      ]
     },
     "execution_count": 793,
     "metadata": {},
     "output_type": "execute_result"
    }
   ],
   "source": [
    "df_res_3.shape"
   ]
  },
  {
   "cell_type": "code",
   "execution_count": 794,
   "metadata": {},
   "outputs": [],
   "source": [
    "df_res_4 = df_res_3[['id', 'name', 'description', 'COD_CAT_N1_SMT', 'Categoría nivel 1 - Smartbuy', 'COD_CAT_N2_SMT', 'Categoría nivel 2 - Smartbuy', 'marca', 'formato', 'internet_price', 'image1', 'image2', 'image3', 'empresa', 'name_tottus', 'score_tottus', 'marca_tottus', 'formato_tottus', 'precio_tottus', 'name_lider', 'score_lider', 'marca_lider', 'formato_lider', 'precio_lider', 'name_jumbo', 'score_jumbo', 'marca_jumbo', 'formato_jumbo', 'precio_jumbo']].drop_duplicates()"
   ]
  },
  {
   "cell_type": "code",
   "execution_count": 795,
   "metadata": {},
   "outputs": [
    {
     "data": {
      "text/plain": [
       "(24525, 29)"
      ]
     },
     "execution_count": 795,
     "metadata": {},
     "output_type": "execute_result"
    }
   ],
   "source": [
    "df_res_4.shape"
   ]
  },
  {
   "cell_type": "code",
   "execution_count": 796,
   "metadata": {},
   "outputs": [],
   "source": [
    "df_res_4['score_fuzz_tottus'] = df_res_4['score_tottus'].copy()\n",
    "df_res_4['score_fuzz_lider'] = df_res_4['score_lider'].copy()\n",
    "df_res_4['score_fuzz_jumbo'] = df_res_4['score_jumbo'].copy()"
   ]
  },
  {
   "cell_type": "code",
   "execution_count": 797,
   "metadata": {},
   "outputs": [],
   "source": [
    "penalidad_formato = 5\n",
    "penalidad_marca = 2\n",
    "umbral_precio = 0.5\n",
    "penalidad_precio = 5\n",
    "\n",
    "df_res_4['penalidad_formato_tottus'] = np.where(df_res_4['formato'] == df_res_4['formato_tottus'], 0, penalidad_formato)\n",
    "df_res_4['penalidad_formato_lider'] = np.where(df_res_4['formato'] == df_res_4['formato_lider'], 0, penalidad_formato)\n",
    "df_res_4['penalidad_formato_jumbo'] = np.where(df_res_4['formato'] == df_res_4['formato_jumbo'], 0, penalidad_formato)\n",
    "\n",
    "df_res_4['penalidad_marca_tottus'] = np.where(df_res_4['marca'] == df_res_4['marca_tottus'], 0, penalidad_marca)\n",
    "df_res_4['penalidad_marca_lider'] = np.where(df_res_4['marca'] == df_res_4['marca_lider'], 0, penalidad_marca)\n",
    "df_res_4['penalidad_marca_jumbo'] = np.where(df_res_4['marca'] == df_res_4['marca_jumbo'], 0, penalidad_marca)\n",
    "\n",
    "df_res_4['penalidad_precio_tottus'] = np.where((abs((df_res_4['precio_tottus']-df_res_4['internet_price'])/df_res_4['internet_price'])<=umbral_precio), 0, penalidad_precio)\n",
    "df_res_4['penalidad_precio_lider'] = np.where((abs((df_res_4['precio_tottus']-df_res_4['internet_price'])/df_res_4['internet_price'])<=umbral_precio), 0, penalidad_precio)\n",
    "df_res_4['penalidad_precio_jumbo'] = np.where((abs((df_res_4['precio_tottus']-df_res_4['internet_price'])/df_res_4['internet_price'])<=umbral_precio), 0, penalidad_precio)\n",
    "\n",
    "df_res_4['score_tottus'] = df_res_4['score_fuzz_tottus'] - df_res_4['penalidad_formato_tottus'] - df_res_4['penalidad_marca_tottus'] - df_res_4['penalidad_precio_tottus']\n",
    "df_res_4['score_lider'] = df_res_4['score_fuzz_lider'] - df_res_4['penalidad_formato_lider'] - df_res_4['penalidad_marca_lider'] - df_res_4['penalidad_precio_lider']\n",
    "df_res_4['score_jumbo'] = df_res_4['score_fuzz_jumbo'] - df_res_4['penalidad_formato_jumbo'] - df_res_4['penalidad_marca_jumbo'] - df_res_4['penalidad_precio_jumbo']"
   ]
  },
  {
   "cell_type": "code",
   "execution_count": 798,
   "metadata": {},
   "outputs": [],
   "source": [
    "umbral_score = 60"
   ]
  },
  {
   "cell_type": "code",
   "execution_count": 799,
   "metadata": {},
   "outputs": [],
   "source": [
    "# Tottus\n",
    "df_res_4['name_tottus_inicial'] = df_res_4['name_tottus'].copy()\n",
    "df_res_4['score_tottus_inicial'] = df_res_4['score_tottus'].copy()\n",
    "df_res_4['marca_tottus_inicial'] = df_res_4['marca_tottus'].copy()\n",
    "df_res_4['formato_tottus_inicial'] = df_res_4['formato_tottus'].copy()\n",
    "df_res_4['precio_tottus_inicial'] = df_res_4['precio_tottus'].copy()\n",
    "\n",
    "df_res_4['name_tottus'] = np.where((df_res_4['score_tottus_inicial']>=umbral_score), df_res_4['name_tottus'], '')\n",
    "df_res_4['score_tottus'] = np.where((df_res_4['score_tottus_inicial']>=umbral_score), df_res_4['score_tottus'], np.nan)\n",
    "df_res_4['marca_tottus'] = np.where((df_res_4['score_tottus_inicial']>=umbral_score), df_res_4['marca_tottus'], '')\n",
    "df_res_4['formato_tottus'] = np.where((df_res_4['score_tottus_inicial']>=umbral_score), df_res_4['formato_tottus'], '')\n",
    "df_res_4['precio_tottus'] = np.where((df_res_4['score_tottus_inicial']>=umbral_score), df_res_4['precio_tottus'], np.nan)"
   ]
  },
  {
   "cell_type": "code",
   "execution_count": 800,
   "metadata": {},
   "outputs": [],
   "source": [
    "# Lider\n",
    "df_res_4['name_lider_inicial'] = df_res_4['name_lider'].copy()\n",
    "df_res_4['score_lider_inicial'] = df_res_4['score_lider'].copy()\n",
    "df_res_4['marca_lider_inicial'] = df_res_4['marca_lider'].copy()\n",
    "df_res_4['formato_lider_inicial'] = df_res_4['formato_lider'].copy()\n",
    "df_res_4['precio_lider_inicial'] = df_res_4['precio_lider'].copy()\n",
    "\n",
    "df_res_4['name_lider'] = np.where((df_res_4['score_lider_inicial']>=umbral_score), df_res_4['name_lider'], '')\n",
    "df_res_4['score_lider'] = np.where((df_res_4['score_lider_inicial']>=umbral_score), df_res_4['score_lider'], np.nan)\n",
    "df_res_4['marca_lider'] = np.where((df_res_4['score_lider_inicial']>=umbral_score), df_res_4['marca_lider'], '')\n",
    "df_res_4['formato_lider'] = np.where((df_res_4['score_lider_inicial']>=umbral_score), df_res_4['formato_lider'], '')\n",
    "df_res_4['precio_lider'] = np.where((df_res_4['score_lider_inicial']>=umbral_score), df_res_4['precio_lider'], np.nan)"
   ]
  },
  {
   "cell_type": "code",
   "execution_count": 801,
   "metadata": {},
   "outputs": [],
   "source": [
    "# Jumbo\n",
    "df_res_4['name_jumbo_inicial'] = df_res_4['name_jumbo'].copy()\n",
    "df_res_4['score_jumbo_inicial'] = df_res_4['score_jumbo'].copy()\n",
    "df_res_4['marca_jumbo_inicial'] = df_res_4['marca_jumbo'].copy()\n",
    "df_res_4['formato_jumbo_inicial'] = df_res_4['formato_jumbo'].copy()\n",
    "df_res_4['precio_jumbo_inicial'] = df_res_4['precio_jumbo'].copy()\n",
    "\n",
    "df_res_4['name_jumbo'] = np.where((df_res_4['score_jumbo_inicial']>=umbral_score), df_res_4['name_jumbo'], '')\n",
    "df_res_4['score_jumbo'] = np.where((df_res_4['score_jumbo_inicial']>=umbral_score), df_res_4['score_jumbo'], np.nan)\n",
    "df_res_4['marca_jumbo'] = np.where((df_res_4['score_jumbo_inicial']>=umbral_score), df_res_4['marca_jumbo'], '')\n",
    "df_res_4['formato_jumbo'] = np.where((df_res_4['score_jumbo_inicial']>=umbral_score), df_res_4['formato_jumbo'], '')\n",
    "df_res_4['precio_jumbo'] = np.where((df_res_4['score_jumbo_inicial']>=umbral_score), df_res_4['precio_jumbo'], np.nan)\n"
   ]
  },
  {
   "cell_type": "code",
   "execution_count": 802,
   "metadata": {},
   "outputs": [],
   "source": [
    "df_res_4 = df_res_4.drop_duplicates()"
   ]
  },
  {
   "cell_type": "code",
   "execution_count": 803,
   "metadata": {},
   "outputs": [],
   "source": [
    "df_res_4 = df_res_4.rename(columns={'COD_CAT_N1_SMT': 'cod_cat_n1_smt',\n",
    "                                    'Categoría nivel 1 - Smartbuy': 'categoria_nivel_1',\n",
    "                                    'COD_CAT_N2_SMT': 'cod_cat_n2_smt',\n",
    "                                    'Categoría nivel 2 - Smartbuy': 'categoria_nivel_2',\n",
    "                                    'internet_price': 'precio'})"
   ]
  },
  {
   "cell_type": "code",
   "execution_count": 804,
   "metadata": {},
   "outputs": [],
   "source": [
    "actual_date = str(datetime.now())[0:10]"
   ]
  },
  {
   "cell_type": "code",
   "execution_count": 805,
   "metadata": {},
   "outputs": [],
   "source": [
    "df_res_4.to_excel(ruta + f'/df_matching_total.xlsx'.format(actual_date), index=0)"
   ]
  },
  {
   "cell_type": "code",
   "execution_count": 806,
   "metadata": {},
   "outputs": [
    {
     "data": {
      "text/plain": [
       "(24525, 56)"
      ]
     },
     "execution_count": 806,
     "metadata": {},
     "output_type": "execute_result"
    }
   ],
   "source": [
    "df_res_4.shape"
   ]
  },
  {
   "cell_type": "code",
   "execution_count": 807,
   "metadata": {},
   "outputs": [
    {
     "data": {
      "text/plain": [
       "(23746, 29)"
      ]
     },
     "execution_count": 807,
     "metadata": {},
     "output_type": "execute_result"
    }
   ],
   "source": [
    "df_res_5 = df_res_4[['id', 'name', 'description', 'cod_cat_n1_smt', 'categoria_nivel_1', 'cod_cat_n2_smt', 'categoria_nivel_2', 'marca', 'formato', 'precio', 'image1', 'image2', 'image3', 'empresa', 'name_tottus', 'score_tottus', 'marca_tottus', 'formato_tottus', 'precio_tottus', 'name_lider', 'score_lider', 'marca_lider', 'formato_lider', 'precio_lider', 'name_jumbo', 'score_jumbo', 'marca_jumbo', 'formato_jumbo', 'precio_jumbo']].drop_duplicates()\n",
    "df_res_5.shape"
   ]
  },
  {
   "cell_type": "code",
   "execution_count": 808,
   "metadata": {},
   "outputs": [],
   "source": [
    "cols_key = ['id', 'cod_cat_n1_smt', 'cod_cat_n2_smt']\n",
    "cols_tottus = ['name_tottus', 'score_tottus', 'marca_tottus', 'formato_tottus', 'precio_tottus']\n",
    "cols_lider = ['name_lider', 'score_lider', 'marca_lider', 'formato_lider', 'precio_lider']\n",
    "cols_jumbo = ['name_jumbo', 'score_jumbo', 'marca_jumbo', 'formato_jumbo', 'precio_jumbo']"
   ]
  },
  {
   "cell_type": "code",
   "execution_count": 809,
   "metadata": {},
   "outputs": [
    {
     "data": {
      "text/plain": [
       "((22311, 8), (22311, 3))"
      ]
     },
     "execution_count": 809,
     "metadata": {},
     "output_type": "execute_result"
    }
   ],
   "source": [
    "# Tottus\n",
    "df_det_tottus = df_res_5[cols_key + cols_tottus]\n",
    "df_det_tottus.sort_values(['score_tottus'], ascending=[False], inplace=True)\n",
    "df_det_tottus['rank'] = 1\n",
    "df_det_tottus['rank'] = df_det_tottus.groupby(cols_key, dropna=False)['rank'].cumsum()\n",
    "df_det_tottus = df_det_tottus[df_det_tottus['rank']==1]\n",
    "del df_det_tottus['rank']\n",
    "df_det_tottus.shape, df_det_tottus[cols_key].drop_duplicates().shape"
   ]
  },
  {
   "cell_type": "code",
   "execution_count": 810,
   "metadata": {},
   "outputs": [
    {
     "data": {
      "text/plain": [
       "((22311, 8), (22311, 3))"
      ]
     },
     "execution_count": 810,
     "metadata": {},
     "output_type": "execute_result"
    }
   ],
   "source": [
    "# Lider\n",
    "df_det_lider = df_res_5[cols_key + cols_lider]\n",
    "df_det_lider.sort_values(['score_lider'], ascending=[False], inplace=True)\n",
    "df_det_lider['rank'] = 1\n",
    "df_det_lider['rank'] = df_det_lider.groupby(cols_key, dropna=False)['rank'].cumsum()\n",
    "df_det_lider = df_det_lider[df_det_lider['rank']==1]\n",
    "del df_det_lider['rank']\n",
    "df_det_lider.shape, df_det_lider[cols_key].drop_duplicates().shape"
   ]
  },
  {
   "cell_type": "code",
   "execution_count": 811,
   "metadata": {},
   "outputs": [
    {
     "data": {
      "text/plain": [
       "((22311, 8), (22311, 3))"
      ]
     },
     "execution_count": 811,
     "metadata": {},
     "output_type": "execute_result"
    }
   ],
   "source": [
    "# Jumbo\n",
    "df_det_jumbo = df_res_5[cols_key + cols_jumbo]\n",
    "df_det_jumbo.sort_values(['score_jumbo'], ascending=[False], inplace=True)\n",
    "df_det_jumbo['rank'] = 1\n",
    "df_det_jumbo['rank'] = df_det_jumbo.groupby(cols_key, dropna=False)['rank'].cumsum()\n",
    "df_det_jumbo = df_det_jumbo[df_det_jumbo['rank']==1]\n",
    "del df_det_jumbo['rank']\n",
    "df_det_jumbo.shape, df_det_jumbo[cols_key].drop_duplicates().shape"
   ]
  },
  {
   "cell_type": "code",
   "execution_count": 812,
   "metadata": {},
   "outputs": [
    {
     "data": {
      "text/plain": [
       "(22313, 14)"
      ]
     },
     "execution_count": 812,
     "metadata": {},
     "output_type": "execute_result"
    }
   ],
   "source": [
    "df_res_6 = df_res_5.drop(cols_tottus, axis=1).drop(cols_lider, axis=1).drop(cols_jumbo, axis=1).drop_duplicates()\n",
    "df_res_6.shape"
   ]
  },
  {
   "cell_type": "code",
   "execution_count": 813,
   "metadata": {},
   "outputs": [
    {
     "data": {
      "text/plain": [
       "((22311, 14), (22311, 3))"
      ]
     },
     "execution_count": 813,
     "metadata": {},
     "output_type": "execute_result"
    }
   ],
   "source": [
    "df_res_6.sort_values(['image1'], ascending=[True], inplace=True)\n",
    "df_res_6['rank'] = 1\n",
    "df_res_6['rank'] = df_res_6.groupby(cols_key, dropna=False)['rank'].cumsum()\n",
    "df_res_6 = df_res_6[df_res_6['rank']==1]\n",
    "del df_res_6['rank']\n",
    "df_res_6.shape, df_res_6[cols_key].drop_duplicates().shape"
   ]
  },
  {
   "cell_type": "code",
   "execution_count": 814,
   "metadata": {},
   "outputs": [],
   "source": [
    "df_res_7 = pd.merge(df_res_6, df_det_tottus, on=cols_key, how='left')\n",
    "df_res_8 = pd.merge(df_res_7, df_det_lider, on=cols_key, how='left')\n",
    "df_res_9 = pd.merge(df_res_8, df_det_jumbo, on=cols_key, how='left')"
   ]
  },
  {
   "cell_type": "code",
   "execution_count": 843,
   "metadata": {},
   "outputs": [
    {
     "data": {
      "text/plain": [
       "'/Users/cevalenciam/Library/CloudStorage/OneDrive-Personal/SmartBuy/smartbuy/homologacion-smartbuy'"
      ]
     },
     "execution_count": 843,
     "metadata": {},
     "output_type": "execute_result"
    }
   ],
   "source": [
    "ruta"
   ]
  },
  {
   "cell_type": "code",
   "execution_count": 845,
   "metadata": {},
   "outputs": [],
   "source": [
    "df_mmpp = pd.read_excel(ruta + '/../data/mmpp.xlsx')"
   ]
  },
  {
   "cell_type": "code",
   "execution_count": 846,
   "metadata": {},
   "outputs": [],
   "source": [
    "lista_mmpp = df_mmpp['mmpp'].values.tolist()"
   ]
  },
  {
   "cell_type": "code",
   "execution_count": 847,
   "metadata": {},
   "outputs": [
    {
     "data": {
      "text/plain": [
       "['lider', 'cuisine & co', 'tottus']"
      ]
     },
     "execution_count": 847,
     "metadata": {},
     "output_type": "execute_result"
    }
   ],
   "source": [
    "lista_mmpp"
   ]
  },
  {
   "cell_type": "code",
   "execution_count": 848,
   "metadata": {},
   "outputs": [],
   "source": [
    "df_res_9['flag_mmpp'] = 0"
   ]
  },
  {
   "cell_type": "code",
   "execution_count": 849,
   "metadata": {},
   "outputs": [],
   "source": [
    "for mmpp in lista_mmpp:\n",
    "    df_res_9['flag_mmpp'] = np.where(df_res_9['marca'].str.contains(mmpp), 1, df_res_9['flag_mmpp'])"
   ]
  },
  {
   "cell_type": "code",
   "execution_count": 850,
   "metadata": {},
   "outputs": [],
   "source": [
    "df_res_9['flag_mmpp'] = np.where(df_res_9['marca'].isnull(), 0, df_res_9['flag_mmpp'])"
   ]
  },
  {
   "cell_type": "code",
   "execution_count": 852,
   "metadata": {},
   "outputs": [],
   "source": [
    "df_final = df_res_9.copy()"
   ]
  },
  {
   "cell_type": "code",
   "execution_count": 853,
   "metadata": {},
   "outputs": [
    {
     "name": "stdout",
     "output_type": "stream",
     "text": [
      "(22311, 33)\n",
      "(22311, 5)\n"
     ]
    }
   ],
   "source": [
    "print(df_final.shape)\n",
    "\n",
    "print(df_final[['id', 'name', 'empresa', 'cod_cat_n1_smt', 'cod_cat_n2_smt']].drop_duplicates().shape)"
   ]
  },
  {
   "cell_type": "code",
   "execution_count": 855,
   "metadata": {},
   "outputs": [],
   "source": [
    "df_final[['id', 'name', 'description', 'cod_cat_n1_smt', 'categoria_nivel_1', 'cod_cat_n2_smt', 'categoria_nivel_2', 'marca', 'formato', 'precio', 'image1', 'image2', 'image3', 'empresa', 'name_tottus', 'score_tottus', 'marca_tottus', 'formato_tottus', 'precio_tottus', 'name_lider', 'score_lider', 'marca_lider', 'formato_lider', 'precio_lider', 'name_jumbo', 'score_jumbo', 'marca_jumbo', 'formato_jumbo', 'precio_jumbo', 'flag_mmpp']].drop_duplicates().to_excel(ruta + f'/df_matching.xlsx'.format(actual_date), index=0)"
   ]
  },
  {
   "cell_type": "code",
   "execution_count": null,
   "metadata": {},
   "outputs": [],
   "source": []
  }
 ],
 "metadata": {
  "kernelspec": {
   "display_name": "Python 3 (ipykernel)",
   "language": "python",
   "name": "python3"
  },
  "language_info": {
   "codemirror_mode": {
    "name": "ipython",
    "version": 3
   },
   "file_extension": ".py",
   "mimetype": "text/x-python",
   "name": "python",
   "nbconvert_exporter": "python",
   "pygments_lexer": "ipython3",
   "version": "3.8.0"
  }
 },
 "nbformat": 4,
 "nbformat_minor": 2
}
