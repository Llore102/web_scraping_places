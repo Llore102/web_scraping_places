{
 "cells": [
  {
   "cell_type": "code",
   "execution_count": 2,
   "metadata": {},
   "outputs": [],
   "source": [
    "import pandas as pd\n",
    "import glob"
   ]
  },
  {
   "cell_type": "code",
   "execution_count": 5,
   "metadata": {},
   "outputs": [],
   "source": [
    "df_tottus = pd.read_excel(\"web-scraper-tottus/Output/REPORTE_WS_TOTTUS.xlsx\", converters={'internet_price':str})"
   ]
  },
  {
   "cell_type": "code",
   "execution_count": 6,
   "metadata": {},
   "outputs": [
    {
     "data": {
      "text/plain": [
       "pais                0.00\n",
       "url_sku             0.00\n",
       "id                  0.02\n",
       "name                0.02\n",
       "description         0.02\n",
       "id_client           0.02\n",
       "cod_sku             0.02\n",
       "first_category      0.02\n",
       "second_category     0.02\n",
       "third_category      0.02\n",
       "category_1          0.65\n",
       "category_2          0.02\n",
       "attributes          0.02\n",
       "normal_price       78.97\n",
       "internet_price      0.02\n",
       "cmr_price          96.22\n",
       "url_image           0.38\n",
       "pixel_image         0.44\n",
       "ID_DIARUNNING       0.00\n",
       "dtype: float64"
      ]
     },
     "execution_count": 6,
     "metadata": {},
     "output_type": "execute_result"
    }
   ],
   "source": [
    "round(df_tottus.isnull().sum()/df_tottus.shape[0]*100, 2)"
   ]
  },
  {
   "cell_type": "code",
   "execution_count": null,
   "metadata": {},
   "outputs": [],
   "source": [
    "df_tottus = pd.read_excel(\"web-scraper-tottus/REPORTE_WS_TOTTUS.xlsx\", converters={'internet_price':str})"
   ]
  },
  {
   "cell_type": "code",
   "execution_count": 15,
   "metadata": {},
   "outputs": [
    {
     "data": {
      "text/plain": [
       "6601"
      ]
     },
     "execution_count": 15,
     "metadata": {},
     "output_type": "execute_result"
    }
   ],
   "source": [
    "df_tottus.shape[0]"
   ]
  },
  {
   "cell_type": "code",
   "execution_count": null,
   "metadata": {},
   "outputs": [
    {
     "data": {
      "text/plain": [
       "pais                0.00\n",
       "url_sku             0.00\n",
       "id                  0.02\n",
       "name                0.02\n",
       "description         0.02\n",
       "id_client           0.02\n",
       "cod_sku             0.02\n",
       "first_category      0.02\n",
       "second_category     0.02\n",
       "third_category      0.02\n",
       "category_1          0.82\n",
       "category_2          0.02\n",
       "attributes          0.03\n",
       "normal_price       76.93\n",
       "internet_price      0.02\n",
       "cmr_price          95.88\n",
       "url_image           1.62\n",
       "pixel_image         1.74\n",
       "ID_DIARUNNING       0.00\n",
       "dtype: float64"
      ]
     },
     "metadata": {},
     "output_type": "display_data"
    }
   ],
   "source": [
    "round(df_tottus.isnull().sum()/df_tottus.shape[0]*100, 2)"
   ]
  },
  {
   "cell_type": "code",
   "execution_count": 11,
   "metadata": {},
   "outputs": [],
   "source": [
    "filenames = glob.glob(\"web-scraper-lider/Output/REPORTE_WS_*\")\n",
    "df_lider = pd.concat(pd.read_excel(file, converters={'internet_price':str}) for file in filenames).reset_index(drop=True)"
   ]
  },
  {
   "cell_type": "code",
   "execution_count": 16,
   "metadata": {},
   "outputs": [
    {
     "data": {
      "text/plain": [
       "55544"
      ]
     },
     "execution_count": 16,
     "metadata": {},
     "output_type": "execute_result"
    }
   ],
   "source": [
    "df_lider.shape[0]"
   ]
  },
  {
   "cell_type": "code",
   "execution_count": 12,
   "metadata": {},
   "outputs": [
    {
     "data": {
      "text/plain": [
       "pais                 0.00\n",
       "url_sku              0.00\n",
       "id                   0.25\n",
       "name                 0.25\n",
       "description        100.00\n",
       "id_client            0.25\n",
       "cod_sku              0.25\n",
       "first_category       0.25\n",
       "second_category      0.25\n",
       "third_category       0.25\n",
       "category_1           0.25\n",
       "category_2           0.25\n",
       "attributes           0.25\n",
       "normal_price        77.37\n",
       "internet_price       0.25\n",
       "cmr_price          100.00\n",
       "url_image          100.00\n",
       "pixel_image        100.00\n",
       "ID_DIARUNNING        0.00\n",
       "dtype: float64"
      ]
     },
     "execution_count": 12,
     "metadata": {},
     "output_type": "execute_result"
    }
   ],
   "source": [
    "round(df_lider.isnull().sum()/df_lider.shape[0]*100, 2)"
   ]
  },
  {
   "cell_type": "code",
   "execution_count": 13,
   "metadata": {},
   "outputs": [],
   "source": [
    "filenames = glob.glob(\"web-scraper-jumbo/Output/REPORTE_WS_*\")\n",
    "df_jumbo = pd.concat(pd.read_excel(file, converters={'internet_price':str}) for file in filenames).reset_index(drop=True)"
   ]
  },
  {
   "cell_type": "code",
   "execution_count": 17,
   "metadata": {},
   "outputs": [
    {
     "data": {
      "text/plain": [
       "30573"
      ]
     },
     "execution_count": 17,
     "metadata": {},
     "output_type": "execute_result"
    }
   ],
   "source": [
    "df_jumbo.shape[0]"
   ]
  },
  {
   "cell_type": "code",
   "execution_count": 14,
   "metadata": {},
   "outputs": [
    {
     "data": {
      "text/plain": [
       "pais                 0.00\n",
       "url_sku              0.00\n",
       "id                   0.20\n",
       "name                 0.20\n",
       "description          4.82\n",
       "id_client            0.20\n",
       "cod_sku              0.20\n",
       "first_category       0.20\n",
       "second_category      0.20\n",
       "third_category       0.20\n",
       "category_1           0.20\n",
       "category_2           0.20\n",
       "attributes           0.20\n",
       "normal_price        82.71\n",
       "internet_price       0.24\n",
       "cmr_price          100.00\n",
       "url_image            0.20\n",
       "pixel_image          0.23\n",
       "ID_DIARUNNING        0.00\n",
       "dtype: float64"
      ]
     },
     "execution_count": 14,
     "metadata": {},
     "output_type": "execute_result"
    }
   ],
   "source": [
    "round(df_jumbo.isnull().sum()/df_jumbo.shape[0]*100, 2)"
   ]
  },
  {
   "cell_type": "code",
   "execution_count": null,
   "metadata": {},
   "outputs": [],
   "source": []
  }
 ],
 "metadata": {
  "kernelspec": {
   "display_name": "Python 3",
   "language": "python",
   "name": "python3"
  },
  "language_info": {
   "codemirror_mode": {
    "name": "ipython",
    "version": 3
   },
   "file_extension": ".py",
   "mimetype": "text/x-python",
   "name": "python",
   "nbconvert_exporter": "python",
   "pygments_lexer": "ipython3",
   "version": "3.8.0"
  },
  "orig_nbformat": 4
 },
 "nbformat": 4,
 "nbformat_minor": 2
}
