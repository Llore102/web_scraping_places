{
 "cells": [
  {
   "cell_type": "code",
   "execution_count": 13,
   "metadata": {},
   "outputs": [],
   "source": [
    "from selenium import webdriver\n",
    "from selenium.webdriver.chrome.service import Service as ChromeService\n",
    "from selenium.webdriver.support import expected_conditions as ec\n",
    "from selenium.webdriver.common.by import By\n",
    "from selenium.webdriver.support.ui import WebDriverWait as wait\n",
    "from selenium.webdriver.chrome.options import Options\n",
    "\n",
    "import tqdm\n",
    "\n",
    "import re\n",
    "\n",
    "import numpy as np\n",
    "import pandas as pd\n",
    "\n",
    "from datetime import datetime\n",
    "\n",
    "import time\n",
    "import os\n",
    "\n",
    "import ssl\n",
    "ssl._create_default_https_context = ssl._create_unverified_context"
   ]
  },
  {
   "cell_type": "code",
   "execution_count": 2,
   "metadata": {},
   "outputs": [],
   "source": [
    "ruta = os.getcwd()"
   ]
  },
  {
   "cell_type": "code",
   "execution_count": 3,
   "metadata": {},
   "outputs": [
    {
     "data": {
      "text/plain": [
       "'/Users/cevalenciam/Library/CloudStorage/OneDrive-Personal/SmartBuy/smartbuy/web-scraper-lider'"
      ]
     },
     "execution_count": 3,
     "metadata": {},
     "output_type": "execute_result"
    }
   ],
   "source": [
    "ruta"
   ]
  },
  {
   "cell_type": "code",
   "execution_count": 4,
   "metadata": {},
   "outputs": [],
   "source": [
    "url = 'https://www.lider.cl/tiendas'"
   ]
  },
  {
   "cell_type": "code",
   "execution_count": 14,
   "metadata": {},
   "outputs": [],
   "source": [
    "def get_driver():\n",
    "    chrome_options = Options()\n",
    "    chrome_options.add_argument(\"--headless\")\n",
    "    prefs = {\"profile.default_content_setting_values.notifications\" : 2}\n",
    "    chrome_options.add_experimental_option(\"prefs\",prefs)\n",
    "    s = ChromeService(\"chromedriver\")\n",
    "    driver = webdriver.Chrome(service=s, options=chrome_options)\n",
    "    driver.maximize_window()\n",
    "    return driver"
   ]
  },
  {
   "cell_type": "code",
   "execution_count": 16,
   "metadata": {},
   "outputs": [
    {
     "name": "stderr",
     "output_type": "stream",
     "text": [
      "100%|██████████| 38/38 [00:54<00:00,  1.44s/it]\n"
     ]
    }
   ],
   "source": [
    "driver = get_driver()\n",
    "\n",
    "list_direcciones = list()\n",
    "\n",
    "driver.get(url)\n",
    "\n",
    "try:\n",
    "\n",
    "    wait(driver, 32).until(ec.presence_of_element_located((By.XPATH, \"/html/body/div[@id='placeholder']/iframe\")))\n",
    "\n",
    "    iframe = driver.find_element(By.XPATH, \"/html/body/div[@id='placeholder']/iframe\")\n",
    "\n",
    "    # switch to selected iframe\n",
    "    driver.switch_to.frame(iframe)\n",
    "\n",
    "    wait(driver, 32).until(ec.presence_of_element_located((By.XPATH, \"/html/body/div[@class='container-landing']/div[@class='content-info']/div[@class='table-responsive']/div[@id='dtBasicExample_wrapper']/div[@id='dtBasicExample_info']\")))\n",
    "    per_page_count = driver.find_elements(\"xpath\", \"/html/body/div[@class='container-landing']/div[@class='content-info']/div[@class='table-responsive']/div[@id='dtBasicExample_wrapper']/div[@id='dtBasicExample_info']\")[0].text\n",
    "    per_page_count_list = [int(s) for s in re.findall(r'-?\\d+\\.?\\d*', per_page_count)]\n",
    "    per_page = per_page_count_list[1]\n",
    "    count = per_page_count_list[2]\n",
    "    n_paginas = int(np.ceil(count/per_page))\n",
    "\n",
    "    for i in tqdm.tqdm(range(n_paginas-1)):\n",
    "        \n",
    "        wait(driver, 32).until(ec.presence_of_element_located((By.XPATH, \"/html/body/div[@class='container-landing']/div[@class='content-info']/div[@class='table-responsive']/div[@id='dtBasicExample_wrapper']/table[@id='dtBasicExample']/tbody/tr\")))\n",
    "        rows = driver.find_elements(\"xpath\", \"/html/body/div[@class='container-landing']/div[@class='content-info']/div[@class='table-responsive']/div[@id='dtBasicExample_wrapper']/table[@id='dtBasicExample']/tbody/tr\")\n",
    "\n",
    "        for row in rows:\n",
    "            supermercado = row.find_elements(\"xpath\", \"td[1]\")[0].text\n",
    "            comuna = row.find_elements(\"xpath\", \"td[2]\")[0].text\n",
    "            direccion = row.find_elements(\"xpath\", \"td[3]\")[0].text\n",
    "            disponibilidad = row.find_elements(\"xpath\", \"td[4]\")[0].text\n",
    "            region = row.find_elements(\"xpath\", \"td[5]\")[0].text\n",
    "            hora_apertura = row.find_elements(\"xpath\", \"td[6]\")[0].text\n",
    "            hora_cierre = row.find_elements(\"xpath\", \"td[7]\")[0].text\n",
    "\n",
    "            list_direcciones.append([supermercado, comuna, direccion, disponibilidad, region, hora_apertura, hora_cierre])\n",
    "\n",
    "        wait(driver, 32).until(ec.presence_of_element_located((By.XPATH, \"/html/body/div[@class='container-landing']/div[@class='content-info']/div[@class='table-responsive']/div[@id='dtBasicExample_wrapper']/div[@class='dataTables_paginate paging_simple_numbers']/a[@id='dtBasicExample_next']\")))\n",
    "        boton = driver.find_elements(\"xpath\", \"/html/body/div[@class='container-landing']/div[@class='content-info']/div[@class='table-responsive']/div[@id='dtBasicExample_wrapper']/div[@class='dataTables_paginate paging_simple_numbers']/a[@id='dtBasicExample_next']\")[0]\n",
    "        boton.click()\n",
    "        \n",
    "        \n",
    "except:\n",
    "    print(\"Cantidad de páginas no encontradas\")\n",
    "\n",
    "driver.close()"
   ]
  },
  {
   "cell_type": "code",
   "execution_count": 7,
   "metadata": {},
   "outputs": [
    {
     "data": {
      "text/plain": [
       "[['Central Mayorista',\n",
       "  'Puente Alto',\n",
       "  'Ramón Nuñez 036, Puente Alto',\n",
       "  'Cerrado',\n",
       "  'Metropolitana',\n",
       "  '',\n",
       "  ''],\n",
       " ['Central Mayorista',\n",
       "  'Conchalí',\n",
       "  'Catorce de La Fama 2841',\n",
       "  'Cerrado',\n",
       "  'Metropolitana',\n",
       "  '',\n",
       "  '']]"
      ]
     },
     "execution_count": 7,
     "metadata": {},
     "output_type": "execute_result"
    }
   ],
   "source": [
    "list_direcciones[-2:]"
   ]
  },
  {
   "cell_type": "code",
   "execution_count": 5,
   "metadata": {},
   "outputs": [
    {
     "ename": "NameError",
     "evalue": "name 'get_driver' is not defined",
     "output_type": "error",
     "traceback": [
      "\u001b[0;31m---------------------------------------------------------------------------\u001b[0m",
      "\u001b[0;31mNameError\u001b[0m                                 Traceback (most recent call last)",
      "Cell \u001b[0;32mIn[5], line 3\u001b[0m\n\u001b[1;32m      1\u001b[0m list_direcciones_final \u001b[39m=\u001b[39m []\n\u001b[0;32m----> 3\u001b[0m driver \u001b[39m=\u001b[39m get_driver()\n\u001b[1;32m      5\u001b[0m \u001b[39mfor\u001b[39;00m s, c, \u001b[39mdir\u001b[39m, dis, r, ha, hc \u001b[39min\u001b[39;00m tqdm\u001b[39m.\u001b[39mtqdm(list_direcciones):\n\u001b[1;32m      7\u001b[0m     direccion \u001b[39m=\u001b[39m \u001b[39mdir\u001b[39m \u001b[39m+\u001b[39m \u001b[39m'\u001b[39m\u001b[39m, \u001b[39m\u001b[39m'\u001b[39m \u001b[39m+\u001b[39m c \u001b[39m+\u001b[39m \u001b[39m\"\u001b[39m\u001b[39m, \u001b[39m\u001b[39m\"\u001b[39m \u001b[39m+\u001b[39m r \u001b[39m+\u001b[39m \u001b[39m\"\u001b[39m\u001b[39m, Chile, Lider\u001b[39m\u001b[39m\"\u001b[39m\n",
      "\u001b[0;31mNameError\u001b[0m: name 'get_driver' is not defined"
     ]
    }
   ],
   "source": [
    "list_direcciones_final = []\n",
    "\n",
    "driver = get_driver()\n",
    "\n",
    "for s, c, dir, dis, r, ha, hc in tqdm.tqdm(list_direcciones):\n",
    "\n",
    "    direccion = dir + ', ' + c + \", \" + r + \", Chile, Lider\"\n",
    "\n",
    "    driver.get(\"https://www.google.com/maps/search/\"+direccion)\n",
    "\n",
    "    time.sleep(3)\n",
    "\n",
    "    try:\n",
    "        wait(driver, 4).until(ec.visibility_of_element_located((By.XPATH, \"html/body/div[@id='app-container']/div[@id='content-container']/div[@id='QA0Szd']/div/div[@class='XltNde tTVLSc']/div[@class='w6VYqd']/div[@class='bJzME tTVLSc']/div[@class='k7jAl lJ3Kh miFGmb']/div[@tabindex='-1']/div[@class='aIFcqe']/div[@class='m6QErb WNBkOb ']/div[@class='TIHn2 ']/div[@class='tAiQdd']/div[@class='lMbq3e']\")))\n",
    "\n",
    "        coordenadas = driver.find_element(By.CSS_SELECTOR, 'meta[itemprop=image]').get_attribute('content')\n",
    "\n",
    "        latitud = float(coordenadas[coordenadas.find('-'):coordenadas.find(\"%\")])\n",
    "        longitud =float(coordenadas[coordenadas.find('-', coordenadas.find(\"-\")+1):coordenadas.find(\"&\")])\n",
    "\n",
    "        wait(driver, 4).until(ec.visibility_of_element_located((By.XPATH, \"html/body/div[@id='app-container']/div[@id='content-container']/div[@id='QA0Szd']/div/div[@class='XltNde tTVLSc']/div[@class='w6VYqd']/div[@class='bJzME tTVLSc']/div[@class='k7jAl lJ3Kh miFGmb']/div[@tabindex='-1']/div[@class='aIFcqe']/div[@class='m6QErb WNBkOb ']/div[@class='ZKCDEc']/div[@class='RZ66Rb FgCUCc']/button[@class='aoRNLd kn2E5e NMjTrf lvtCsd ']/img\")))\n",
    "        imagen = driver.find_element(By.XPATH, \"html/body/div[@id='app-container']/div[@id='content-container']/div[@id='QA0Szd']/div/div[@class='XltNde tTVLSc']/div[@class='w6VYqd']/div[@class='bJzME tTVLSc']/div[@class='k7jAl lJ3Kh miFGmb']/div[@tabindex='-1']/div[@class='aIFcqe']/div[@class='m6QErb WNBkOb ']/div[@class='ZKCDEc']/div[@class='RZ66Rb FgCUCc']/button[@class='aoRNLd kn2E5e NMjTrf lvtCsd ']/img\").get_attribute('src')\n",
    "\n",
    "        comentario = 'Dirección encontrada'\n",
    "    \n",
    "    except:\n",
    "\n",
    "        try:\n",
    "            wait(driver, 4).until(ec.element_to_be_clickable((By.CLASS_NAME, \"hfpxzc\")))\n",
    "            boton = driver.find_element(By.CLASS_NAME, \"hfpxzc\")\n",
    "            boton.click()\n",
    "\n",
    "            time.sleep(3)\n",
    "\n",
    "            coordenadas = driver.find_element(By.CSS_SELECTOR, 'meta[itemprop=image]').get_attribute('content')\n",
    "\n",
    "            latitud = float(coordenadas[coordenadas.find('-'):coordenadas.find(\"%\")])\n",
    "            longitud =float(coordenadas[coordenadas.find('-', coordenadas.find(\"-\")+1):coordenadas.find(\"&\")])\n",
    "\n",
    "            wait(driver, 4).until(ec.visibility_of_element_located((By.XPATH, \"html/body/div[@id='app-container']/div[@id='content-container']/div[@id='QA0Szd']/div/div[@class='XltNde tTVLSc']/div[@class='w6VYqd']/div[@class='bJzME Hu9e2e tTVLSc']/div[@class='k7jAl lJ3Kh miFGmb']/div[@tabindex='-1']/div[@class='aIFcqe']/div[@class='m6QErb WNBkOb ']/div[@class='m6QErb DxyBCb kA9KIf dS8AEf ']/div[@class='ZKCDEc']/div[@class='RZ66Rb FgCUCc']/button[@class='aoRNLd kn2E5e NMjTrf lvtCsd ']/img\")))\n",
    "            imagen = driver.find_element(By.XPATH, \"html/body/div[@id='app-container']/div[@id='content-container']/div[@id='QA0Szd']/div/div[@class='XltNde tTVLSc']/div[@class='w6VYqd']/div[@class='bJzME Hu9e2e tTVLSc']/div[@class='k7jAl lJ3Kh miFGmb']/div[@tabindex='-1']/div[@class='aIFcqe']/div[@class='m6QErb WNBkOb ']/div[@class='m6QErb DxyBCb kA9KIf dS8AEf ']/div[@class='ZKCDEc']/div[@class='RZ66Rb FgCUCc']/button[@class='aoRNLd kn2E5e NMjTrf lvtCsd ']/img\").get_attribute('src')\n",
    "\n",
    "            comentario = 'Más de una dirección encontrada, toma la primera'\n",
    "            \n",
    "            print(comentario)\n",
    "\n",
    "        except:\n",
    "            \n",
    "            comentario = \"Dirección no encontrada\"\n",
    "            print(comentario)\n",
    "        \n",
    "            latitud = np.nan\n",
    "            longitud = np.nan\n",
    "\n",
    "            imagen = ''\n",
    "            \n",
    "            driver.get(\"https://www.google.com/maps\")\n",
    "\n",
    "    list_direcciones_final.append([s, c, dir, dis, r, ha, hc, imagen, latitud, longitud, comentario])\n",
    "    \n",
    "driver.close()"
   ]
  },
  {
   "cell_type": "code",
   "execution_count": 9,
   "metadata": {},
   "outputs": [],
   "source": [
    "df_tiendas_lider = pd.DataFrame(list_direcciones_final, columns=['supermercado', 'comuna', 'direccion', 'disponibilidad', 'region', 'hora_apertura', 'hora_cierre', 'imagen', 'latitud', 'longitud', 'comentario'])"
   ]
  },
  {
   "cell_type": "code",
   "execution_count": 10,
   "metadata": {},
   "outputs": [
    {
     "data": {
      "text/html": [
       "<div>\n",
       "<style scoped>\n",
       "    .dataframe tbody tr th:only-of-type {\n",
       "        vertical-align: middle;\n",
       "    }\n",
       "\n",
       "    .dataframe tbody tr th {\n",
       "        vertical-align: top;\n",
       "    }\n",
       "\n",
       "    .dataframe thead th {\n",
       "        text-align: right;\n",
       "    }\n",
       "</style>\n",
       "<table border=\"1\" class=\"dataframe\">\n",
       "  <thead>\n",
       "    <tr style=\"text-align: right;\">\n",
       "      <th></th>\n",
       "      <th>supermercado</th>\n",
       "      <th>comuna</th>\n",
       "      <th>direccion</th>\n",
       "      <th>disponibilidad</th>\n",
       "      <th>region</th>\n",
       "      <th>hora_apertura</th>\n",
       "      <th>hora_cierre</th>\n",
       "      <th>imagen</th>\n",
       "      <th>latitud</th>\n",
       "      <th>longitud</th>\n",
       "      <th>comentario</th>\n",
       "    </tr>\n",
       "  </thead>\n",
       "  <tbody>\n",
       "    <tr>\n",
       "      <th>0</th>\n",
       "      <td>Express de Lider</td>\n",
       "      <td>Renca</td>\n",
       "      <td>San Diego 219, Santiago</td>\n",
       "      <td>Abierto</td>\n",
       "      <td>Metropolitana</td>\n",
       "      <td>08:00</td>\n",
       "      <td>21:30</td>\n",
       "      <td>https://lh5.googleusercontent.com/p/AF1QipNcMr...</td>\n",
       "      <td>-33.447774</td>\n",
       "      <td>-70.651169</td>\n",
       "      <td>Dirección encontrada</td>\n",
       "    </tr>\n",
       "    <tr>\n",
       "      <th>1</th>\n",
       "      <td>Express de Lider</td>\n",
       "      <td>Santiago</td>\n",
       "      <td>Curicó 517, Santiago</td>\n",
       "      <td>Abierto</td>\n",
       "      <td>Metropolitana</td>\n",
       "      <td>08:00</td>\n",
       "      <td>21:30</td>\n",
       "      <td>https://lh5.googleusercontent.com/p/AF1QipOznS...</td>\n",
       "      <td>-33.446068</td>\n",
       "      <td>-70.643188</td>\n",
       "      <td>Dirección encontrada</td>\n",
       "    </tr>\n",
       "    <tr>\n",
       "      <th>2</th>\n",
       "      <td>Express de Lider</td>\n",
       "      <td>Santiago</td>\n",
       "      <td>San Pablo 2902, Santiago</td>\n",
       "      <td>Abierto</td>\n",
       "      <td>Metropolitana</td>\n",
       "      <td>08:00</td>\n",
       "      <td>21:30</td>\n",
       "      <td>https://lh5.googleusercontent.com/p/AF1QipNoxJ...</td>\n",
       "      <td>-33.435443</td>\n",
       "      <td>-70.673451</td>\n",
       "      <td>Más de una dirección encontrada, toma la primera</td>\n",
       "    </tr>\n",
       "  </tbody>\n",
       "</table>\n",
       "</div>"
      ],
      "text/plain": [
       "       supermercado    comuna                 direccion disponibilidad  \\\n",
       "0  Express de Lider     Renca   San Diego 219, Santiago        Abierto   \n",
       "1  Express de Lider  Santiago      Curicó 517, Santiago        Abierto   \n",
       "2  Express de Lider  Santiago  San Pablo 2902, Santiago        Abierto   \n",
       "\n",
       "          region hora_apertura hora_cierre  \\\n",
       "0  Metropolitana         08:00       21:30   \n",
       "1  Metropolitana         08:00       21:30   \n",
       "2  Metropolitana         08:00       21:30   \n",
       "\n",
       "                                              imagen    latitud   longitud  \\\n",
       "0  https://lh5.googleusercontent.com/p/AF1QipNcMr... -33.447774 -70.651169   \n",
       "1  https://lh5.googleusercontent.com/p/AF1QipOznS... -33.446068 -70.643188   \n",
       "2  https://lh5.googleusercontent.com/p/AF1QipNoxJ... -33.435443 -70.673451   \n",
       "\n",
       "                                         comentario  \n",
       "0                              Dirección encontrada  \n",
       "1                              Dirección encontrada  \n",
       "2  Más de una dirección encontrada, toma la primera  "
      ]
     },
     "execution_count": 10,
     "metadata": {},
     "output_type": "execute_result"
    }
   ],
   "source": [
    "df_tiendas_lider.head(3)"
   ]
  },
  {
   "cell_type": "code",
   "execution_count": 12,
   "metadata": {},
   "outputs": [],
   "source": [
    "actual_date = str(datetime.now())[0:10]\n",
    "\n",
    "df_tiendas_lider.to_excel(ruta + f'/df_tiendas_lider.xlsx'.format(actual_date), index=0)"
   ]
  },
  {
   "cell_type": "code",
   "execution_count": null,
   "metadata": {},
   "outputs": [],
   "source": []
  }
 ],
 "metadata": {
  "kernelspec": {
   "display_name": "Python 3",
   "language": "python",
   "name": "python3"
  },
  "language_info": {
   "codemirror_mode": {
    "name": "ipython",
    "version": 3
   },
   "file_extension": ".py",
   "mimetype": "text/x-python",
   "name": "python",
   "nbconvert_exporter": "python",
   "pygments_lexer": "ipython3",
   "version": "3.8.8"
  },
  "vscode": {
   "interpreter": {
    "hash": "aee8b7b246df8f9039afb4144a1f6fd8d2ca17a180786b69acc140d282b71a49"
   }
  }
 },
 "nbformat": 4,
 "nbformat_minor": 2
}
