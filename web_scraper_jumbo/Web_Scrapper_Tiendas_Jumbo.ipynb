{
 "cells": [
  {
   "cell_type": "code",
   "execution_count": 1,
   "metadata": {},
   "outputs": [],
   "source": [
    "from selenium import webdriver\n",
    "from selenium.webdriver.chrome.service import Service as ChromeService\n",
    "from selenium.webdriver.support import expected_conditions as ec\n",
    "from selenium.webdriver.common.by import By\n",
    "from selenium.webdriver.support.ui import WebDriverWait as wait\n",
    "from selenium.webdriver.chrome.options import Options\n",
    "\n",
    "import tqdm\n",
    "\n",
    "import numpy as np\n",
    "import pandas as pd\n",
    "\n",
    "from datetime import datetime\n",
    "\n",
    "import time\n",
    "import os\n",
    "\n",
    "import ssl\n",
    "ssl._create_default_https_context = ssl._create_unverified_context"
   ]
  },
  {
   "cell_type": "code",
   "execution_count": 2,
   "metadata": {},
   "outputs": [],
   "source": [
    "ruta = os.getcwd()"
   ]
  },
  {
   "cell_type": "code",
   "execution_count": 3,
   "metadata": {},
   "outputs": [
    {
     "data": {
      "text/plain": [
       "'/Users/cevalenciam/Library/CloudStorage/OneDrive-Personal/SmartBuy/smartbuy/web-scraper-jumbo'"
      ]
     },
     "execution_count": 3,
     "metadata": {},
     "output_type": "execute_result"
    }
   ],
   "source": [
    "ruta"
   ]
  },
  {
   "cell_type": "code",
   "execution_count": 4,
   "metadata": {},
   "outputs": [],
   "source": [
    "url = 'https://www.jumbo.cl/locales'"
   ]
  },
  {
   "cell_type": "code",
   "execution_count": 5,
   "metadata": {},
   "outputs": [],
   "source": [
    "def get_driver():\n",
    "    chrome_options = Options()\n",
    "    chrome_options.add_argument(\"--headless\")\n",
    "    prefs = {\"profile.default_content_setting_values.notifications\" : 2}\n",
    "    chrome_options.add_experimental_option(\"prefs\",prefs)\n",
    "    s = ChromeService(\"chromedriver\")\n",
    "    driver = webdriver.Chrome(service=s, options=chrome_options)\n",
    "    driver.maximize_window()\n",
    "    return driver"
   ]
  },
  {
   "cell_type": "code",
   "execution_count": 6,
   "metadata": {},
   "outputs": [],
   "source": [
    "driver = get_driver()\n",
    "\n",
    "list_direcciones = list()\n",
    "\n",
    "driver.get(url)\n",
    "\n",
    "try:\n",
    "\n",
    "    wait(driver, 32).until(ec.presence_of_element_located((By.XPATH, \"html/body/div[@id='root']/div[@class='app-content']/div[@class='localities-page page']/main[@class='localities-page-container']/div[@class='slider paginator-slider']/div[@class='slides']/button\")))\n",
    "    pages = driver.find_elements(\"xpath\", \"html/body/div[@id='root']/div[@class='app-content']/div[@class='localities-page page']/main[@class='localities-page-container']/div[@class='slider paginator-slider']/div[@class='slides']/button\")\n",
    "    n_paginas = len(pages)\n",
    "\n",
    "    for i in tqdm.tqdm(range(1, n_paginas+1)):\n",
    "\n",
    "        if i>1:\n",
    "\n",
    "            boton = driver.find_elements(\"xpath\", \"html/body/div[@id='root']/div[@class='app-content']/div[@class='localities-page page']/main[@class='localities-page-container']/div[@class='slider paginator-slider']/div[@class='slides']/button[\"+str(i)+\"]\")[0]\n",
    "            \n",
    "            #scroll para visualizar\n",
    "            driver.execute_script(\"arguments[0].scrollIntoView();\", boton)\n",
    "\n",
    "            time.sleep(2)\n",
    "\n",
    "            boton.click()\n",
    "\n",
    "            time.sleep(3)\n",
    "        \n",
    "        wait(driver, 64).until(ec.presence_of_element_located((By.XPATH, \"html/body/div[@id='root']/div[@class='app-content']/div[@class='localities-page page']/main[@class='localities-page-container']/section[@class='localities-list']/article[@class='local']\")))\n",
    "        articulos = driver.find_elements(\"xpath\", \"html/body/div[@id='root']/div[@class='app-content']/div[@class='localities-page page']/main[@class='localities-page-container']/section[@class='localities-list']/article[@class='local']\")\n",
    "\n",
    "        for art in articulos:\n",
    "            local = art.find_elements(\"xpath\", \"div[@class='title-with-bar local-title']/div[@class='title-with-bar-wrapper']/h1[@class='title-with-bar-text']\")[0].text\n",
    "            direccion = art.find_elements(\"xpath\", \"div[@class='local-content']/div[@class='local-content-col']/div[@class='local-info'][1]/div[@class='local-info-content']\")[0].text\n",
    "            url_maps = art.find_elements(\"xpath\", \"div[@class='local-content']/div[@class='local-content-col']/div[@class='local-info'][2]/div[@class='link-map']/a[@class='new-link']\")[0].get_attribute('href')\n",
    "            lat = url_maps[url_maps.find('-'):url_maps.find(',')]\n",
    "            lon = url_maps[url_maps.find('-', url_maps.find('-')+1):]\n",
    "            \n",
    "\n",
    "            list_direcciones.append([local, direccion, url_maps, lat, lon])\n",
    "\n",
    "except:\n",
    "    print(\"Cantidad de páginas no encontradas\")\n",
    "\n",
    "driver.close()"
   ]
  },
  {
   "cell_type": "code",
   "execution_count": 7,
   "metadata": {},
   "outputs": [
    {
     "data": {
      "text/plain": [
       "[['Jumbo El LLano',\n",
       "  'El Llano Subercaseaux 3519, San Miguel, Región Metropolitana',\n",
       "  'https://www.google.com/maps/search/?api=1&query=-33.485912323,-70.651489258',\n",
       "  '-33.485912323',\n",
       "  '-70.651489258'],\n",
       " ['Jumbo Lo Castillo',\n",
       "  'Eduardo Marquina 3412, Vitacura, Región Metropolitana',\n",
       "  'https://www.google.com/maps/search/?api=1&query=-33.400161743,-70.591949463',\n",
       "  '-33.400161743',\n",
       "  '-70.591949463']]"
      ]
     },
     "execution_count": 7,
     "metadata": {},
     "output_type": "execute_result"
    }
   ],
   "source": [
    "list_direcciones[-2:]"
   ]
  },
  {
   "cell_type": "code",
   "execution_count": 14,
   "metadata": {},
   "outputs": [
    {
     "name": "stderr",
     "output_type": "stream",
     "text": [
      " 10%|▉         | 2/21 [00:11<01:48,  5.71s/it]"
     ]
    },
    {
     "name": "stdout",
     "output_type": "stream",
     "text": [
      "Dirección no encontrada\n"
     ]
    },
    {
     "name": "stderr",
     "output_type": "stream",
     "text": [
      " 48%|████▊     | 10/21 [01:04<01:02,  5.66s/it]"
     ]
    },
    {
     "name": "stdout",
     "output_type": "stream",
     "text": [
      "Dirección no encontrada\n"
     ]
    },
    {
     "name": "stderr",
     "output_type": "stream",
     "text": [
      " 67%|██████▋   | 14/21 [01:37<00:46,  6.61s/it]"
     ]
    },
    {
     "name": "stdout",
     "output_type": "stream",
     "text": [
      "Dirección no encontrada\n"
     ]
    },
    {
     "name": "stderr",
     "output_type": "stream",
     "text": [
      " 90%|█████████ | 19/21 [02:15<00:12,  6.34s/it]"
     ]
    },
    {
     "name": "stdout",
     "output_type": "stream",
     "text": [
      "Dirección no encontrada\n"
     ]
    },
    {
     "name": "stderr",
     "output_type": "stream",
     "text": [
      "100%|██████████| 21/21 [02:35<00:00,  7.38s/it]\n"
     ]
    }
   ],
   "source": [
    "list_direcciones_final = []\n",
    "\n",
    "driver = get_driver()\n",
    "\n",
    "for l, direccion, url, lat, lon in tqdm.tqdm(list_direcciones):\n",
    "\n",
    "    dir = direccion + \", Chile, Jumbo\"\n",
    "\n",
    "    driver.get(\"https://www.google.com/maps/search/\"+dir)\n",
    "\n",
    "    time.sleep(3)\n",
    "\n",
    "    try:\n",
    "        wait(driver, 4).until(ec.visibility_of_element_located((By.XPATH, \"html/body/div[@id='app-container']/div[@id='content-container']/div[@id='QA0Szd']/div/div[@class='XltNde tTVLSc']/div[@class='w6VYqd']/div[@class='bJzME tTVLSc']/div[@class='k7jAl lJ3Kh miFGmb']/div[@tabindex='-1']/div[@class='aIFcqe']/div[@class='m6QErb WNBkOb ']/div[@class='TIHn2 ']/div[@class='tAiQdd']/div[@class='lMbq3e']\")))\n",
    "\n",
    "        coordenadas = driver.find_element(By.CSS_SELECTOR, 'meta[itemprop=image]').get_attribute('content')\n",
    "\n",
    "        latitud = float(coordenadas[coordenadas.find('-'):coordenadas.find(\"%\")])\n",
    "        longitud =float(coordenadas[coordenadas.find('-', coordenadas.find(\"-\")+1):coordenadas.find(\"&\")])\n",
    "\n",
    "        wait(driver, 4).until(ec.visibility_of_element_located((By.XPATH, \"html/body/div[@id='app-container']/div[@id='content-container']/div[@id='QA0Szd']/div/div[@class='XltNde tTVLSc']/div[@class='w6VYqd']/div[@class='bJzME tTVLSc']/div[@class='k7jAl lJ3Kh miFGmb']/div[@tabindex='-1']/div[@class='aIFcqe']/div[@class='m6QErb WNBkOb ']/div[@class='ZKCDEc']/div[@class='RZ66Rb FgCUCc']/button[@class='aoRNLd kn2E5e NMjTrf lvtCsd ']/img\")))\n",
    "        imagen = driver.find_element(By.XPATH, \"html/body/div[@id='app-container']/div[@id='content-container']/div[@id='QA0Szd']/div/div[@class='XltNde tTVLSc']/div[@class='w6VYqd']/div[@class='bJzME tTVLSc']/div[@class='k7jAl lJ3Kh miFGmb']/div[@tabindex='-1']/div[@class='aIFcqe']/div[@class='m6QErb WNBkOb ']/div[@class='ZKCDEc']/div[@class='RZ66Rb FgCUCc']/button[@class='aoRNLd kn2E5e NMjTrf lvtCsd ']/img\").get_attribute('src')\n",
    "\n",
    "        comentario = 'Dirección encontrada'\n",
    "    \n",
    "    except:\n",
    "\n",
    "        try:\n",
    "            wait(driver, 4).until(ec.element_to_be_clickable((By.CLASS_NAME, \"hfpxzc\")))\n",
    "            boton = driver.find_element(By.CLASS_NAME, \"hfpxzc\")\n",
    "            boton.click()\n",
    "\n",
    "            time.sleep(3)\n",
    "\n",
    "            coordenadas = driver.find_element(By.CSS_SELECTOR, 'meta[itemprop=image]').get_attribute('content')\n",
    "\n",
    "            latitud = float(coordenadas[coordenadas.find('-'):coordenadas.find(\"%\")])\n",
    "            longitud =float(coordenadas[coordenadas.find('-', coordenadas.find(\"-\")+1):coordenadas.find(\"&\")])\n",
    "\n",
    "            wait(driver, 4).until(ec.visibility_of_element_located((By.XPATH, \"html/body/div[@id='app-container']/div[@id='content-container']/div[@id='QA0Szd']/div/div[@class='XltNde tTVLSc']/div[@class='w6VYqd']/div[@class='bJzME Hu9e2e tTVLSc']/div[@class='k7jAl lJ3Kh miFGmb']/div[@tabindex='-1']/div[@class='aIFcqe']/div[@class='m6QErb WNBkOb ']/div[@class='m6QErb DxyBCb kA9KIf dS8AEf ']/div[@class='ZKCDEc']/div[@class='RZ66Rb FgCUCc']/button[@class='aoRNLd kn2E5e NMjTrf lvtCsd ']/img\")))\n",
    "            imagen = driver.find_element(By.XPATH, \"html/body/div[@id='app-container']/div[@id='content-container']/div[@id='QA0Szd']/div/div[@class='XltNde tTVLSc']/div[@class='w6VYqd']/div[@class='bJzME Hu9e2e tTVLSc']/div[@class='k7jAl lJ3Kh miFGmb']/div[@tabindex='-1']/div[@class='aIFcqe']/div[@class='m6QErb WNBkOb ']/div[@class='m6QErb DxyBCb kA9KIf dS8AEf ']/div[@class='ZKCDEc']/div[@class='RZ66Rb FgCUCc']/button[@class='aoRNLd kn2E5e NMjTrf lvtCsd ']/img\").get_attribute('src')\n",
    "\n",
    "            comentario = 'Más de una dirección encontrada, toma la primera'\n",
    "            \n",
    "            print(comentario)\n",
    "\n",
    "        except:\n",
    "            \n",
    "            comentario = \"Dirección no encontrada\"\n",
    "            print(comentario)\n",
    "        \n",
    "            latitud = np.nan\n",
    "            longitud = np.nan\n",
    "\n",
    "            imagen = ''\n",
    "            \n",
    "            driver.get(\"https://www.google.com/maps\")\n",
    "\n",
    "    list_direcciones_final.append([l, direccion, url, lat, lon, imagen, latitud, longitud, comentario])\n",
    "\n",
    "driver.close()"
   ]
  },
  {
   "cell_type": "code",
   "execution_count": 15,
   "metadata": {},
   "outputs": [],
   "source": [
    "df_tiendas_jumbo = pd.DataFrame(list_direcciones_final, columns=['local', 'direccion', 'url_maps', 'lat', 'lon', 'imagen', 'latitud', 'longitud', 'comentario'])"
   ]
  },
  {
   "cell_type": "code",
   "execution_count": 16,
   "metadata": {},
   "outputs": [],
   "source": [
    "df_tiendas_jumbo['comuna'] = df_tiendas_jumbo['direccion'].map(lambda x:x[x.find(',')+2:x.find(',', x.find(',')+1)])\n",
    "df_tiendas_jumbo['region'] = df_tiendas_jumbo['direccion'].map(lambda x:x[x.find(',', x.find(',')+1)+2:])"
   ]
  },
  {
   "cell_type": "code",
   "execution_count": 17,
   "metadata": {},
   "outputs": [],
   "source": [
    "actual_date = str(datetime.now())[0:10]\n",
    "\n",
    "df_tiendas_jumbo.to_excel(ruta + f'/df_tiendas_jumbo.xlsx'.format(actual_date), index=0)"
   ]
  },
  {
   "cell_type": "code",
   "execution_count": null,
   "metadata": {},
   "outputs": [],
   "source": []
  }
 ],
 "metadata": {
  "kernelspec": {
   "display_name": "Python 3",
   "language": "python",
   "name": "python3"
  },
  "language_info": {
   "codemirror_mode": {
    "name": "ipython",
    "version": 3
   },
   "file_extension": ".py",
   "mimetype": "text/x-python",
   "name": "python",
   "nbconvert_exporter": "python",
   "pygments_lexer": "ipython3",
   "version": "3.8.0"
  },
  "vscode": {
   "interpreter": {
    "hash": "aee8b7b246df8f9039afb4144a1f6fd8d2ca17a180786b69acc140d282b71a49"
   }
  }
 },
 "nbformat": 4,
 "nbformat_minor": 2
}
