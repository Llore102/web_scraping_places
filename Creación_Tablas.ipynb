{
 "cells": [
  {
   "cell_type": "code",
   "execution_count": 1092,
   "metadata": {},
   "outputs": [],
   "source": [
    "import pandas as pd\n",
    "import numpy as np\n",
    "import glob\n",
    "import os\n",
    "\n",
    "import string\n",
    "from nltk.corpus import stopwords\n",
    "from nltk import word_tokenize\n",
    "from nltk.tokenize.treebank import TreebankWordDetokenizer\n",
    "\n",
    "sw = stopwords.words('spanish')\n",
    "\n",
    "from datetime import datetime"
   ]
  },
  {
   "cell_type": "code",
   "execution_count": 1093,
   "metadata": {},
   "outputs": [],
   "source": [
    "ruta = os.getcwd() + '/data/'"
   ]
  },
  {
   "cell_type": "code",
   "execution_count": 1094,
   "metadata": {},
   "outputs": [
    {
     "data": {
      "text/plain": [
       "'/Users/cevalenciam/Library/CloudStorage/OneDrive-Personal/SmartBuy/smartbuy/data/'"
      ]
     },
     "execution_count": 1094,
     "metadata": {},
     "output_type": "execute_result"
    }
   ],
   "source": [
    "ruta"
   ]
  },
  {
   "attachments": {},
   "cell_type": "markdown",
   "metadata": {},
   "source": [
    "### Tiendas"
   ]
  },
  {
   "cell_type": "code",
   "execution_count": 1095,
   "metadata": {},
   "outputs": [
    {
     "data": {
      "text/html": [
       "<div>\n",
       "<style scoped>\n",
       "    .dataframe tbody tr th:only-of-type {\n",
       "        vertical-align: middle;\n",
       "    }\n",
       "\n",
       "    .dataframe tbody tr th {\n",
       "        vertical-align: top;\n",
       "    }\n",
       "\n",
       "    .dataframe thead th {\n",
       "        text-align: right;\n",
       "    }\n",
       "</style>\n",
       "<table border=\"1\" class=\"dataframe\">\n",
       "  <thead>\n",
       "    <tr style=\"text-align: right;\">\n",
       "      <th></th>\n",
       "      <th>region</th>\n",
       "      <th>comuna</th>\n",
       "      <th>direccion</th>\n",
       "      <th>imagen</th>\n",
       "      <th>latitud</th>\n",
       "      <th>longitud</th>\n",
       "      <th>comentario</th>\n",
       "      <th>empresa</th>\n",
       "    </tr>\n",
       "  </thead>\n",
       "  <tbody>\n",
       "    <tr>\n",
       "      <th>0</th>\n",
       "      <td>Región Metropolitana</td>\n",
       "      <td>Alameda</td>\n",
       "      <td>Av Libertador Bernardo O'Higgins 3470, Santiago</td>\n",
       "      <td>https://lh5.googleusercontent.com/p/AF1QipNBTs...</td>\n",
       "      <td>-33.452419</td>\n",
       "      <td>-70.682373</td>\n",
       "      <td>Dirección encontrada</td>\n",
       "      <td>Tottus</td>\n",
       "    </tr>\n",
       "    <tr>\n",
       "      <th>1</th>\n",
       "      <td>Región Metropolitana</td>\n",
       "      <td>Buín</td>\n",
       "      <td>San Martín 174, Buin</td>\n",
       "      <td>https://lh5.googleusercontent.com/p/AF1QipObZ2...</td>\n",
       "      <td>-33.731760</td>\n",
       "      <td>-70.734828</td>\n",
       "      <td>Dirección encontrada</td>\n",
       "      <td>Tottus</td>\n",
       "    </tr>\n",
       "    <tr>\n",
       "      <th>2</th>\n",
       "      <td>Región Metropolitana</td>\n",
       "      <td>Catedral</td>\n",
       "      <td>Catedral 1850, Santiago</td>\n",
       "      <td>https://lh5.googleusercontent.com/p/AF1QipNgsl...</td>\n",
       "      <td>-33.438856</td>\n",
       "      <td>-70.663054</td>\n",
       "      <td>Dirección encontrada</td>\n",
       "      <td>Tottus</td>\n",
       "    </tr>\n",
       "  </tbody>\n",
       "</table>\n",
       "</div>"
      ],
      "text/plain": [
       "                 region    comuna  \\\n",
       "0  Región Metropolitana   Alameda   \n",
       "1  Región Metropolitana      Buín   \n",
       "2  Región Metropolitana  Catedral   \n",
       "\n",
       "                                         direccion  \\\n",
       "0  Av Libertador Bernardo O'Higgins 3470, Santiago   \n",
       "1                             San Martín 174, Buin   \n",
       "2                          Catedral 1850, Santiago   \n",
       "\n",
       "                                              imagen    latitud   longitud  \\\n",
       "0  https://lh5.googleusercontent.com/p/AF1QipNBTs... -33.452419 -70.682373   \n",
       "1  https://lh5.googleusercontent.com/p/AF1QipObZ2... -33.731760 -70.734828   \n",
       "2  https://lh5.googleusercontent.com/p/AF1QipNgsl... -33.438856 -70.663054   \n",
       "\n",
       "             comentario empresa  \n",
       "0  Dirección encontrada  Tottus  \n",
       "1  Dirección encontrada  Tottus  \n",
       "2  Dirección encontrada  Tottus  "
      ]
     },
     "execution_count": 1095,
     "metadata": {},
     "output_type": "execute_result"
    }
   ],
   "source": [
    "df_tiendas_tottus = pd.read_excel('web-scraper-tottus/df_tiendas_tottus.xlsx')\n",
    "df_tiendas_tottus['direccion'] = df_tiendas_tottus['direccion'].map(lambda x:x[:x.index(\"\\n\")])\n",
    "df_tiendas_tottus['empresa'] = 'Tottus'\n",
    "df_tiendas_tottus.head(3)"
   ]
  },
  {
   "cell_type": "code",
   "execution_count": 1096,
   "metadata": {},
   "outputs": [
    {
     "data": {
      "text/html": [
       "<div>\n",
       "<style scoped>\n",
       "    .dataframe tbody tr th:only-of-type {\n",
       "        vertical-align: middle;\n",
       "    }\n",
       "\n",
       "    .dataframe tbody tr th {\n",
       "        vertical-align: top;\n",
       "    }\n",
       "\n",
       "    .dataframe thead th {\n",
       "        text-align: right;\n",
       "    }\n",
       "</style>\n",
       "<table border=\"1\" class=\"dataframe\">\n",
       "  <thead>\n",
       "    <tr style=\"text-align: right;\">\n",
       "      <th></th>\n",
       "      <th>supermercado</th>\n",
       "      <th>comuna</th>\n",
       "      <th>direccion</th>\n",
       "      <th>disponibilidad</th>\n",
       "      <th>region</th>\n",
       "      <th>hora_apertura</th>\n",
       "      <th>hora_cierre</th>\n",
       "      <th>imagen</th>\n",
       "      <th>latitud</th>\n",
       "      <th>longitud</th>\n",
       "      <th>comentario</th>\n",
       "      <th>empresa</th>\n",
       "    </tr>\n",
       "  </thead>\n",
       "  <tbody>\n",
       "    <tr>\n",
       "      <th>0</th>\n",
       "      <td>Express de Lider</td>\n",
       "      <td>Renca</td>\n",
       "      <td>San Diego 219, Santiago</td>\n",
       "      <td>Abierto</td>\n",
       "      <td>Metropolitana</td>\n",
       "      <td>08:00</td>\n",
       "      <td>21:30</td>\n",
       "      <td>https://lh5.googleusercontent.com/p/AF1QipNcMr...</td>\n",
       "      <td>-33.447774</td>\n",
       "      <td>-70.651169</td>\n",
       "      <td>Dirección encontrada</td>\n",
       "      <td>Lider</td>\n",
       "    </tr>\n",
       "    <tr>\n",
       "      <th>1</th>\n",
       "      <td>Express de Lider</td>\n",
       "      <td>Santiago</td>\n",
       "      <td>Curicó 517, Santiago</td>\n",
       "      <td>Abierto</td>\n",
       "      <td>Metropolitana</td>\n",
       "      <td>08:00</td>\n",
       "      <td>21:30</td>\n",
       "      <td>https://lh5.googleusercontent.com/p/AF1QipOznS...</td>\n",
       "      <td>-33.446068</td>\n",
       "      <td>-70.643188</td>\n",
       "      <td>Dirección encontrada</td>\n",
       "      <td>Lider</td>\n",
       "    </tr>\n",
       "    <tr>\n",
       "      <th>2</th>\n",
       "      <td>Express de Lider</td>\n",
       "      <td>Santiago</td>\n",
       "      <td>San Pablo 2902, Santiago</td>\n",
       "      <td>Abierto</td>\n",
       "      <td>Metropolitana</td>\n",
       "      <td>08:00</td>\n",
       "      <td>21:30</td>\n",
       "      <td>https://lh5.googleusercontent.com/p/AF1QipNoxJ...</td>\n",
       "      <td>-33.435443</td>\n",
       "      <td>-70.673451</td>\n",
       "      <td>Más de una dirección encontrada, toma la primera</td>\n",
       "      <td>Lider</td>\n",
       "    </tr>\n",
       "  </tbody>\n",
       "</table>\n",
       "</div>"
      ],
      "text/plain": [
       "       supermercado    comuna                 direccion disponibilidad  \\\n",
       "0  Express de Lider     Renca   San Diego 219, Santiago        Abierto   \n",
       "1  Express de Lider  Santiago      Curicó 517, Santiago        Abierto   \n",
       "2  Express de Lider  Santiago  San Pablo 2902, Santiago        Abierto   \n",
       "\n",
       "          region hora_apertura hora_cierre  \\\n",
       "0  Metropolitana         08:00       21:30   \n",
       "1  Metropolitana         08:00       21:30   \n",
       "2  Metropolitana         08:00       21:30   \n",
       "\n",
       "                                              imagen    latitud   longitud  \\\n",
       "0  https://lh5.googleusercontent.com/p/AF1QipNcMr... -33.447774 -70.651169   \n",
       "1  https://lh5.googleusercontent.com/p/AF1QipOznS... -33.446068 -70.643188   \n",
       "2  https://lh5.googleusercontent.com/p/AF1QipNoxJ... -33.435443 -70.673451   \n",
       "\n",
       "                                         comentario empresa  \n",
       "0                              Dirección encontrada   Lider  \n",
       "1                              Dirección encontrada   Lider  \n",
       "2  Más de una dirección encontrada, toma la primera   Lider  "
      ]
     },
     "execution_count": 1096,
     "metadata": {},
     "output_type": "execute_result"
    }
   ],
   "source": [
    "df_tiendas_lider = pd.read_excel('web-scraper-lider/df_tiendas_lider.xlsx')\n",
    "df_tiendas_lider['empresa'] = 'Lider'\n",
    "df_tiendas_lider.head(3)"
   ]
  },
  {
   "cell_type": "code",
   "execution_count": 1097,
   "metadata": {},
   "outputs": [
    {
     "data": {
      "text/html": [
       "<div>\n",
       "<style scoped>\n",
       "    .dataframe tbody tr th:only-of-type {\n",
       "        vertical-align: middle;\n",
       "    }\n",
       "\n",
       "    .dataframe tbody tr th {\n",
       "        vertical-align: top;\n",
       "    }\n",
       "\n",
       "    .dataframe thead th {\n",
       "        text-align: right;\n",
       "    }\n",
       "</style>\n",
       "<table border=\"1\" class=\"dataframe\">\n",
       "  <thead>\n",
       "    <tr style=\"text-align: right;\">\n",
       "      <th></th>\n",
       "      <th>local</th>\n",
       "      <th>direccion</th>\n",
       "      <th>url_maps</th>\n",
       "      <th>lat</th>\n",
       "      <th>lon</th>\n",
       "      <th>imagen</th>\n",
       "      <th>latitud</th>\n",
       "      <th>longitud</th>\n",
       "      <th>comentario</th>\n",
       "      <th>comuna</th>\n",
       "      <th>region</th>\n",
       "      <th>empresa</th>\n",
       "    </tr>\n",
       "  </thead>\n",
       "  <tbody>\n",
       "    <tr>\n",
       "      <th>0</th>\n",
       "      <td>Jumbo Pie Andino</td>\n",
       "      <td>Avenida paseo pie andino 4770 , Lo Barnechea, ...</td>\n",
       "      <td>https://www.google.com/maps/search/?api=1&amp;quer...</td>\n",
       "      <td>-33.325961</td>\n",
       "      <td>-70.517112</td>\n",
       "      <td>https://lh5.googleusercontent.com/p/AF1QipMF36...</td>\n",
       "      <td>-33.325562</td>\n",
       "      <td>-70.517186</td>\n",
       "      <td>Dirección encontrada</td>\n",
       "      <td>Lo Barnechea</td>\n",
       "      <td>Región Metropolitana</td>\n",
       "      <td>Jumbo</td>\n",
       "    </tr>\n",
       "    <tr>\n",
       "      <th>1</th>\n",
       "      <td>Jumbo Chamisero</td>\n",
       "      <td>Av. Santa María 14.601, Colina, Región Metropo...</td>\n",
       "      <td>https://www.google.com/maps/search/?api=1&amp;quer...</td>\n",
       "      <td>-33.321480</td>\n",
       "      <td>-70.645935</td>\n",
       "      <td>https://lh5.googleusercontent.com/p/AF1QipM-vf...</td>\n",
       "      <td>-33.321492</td>\n",
       "      <td>-70.646300</td>\n",
       "      <td>Dirección encontrada</td>\n",
       "      <td>Colina</td>\n",
       "      <td>Región Metropolitana</td>\n",
       "      <td>Jumbo</td>\n",
       "    </tr>\n",
       "    <tr>\n",
       "      <th>2</th>\n",
       "      <td>Jumbo Puertas de Chicureo</td>\n",
       "      <td>Avendida Chicureo 130, Colina, Región Metropol...</td>\n",
       "      <td>https://www.google.com/maps/search/?api=1&amp;quer...</td>\n",
       "      <td>-33.285435</td>\n",
       "      <td>-70.700211</td>\n",
       "      <td>https://lh5.googleusercontent.com/p/AF1QipNKQ5...</td>\n",
       "      <td>-33.285979</td>\n",
       "      <td>-70.700035</td>\n",
       "      <td>Más de una dirección encontrada, toma la primera</td>\n",
       "      <td>Colina</td>\n",
       "      <td>Región Metropolitana</td>\n",
       "      <td>Jumbo</td>\n",
       "    </tr>\n",
       "  </tbody>\n",
       "</table>\n",
       "</div>"
      ],
      "text/plain": [
       "                       local  \\\n",
       "0           Jumbo Pie Andino   \n",
       "1            Jumbo Chamisero   \n",
       "2  Jumbo Puertas de Chicureo   \n",
       "\n",
       "                                           direccion  \\\n",
       "0  Avenida paseo pie andino 4770 , Lo Barnechea, ...   \n",
       "1  Av. Santa María 14.601, Colina, Región Metropo...   \n",
       "2  Avendida Chicureo 130, Colina, Región Metropol...   \n",
       "\n",
       "                                            url_maps        lat        lon  \\\n",
       "0  https://www.google.com/maps/search/?api=1&quer... -33.325961 -70.517112   \n",
       "1  https://www.google.com/maps/search/?api=1&quer... -33.321480 -70.645935   \n",
       "2  https://www.google.com/maps/search/?api=1&quer... -33.285435 -70.700211   \n",
       "\n",
       "                                              imagen    latitud   longitud  \\\n",
       "0  https://lh5.googleusercontent.com/p/AF1QipMF36... -33.325562 -70.517186   \n",
       "1  https://lh5.googleusercontent.com/p/AF1QipM-vf... -33.321492 -70.646300   \n",
       "2  https://lh5.googleusercontent.com/p/AF1QipNKQ5... -33.285979 -70.700035   \n",
       "\n",
       "                                         comentario        comuna  \\\n",
       "0                              Dirección encontrada  Lo Barnechea   \n",
       "1                              Dirección encontrada        Colina   \n",
       "2  Más de una dirección encontrada, toma la primera        Colina   \n",
       "\n",
       "                 region empresa  \n",
       "0  Región Metropolitana   Jumbo  \n",
       "1  Región Metropolitana   Jumbo  \n",
       "2  Región Metropolitana   Jumbo  "
      ]
     },
     "execution_count": 1097,
     "metadata": {},
     "output_type": "execute_result"
    }
   ],
   "source": [
    "df_tiendas_jumbo = pd.read_excel('web-scraper-jumbo/df_tiendas_jumbo.xlsx')\n",
    "df_tiendas_jumbo['empresa'] = 'Jumbo'\n",
    "df_tiendas_jumbo.head(3)"
   ]
  },
  {
   "cell_type": "code",
   "execution_count": 1098,
   "metadata": {},
   "outputs": [],
   "source": [
    "vars_tiendas = ['direccion', 'comuna', 'region', 'imagen', 'latitud', 'longitud', 'empresa']"
   ]
  },
  {
   "cell_type": "code",
   "execution_count": 1099,
   "metadata": {},
   "outputs": [
    {
     "data": {
      "text/html": [
       "<div>\n",
       "<style scoped>\n",
       "    .dataframe tbody tr th:only-of-type {\n",
       "        vertical-align: middle;\n",
       "    }\n",
       "\n",
       "    .dataframe tbody tr th {\n",
       "        vertical-align: top;\n",
       "    }\n",
       "\n",
       "    .dataframe thead th {\n",
       "        text-align: right;\n",
       "    }\n",
       "</style>\n",
       "<table border=\"1\" class=\"dataframe\">\n",
       "  <thead>\n",
       "    <tr style=\"text-align: right;\">\n",
       "      <th></th>\n",
       "      <th>direccion</th>\n",
       "      <th>comuna</th>\n",
       "      <th>region</th>\n",
       "      <th>imagen</th>\n",
       "      <th>latitud</th>\n",
       "      <th>longitud</th>\n",
       "      <th>empresa</th>\n",
       "    </tr>\n",
       "  </thead>\n",
       "  <tbody>\n",
       "    <tr>\n",
       "      <th>0</th>\n",
       "      <td>Av Libertador Bernardo O'Higgins 3470, Santiago</td>\n",
       "      <td>Alameda</td>\n",
       "      <td>Región Metropolitana</td>\n",
       "      <td>https://lh5.googleusercontent.com/p/AF1QipNBTs...</td>\n",
       "      <td>-33.452419</td>\n",
       "      <td>-70.682373</td>\n",
       "      <td>Tottus</td>\n",
       "    </tr>\n",
       "    <tr>\n",
       "      <th>1</th>\n",
       "      <td>San Martín 174, Buin</td>\n",
       "      <td>Buín</td>\n",
       "      <td>Región Metropolitana</td>\n",
       "      <td>https://lh5.googleusercontent.com/p/AF1QipObZ2...</td>\n",
       "      <td>-33.731760</td>\n",
       "      <td>-70.734828</td>\n",
       "      <td>Tottus</td>\n",
       "    </tr>\n",
       "    <tr>\n",
       "      <th>2</th>\n",
       "      <td>Catedral 1850, Santiago</td>\n",
       "      <td>Catedral</td>\n",
       "      <td>Región Metropolitana</td>\n",
       "      <td>https://lh5.googleusercontent.com/p/AF1QipNgsl...</td>\n",
       "      <td>-33.438856</td>\n",
       "      <td>-70.663054</td>\n",
       "      <td>Tottus</td>\n",
       "    </tr>\n",
       "  </tbody>\n",
       "</table>\n",
       "</div>"
      ],
      "text/plain": [
       "                                         direccion    comuna  \\\n",
       "0  Av Libertador Bernardo O'Higgins 3470, Santiago   Alameda   \n",
       "1                             San Martín 174, Buin      Buín   \n",
       "2                          Catedral 1850, Santiago  Catedral   \n",
       "\n",
       "                 region                                             imagen  \\\n",
       "0  Región Metropolitana  https://lh5.googleusercontent.com/p/AF1QipNBTs...   \n",
       "1  Región Metropolitana  https://lh5.googleusercontent.com/p/AF1QipObZ2...   \n",
       "2  Región Metropolitana  https://lh5.googleusercontent.com/p/AF1QipNgsl...   \n",
       "\n",
       "     latitud   longitud empresa  \n",
       "0 -33.452419 -70.682373  Tottus  \n",
       "1 -33.731760 -70.734828  Tottus  \n",
       "2 -33.438856 -70.663054  Tottus  "
      ]
     },
     "execution_count": 1099,
     "metadata": {},
     "output_type": "execute_result"
    }
   ],
   "source": [
    "df_tiendas_tottus_1 = df_tiendas_tottus[vars_tiendas]\n",
    "df_tiendas_tottus_1.head(3)"
   ]
  },
  {
   "cell_type": "code",
   "execution_count": 1100,
   "metadata": {},
   "outputs": [
    {
     "data": {
      "text/html": [
       "<div>\n",
       "<style scoped>\n",
       "    .dataframe tbody tr th:only-of-type {\n",
       "        vertical-align: middle;\n",
       "    }\n",
       "\n",
       "    .dataframe tbody tr th {\n",
       "        vertical-align: top;\n",
       "    }\n",
       "\n",
       "    .dataframe thead th {\n",
       "        text-align: right;\n",
       "    }\n",
       "</style>\n",
       "<table border=\"1\" class=\"dataframe\">\n",
       "  <thead>\n",
       "    <tr style=\"text-align: right;\">\n",
       "      <th></th>\n",
       "      <th>direccion</th>\n",
       "      <th>comuna</th>\n",
       "      <th>region</th>\n",
       "      <th>imagen</th>\n",
       "      <th>latitud</th>\n",
       "      <th>longitud</th>\n",
       "      <th>empresa</th>\n",
       "    </tr>\n",
       "  </thead>\n",
       "  <tbody>\n",
       "    <tr>\n",
       "      <th>0</th>\n",
       "      <td>San Diego 219, Santiago</td>\n",
       "      <td>Renca</td>\n",
       "      <td>Metropolitana</td>\n",
       "      <td>https://lh5.googleusercontent.com/p/AF1QipNcMr...</td>\n",
       "      <td>-33.447774</td>\n",
       "      <td>-70.651169</td>\n",
       "      <td>Lider</td>\n",
       "    </tr>\n",
       "    <tr>\n",
       "      <th>1</th>\n",
       "      <td>Curicó 517, Santiago</td>\n",
       "      <td>Santiago</td>\n",
       "      <td>Metropolitana</td>\n",
       "      <td>https://lh5.googleusercontent.com/p/AF1QipOznS...</td>\n",
       "      <td>-33.446068</td>\n",
       "      <td>-70.643188</td>\n",
       "      <td>Lider</td>\n",
       "    </tr>\n",
       "    <tr>\n",
       "      <th>2</th>\n",
       "      <td>San Pablo 2902, Santiago</td>\n",
       "      <td>Santiago</td>\n",
       "      <td>Metropolitana</td>\n",
       "      <td>https://lh5.googleusercontent.com/p/AF1QipNoxJ...</td>\n",
       "      <td>-33.435443</td>\n",
       "      <td>-70.673451</td>\n",
       "      <td>Lider</td>\n",
       "    </tr>\n",
       "  </tbody>\n",
       "</table>\n",
       "</div>"
      ],
      "text/plain": [
       "                  direccion    comuna         region  \\\n",
       "0   San Diego 219, Santiago     Renca  Metropolitana   \n",
       "1      Curicó 517, Santiago  Santiago  Metropolitana   \n",
       "2  San Pablo 2902, Santiago  Santiago  Metropolitana   \n",
       "\n",
       "                                              imagen    latitud   longitud  \\\n",
       "0  https://lh5.googleusercontent.com/p/AF1QipNcMr... -33.447774 -70.651169   \n",
       "1  https://lh5.googleusercontent.com/p/AF1QipOznS... -33.446068 -70.643188   \n",
       "2  https://lh5.googleusercontent.com/p/AF1QipNoxJ... -33.435443 -70.673451   \n",
       "\n",
       "  empresa  \n",
       "0   Lider  \n",
       "1   Lider  \n",
       "2   Lider  "
      ]
     },
     "execution_count": 1100,
     "metadata": {},
     "output_type": "execute_result"
    }
   ],
   "source": [
    "df_tiendas_lider_1 = df_tiendas_lider[vars_tiendas]\n",
    "df_tiendas_lider_1.head(3)"
   ]
  },
  {
   "cell_type": "code",
   "execution_count": 1101,
   "metadata": {},
   "outputs": [],
   "source": [
    "df_tiendas_jumbo['comuna'] = df_tiendas_jumbo['direccion'].map(lambda x:x[x.find(',')+2:x.find(',', x.find(',')+1)])\n",
    "df_tiendas_jumbo['region'] = df_tiendas_jumbo['direccion'].map(lambda x:x[x.find(',', x.find(',')+1)+2:])"
   ]
  },
  {
   "cell_type": "code",
   "execution_count": 1102,
   "metadata": {},
   "outputs": [
    {
     "data": {
      "text/html": [
       "<div>\n",
       "<style scoped>\n",
       "    .dataframe tbody tr th:only-of-type {\n",
       "        vertical-align: middle;\n",
       "    }\n",
       "\n",
       "    .dataframe tbody tr th {\n",
       "        vertical-align: top;\n",
       "    }\n",
       "\n",
       "    .dataframe thead th {\n",
       "        text-align: right;\n",
       "    }\n",
       "</style>\n",
       "<table border=\"1\" class=\"dataframe\">\n",
       "  <thead>\n",
       "    <tr style=\"text-align: right;\">\n",
       "      <th></th>\n",
       "      <th>direccion</th>\n",
       "      <th>comuna</th>\n",
       "      <th>region</th>\n",
       "      <th>imagen</th>\n",
       "      <th>latitud</th>\n",
       "      <th>longitud</th>\n",
       "      <th>empresa</th>\n",
       "    </tr>\n",
       "  </thead>\n",
       "  <tbody>\n",
       "    <tr>\n",
       "      <th>0</th>\n",
       "      <td>Avenida paseo pie andino 4770 , Lo Barnechea, ...</td>\n",
       "      <td>Lo Barnechea</td>\n",
       "      <td>Región Metropolitana</td>\n",
       "      <td>https://lh5.googleusercontent.com/p/AF1QipMF36...</td>\n",
       "      <td>-33.325961</td>\n",
       "      <td>-70.517112</td>\n",
       "      <td>Jumbo</td>\n",
       "    </tr>\n",
       "    <tr>\n",
       "      <th>1</th>\n",
       "      <td>Av. Santa María 14.601, Colina, Región Metropo...</td>\n",
       "      <td>Colina</td>\n",
       "      <td>Región Metropolitana</td>\n",
       "      <td>https://lh5.googleusercontent.com/p/AF1QipM-vf...</td>\n",
       "      <td>-33.321480</td>\n",
       "      <td>-70.645935</td>\n",
       "      <td>Jumbo</td>\n",
       "    </tr>\n",
       "    <tr>\n",
       "      <th>2</th>\n",
       "      <td>Avendida Chicureo 130, Colina, Región Metropol...</td>\n",
       "      <td>Colina</td>\n",
       "      <td>Región Metropolitana</td>\n",
       "      <td>https://lh5.googleusercontent.com/p/AF1QipNKQ5...</td>\n",
       "      <td>-33.285435</td>\n",
       "      <td>-70.700211</td>\n",
       "      <td>Jumbo</td>\n",
       "    </tr>\n",
       "  </tbody>\n",
       "</table>\n",
       "</div>"
      ],
      "text/plain": [
       "                                           direccion        comuna  \\\n",
       "0  Avenida paseo pie andino 4770 , Lo Barnechea, ...  Lo Barnechea   \n",
       "1  Av. Santa María 14.601, Colina, Región Metropo...        Colina   \n",
       "2  Avendida Chicureo 130, Colina, Región Metropol...        Colina   \n",
       "\n",
       "                 region                                             imagen  \\\n",
       "0  Región Metropolitana  https://lh5.googleusercontent.com/p/AF1QipMF36...   \n",
       "1  Región Metropolitana  https://lh5.googleusercontent.com/p/AF1QipM-vf...   \n",
       "2  Región Metropolitana  https://lh5.googleusercontent.com/p/AF1QipNKQ5...   \n",
       "\n",
       "     latitud   longitud empresa  \n",
       "0 -33.325961 -70.517112   Jumbo  \n",
       "1 -33.321480 -70.645935   Jumbo  \n",
       "2 -33.285435 -70.700211   Jumbo  "
      ]
     },
     "execution_count": 1102,
     "metadata": {},
     "output_type": "execute_result"
    }
   ],
   "source": [
    "df_tiendas_jumbo_1 = df_tiendas_jumbo[['direccion', 'comuna', 'region', 'imagen','lat', 'lon', 'empresa']].rename(columns={'lat':'latitud', 'lon': 'longitud'})\n",
    "df_tiendas_jumbo_1.head(3)"
   ]
  },
  {
   "cell_type": "code",
   "execution_count": 1103,
   "metadata": {},
   "outputs": [
    {
     "data": {
      "text/html": [
       "<div>\n",
       "<style scoped>\n",
       "    .dataframe tbody tr th:only-of-type {\n",
       "        vertical-align: middle;\n",
       "    }\n",
       "\n",
       "    .dataframe tbody tr th {\n",
       "        vertical-align: top;\n",
       "    }\n",
       "\n",
       "    .dataframe thead th {\n",
       "        text-align: right;\n",
       "    }\n",
       "</style>\n",
       "<table border=\"1\" class=\"dataframe\">\n",
       "  <thead>\n",
       "    <tr style=\"text-align: right;\">\n",
       "      <th></th>\n",
       "      <th>direccion</th>\n",
       "      <th>comuna</th>\n",
       "      <th>region</th>\n",
       "      <th>imagen</th>\n",
       "      <th>latitud</th>\n",
       "      <th>longitud</th>\n",
       "      <th>empresa</th>\n",
       "    </tr>\n",
       "  </thead>\n",
       "  <tbody>\n",
       "    <tr>\n",
       "      <th>0</th>\n",
       "      <td>Av Libertador Bernardo O'Higgins 3470, Santiago</td>\n",
       "      <td>Alameda</td>\n",
       "      <td>Región Metropolitana</td>\n",
       "      <td>https://lh5.googleusercontent.com/p/AF1QipNBTs...</td>\n",
       "      <td>-33.452419</td>\n",
       "      <td>-70.682373</td>\n",
       "      <td>Tottus</td>\n",
       "    </tr>\n",
       "    <tr>\n",
       "      <th>1</th>\n",
       "      <td>San Martín 174, Buin</td>\n",
       "      <td>Buín</td>\n",
       "      <td>Región Metropolitana</td>\n",
       "      <td>https://lh5.googleusercontent.com/p/AF1QipObZ2...</td>\n",
       "      <td>-33.731760</td>\n",
       "      <td>-70.734828</td>\n",
       "      <td>Tottus</td>\n",
       "    </tr>\n",
       "    <tr>\n",
       "      <th>2</th>\n",
       "      <td>Catedral 1850, Santiago</td>\n",
       "      <td>Catedral</td>\n",
       "      <td>Región Metropolitana</td>\n",
       "      <td>https://lh5.googleusercontent.com/p/AF1QipNgsl...</td>\n",
       "      <td>-33.438856</td>\n",
       "      <td>-70.663054</td>\n",
       "      <td>Tottus</td>\n",
       "    </tr>\n",
       "  </tbody>\n",
       "</table>\n",
       "</div>"
      ],
      "text/plain": [
       "                                         direccion    comuna  \\\n",
       "0  Av Libertador Bernardo O'Higgins 3470, Santiago   Alameda   \n",
       "1                             San Martín 174, Buin      Buín   \n",
       "2                          Catedral 1850, Santiago  Catedral   \n",
       "\n",
       "                 region                                             imagen  \\\n",
       "0  Región Metropolitana  https://lh5.googleusercontent.com/p/AF1QipNBTs...   \n",
       "1  Región Metropolitana  https://lh5.googleusercontent.com/p/AF1QipObZ2...   \n",
       "2  Región Metropolitana  https://lh5.googleusercontent.com/p/AF1QipNgsl...   \n",
       "\n",
       "     latitud   longitud empresa  \n",
       "0 -33.452419 -70.682373  Tottus  \n",
       "1 -33.731760 -70.734828  Tottus  \n",
       "2 -33.438856 -70.663054  Tottus  "
      ]
     },
     "execution_count": 1103,
     "metadata": {},
     "output_type": "execute_result"
    }
   ],
   "source": [
    "df_tiendas = pd.concat([df_tiendas_tottus_1, df_tiendas_lider_1, df_tiendas_jumbo_1]).reset_index(drop=True)\n",
    "df_tiendas.head(3)"
   ]
  },
  {
   "cell_type": "code",
   "execution_count": 1104,
   "metadata": {},
   "outputs": [
    {
     "data": {
      "text/plain": [
       "direccion      0\n",
       "comuna         0\n",
       "region         0\n",
       "imagen       136\n",
       "latitud      135\n",
       "longitud     135\n",
       "empresa        0\n",
       "dtype: int64"
      ]
     },
     "execution_count": 1104,
     "metadata": {},
     "output_type": "execute_result"
    }
   ],
   "source": [
    "df_tiendas.isnull().sum()"
   ]
  },
  {
   "cell_type": "code",
   "execution_count": 1105,
   "metadata": {},
   "outputs": [],
   "source": [
    "df_tiendas['imagen'] = df_tiendas['imagen'].fillna('Imagen no encontrada')\n",
    "df_tiendas['latitud'] = df_tiendas['latitud'].astype(str).str.replace('nan', 'Latitud no encontrada')\n",
    "df_tiendas['longitud']= df_tiendas['longitud'].astype(str).str.replace('nan', 'Longitud no encontrada')"
   ]
  },
  {
   "cell_type": "code",
   "execution_count": 1106,
   "metadata": {},
   "outputs": [
    {
     "data": {
      "text/plain": [
       "direccion    0\n",
       "comuna       0\n",
       "region       0\n",
       "imagen       0\n",
       "latitud      0\n",
       "longitud     0\n",
       "empresa      0\n",
       "dtype: int64"
      ]
     },
     "execution_count": 1106,
     "metadata": {},
     "output_type": "execute_result"
    }
   ],
   "source": [
    "df_tiendas.isnull().sum()"
   ]
  },
  {
   "cell_type": "code",
   "execution_count": 1107,
   "metadata": {},
   "outputs": [],
   "source": [
    "actual_date = str(datetime.now())[0:10]\n",
    "\n",
    "df_tiendas.to_excel(ruta + f'data_tiendas.xlsx'.format(actual_date), index=0)"
   ]
  },
  {
   "attachments": {},
   "cell_type": "markdown",
   "metadata": {},
   "source": [
    "### Productos"
   ]
  },
  {
   "cell_type": "code",
   "execution_count": 1108,
   "metadata": {},
   "outputs": [],
   "source": [
    "df_matching = pd.read_excel('homologacion-smartbuy/df_matching.xlsx')"
   ]
  },
  {
   "cell_type": "code",
   "execution_count": 1109,
   "metadata": {},
   "outputs": [
    {
     "data": {
      "text/plain": [
       "(22330, 29)"
      ]
     },
     "execution_count": 1109,
     "metadata": {},
     "output_type": "execute_result"
    }
   ],
   "source": [
    "df_matching.shape"
   ]
  },
  {
   "cell_type": "code",
   "execution_count": 1110,
   "metadata": {},
   "outputs": [],
   "source": [
    "vars_productos = ['id', 'name', 'description', 'marca', 'formato', 'precio', 'image1', 'image2', 'image3', 'empresa']"
   ]
  },
  {
   "cell_type": "code",
   "execution_count": 1111,
   "metadata": {},
   "outputs": [
    {
     "data": {
      "text/html": [
       "<div>\n",
       "<style scoped>\n",
       "    .dataframe tbody tr th:only-of-type {\n",
       "        vertical-align: middle;\n",
       "    }\n",
       "\n",
       "    .dataframe tbody tr th {\n",
       "        vertical-align: top;\n",
       "    }\n",
       "\n",
       "    .dataframe thead th {\n",
       "        text-align: right;\n",
       "    }\n",
       "</style>\n",
       "<table border=\"1\" class=\"dataframe\">\n",
       "  <thead>\n",
       "    <tr style=\"text-align: right;\">\n",
       "      <th></th>\n",
       "      <th>id</th>\n",
       "      <th>name</th>\n",
       "      <th>description</th>\n",
       "      <th>marca</th>\n",
       "      <th>formato</th>\n",
       "      <th>precio</th>\n",
       "      <th>image1</th>\n",
       "      <th>image2</th>\n",
       "      <th>image3</th>\n",
       "      <th>empresa</th>\n",
       "    </tr>\n",
       "  </thead>\n",
       "  <tbody>\n",
       "    <tr>\n",
       "      <th>0</th>\n",
       "      <td>T110397175</td>\n",
       "      <td>Vino Tinto Cabernet Sauvignon Reserva - 750 CC</td>\n",
       "      <td>Vino Tinto Gran Reserva Valley Selection Botel...</td>\n",
       "      <td>valdivieso</td>\n",
       "      <td>750 cc</td>\n",
       "      <td>9230</td>\n",
       "      <td>https://7483c243aa9da28f329c-903e05bc00667eb97...</td>\n",
       "      <td>NaN</td>\n",
       "      <td>NaN</td>\n",
       "      <td>Tottus</td>\n",
       "    </tr>\n",
       "    <tr>\n",
       "      <th>1</th>\n",
       "      <td>T110617267</td>\n",
       "      <td>Vino Tinto Merlot Reserva - 750 CC</td>\n",
       "      <td>NaN</td>\n",
       "      <td>medalla-real</td>\n",
       "      <td>750 cc</td>\n",
       "      <td>5490</td>\n",
       "      <td>https://7483c243aa9da28f329c-903e05bc00667eb97...</td>\n",
       "      <td>NaN</td>\n",
       "      <td>NaN</td>\n",
       "      <td>Tottus</td>\n",
       "    </tr>\n",
       "    <tr>\n",
       "      <th>2</th>\n",
       "      <td>T110619820</td>\n",
       "      <td>VINO VIU MANENT GRAN RVA CA 750ML 14G</td>\n",
       "      <td>VINO VIU MANENT GRAN RVA CA 750ML 14G</td>\n",
       "      <td>viu-manent</td>\n",
       "      <td>750 cc</td>\n",
       "      <td>10150</td>\n",
       "      <td>https://7483c243aa9da28f329c-903e05bc00667eb97...</td>\n",
       "      <td>NaN</td>\n",
       "      <td>NaN</td>\n",
       "      <td>Tottus</td>\n",
       "    </tr>\n",
       "  </tbody>\n",
       "</table>\n",
       "</div>"
      ],
      "text/plain": [
       "           id                                            name  \\\n",
       "0  T110397175  Vino Tinto Cabernet Sauvignon Reserva - 750 CC   \n",
       "1  T110617267              Vino Tinto Merlot Reserva - 750 CC   \n",
       "2  T110619820          VINO VIU MANENT GRAN RVA CA 750ML 14G    \n",
       "\n",
       "                                         description         marca formato  \\\n",
       "0  Vino Tinto Gran Reserva Valley Selection Botel...    valdivieso  750 cc   \n",
       "1                                                NaN  medalla-real  750 cc   \n",
       "2             VINO VIU MANENT GRAN RVA CA 750ML 14G     viu-manent  750 cc   \n",
       "\n",
       "   precio                                             image1 image2 image3  \\\n",
       "0    9230  https://7483c243aa9da28f329c-903e05bc00667eb97...    NaN    NaN   \n",
       "1    5490  https://7483c243aa9da28f329c-903e05bc00667eb97...    NaN    NaN   \n",
       "2   10150  https://7483c243aa9da28f329c-903e05bc00667eb97...    NaN    NaN   \n",
       "\n",
       "  empresa  \n",
       "0  Tottus  \n",
       "1  Tottus  \n",
       "2  Tottus  "
      ]
     },
     "execution_count": 1111,
     "metadata": {},
     "output_type": "execute_result"
    }
   ],
   "source": [
    "df_productos = df_matching[vars_productos].drop_duplicates()\n",
    "df_productos.head(3)"
   ]
  },
  {
   "cell_type": "code",
   "execution_count": 1112,
   "metadata": {},
   "outputs": [
    {
     "data": {
      "text/plain": [
       "id                 0\n",
       "name               0\n",
       "description       55\n",
       "marca            246\n",
       "formato            1\n",
       "precio             0\n",
       "image1             0\n",
       "image2         21395\n",
       "image3         21420\n",
       "empresa            0\n",
       "dtype: int64"
      ]
     },
     "execution_count": 1112,
     "metadata": {},
     "output_type": "execute_result"
    }
   ],
   "source": [
    "df_productos.isnull().sum()"
   ]
  },
  {
   "cell_type": "code",
   "execution_count": 1113,
   "metadata": {},
   "outputs": [
    {
     "data": {
      "text/plain": [
       "(21430, 10)"
      ]
     },
     "execution_count": 1113,
     "metadata": {},
     "output_type": "execute_result"
    }
   ],
   "source": [
    "df_productos.shape"
   ]
  },
  {
   "cell_type": "code",
   "execution_count": 1114,
   "metadata": {},
   "outputs": [],
   "source": [
    "df_productos.sort_values(['image1', 'precio'], ascending=[True, True], inplace=True)\n",
    "df_productos['rank'] = 1\n",
    "df_productos['rank'] = df_productos.groupby(['id'])['rank'].cumsum()\n",
    "df_productos = df_productos[df_productos['rank']==1][vars_productos]\n",
    "df_productos = df_productos.sort_values(['empresa', 'name']).reset_index(drop=True)"
   ]
  },
  {
   "cell_type": "code",
   "execution_count": 1115,
   "metadata": {},
   "outputs": [
    {
     "data": {
      "text/plain": [
       "(21399, 10)"
      ]
     },
     "execution_count": 1115,
     "metadata": {},
     "output_type": "execute_result"
    }
   ],
   "source": [
    "df_productos.shape"
   ]
  },
  {
   "cell_type": "code",
   "execution_count": 1116,
   "metadata": {},
   "outputs": [
    {
     "data": {
      "text/plain": [
       "(21399, 21399)"
      ]
     },
     "execution_count": 1116,
     "metadata": {},
     "output_type": "execute_result"
    }
   ],
   "source": [
    "df_productos.shape[0], df_productos['id'].nunique()"
   ]
  },
  {
   "cell_type": "code",
   "execution_count": 1117,
   "metadata": {},
   "outputs": [
    {
     "data": {
      "text/plain": [
       "(21396, 10)"
      ]
     },
     "execution_count": 1117,
     "metadata": {},
     "output_type": "execute_result"
    }
   ],
   "source": [
    "df_productos[df_productos['precio']>0].shape"
   ]
  },
  {
   "cell_type": "code",
   "execution_count": 1118,
   "metadata": {},
   "outputs": [
    {
     "data": {
      "text/plain": [
       "(21396, 10)"
      ]
     },
     "execution_count": 1118,
     "metadata": {},
     "output_type": "execute_result"
    }
   ],
   "source": [
    "df_productos[(df_productos['name']!='no info') & (df_productos['precio']>0)].shape"
   ]
  },
  {
   "cell_type": "code",
   "execution_count": 1119,
   "metadata": {},
   "outputs": [],
   "source": [
    "actual_date = str(datetime.now())[0:10]\n",
    "\n",
    "df_productos[(df_productos['name']!='no info') & (df_productos['precio']>0)].to_excel(ruta + f'data_productos.xlsx'.format(actual_date), index=0)"
   ]
  },
  {
   "cell_type": "markdown",
   "metadata": {},
   "source": [
    "### Productos - Categorías"
   ]
  },
  {
   "cell_type": "code",
   "execution_count": 1120,
   "metadata": {},
   "outputs": [],
   "source": [
    "vars_productos_cat = ['id', 'name', 'description', 'marca' ,'formato', 'empresa',\n",
    "                        'cod_cat_n1_smt', 'categoria_nivel_1',\n",
    "                        'cod_cat_n2_smt', 'categoria_nivel_2']"
   ]
  },
  {
   "cell_type": "code",
   "execution_count": 1121,
   "metadata": {},
   "outputs": [
    {
     "data": {
      "text/plain": [
       "(21399, 21399)"
      ]
     },
     "execution_count": 1121,
     "metadata": {},
     "output_type": "execute_result"
    }
   ],
   "source": [
    "df_productos.shape[0], df_productos['id'].nunique()"
   ]
  },
  {
   "cell_type": "code",
   "execution_count": 1122,
   "metadata": {},
   "outputs": [
    {
     "data": {
      "text/html": [
       "<div>\n",
       "<style scoped>\n",
       "    .dataframe tbody tr th:only-of-type {\n",
       "        vertical-align: middle;\n",
       "    }\n",
       "\n",
       "    .dataframe tbody tr th {\n",
       "        vertical-align: top;\n",
       "    }\n",
       "\n",
       "    .dataframe thead th {\n",
       "        text-align: right;\n",
       "    }\n",
       "</style>\n",
       "<table border=\"1\" class=\"dataframe\">\n",
       "  <thead>\n",
       "    <tr style=\"text-align: right;\">\n",
       "      <th></th>\n",
       "      <th>id</th>\n",
       "      <th>name</th>\n",
       "      <th>description</th>\n",
       "      <th>marca</th>\n",
       "      <th>formato</th>\n",
       "      <th>empresa</th>\n",
       "      <th>cod_cat_n1_smt</th>\n",
       "      <th>categoria_nivel_1</th>\n",
       "      <th>cod_cat_n2_smt</th>\n",
       "      <th>categoria_nivel_2</th>\n",
       "    </tr>\n",
       "  </thead>\n",
       "  <tbody>\n",
       "    <tr>\n",
       "      <th>0</th>\n",
       "      <td>J1887323</td>\n",
       "      <td>7 especias 70 g</td>\n",
       "      <td>¡Úsalo sólo y punto! Este condimento no necesi...</td>\n",
       "      <td>suk</td>\n",
       "      <td>70 g</td>\n",
       "      <td>Jumbo</td>\n",
       "      <td>D_001</td>\n",
       "      <td>Despensa</td>\n",
       "      <td>AYA_001</td>\n",
       "      <td>Aceites y Aderezos</td>\n",
       "    </tr>\n",
       "    <tr>\n",
       "      <th>1</th>\n",
       "      <td>J1949971</td>\n",
       "      <td>ALFAJOR CHOCOLATE DEUBEL 6UN</td>\n",
       "      <td>no info</td>\n",
       "      <td>deubel</td>\n",
       "      <td>deubel 6un</td>\n",
       "      <td>Jumbo</td>\n",
       "      <td>PYP_001</td>\n",
       "      <td>Panadería y Pastelería</td>\n",
       "      <td>PAS_001</td>\n",
       "      <td>Pastelería</td>\n",
       "    </tr>\n",
       "    <tr>\n",
       "      <th>2</th>\n",
       "      <td>J1949973</td>\n",
       "      <td>ALFAJOR SANTAFESINO DEUBEL 4 UN</td>\n",
       "      <td>no info</td>\n",
       "      <td>deubel</td>\n",
       "      <td>4 un</td>\n",
       "      <td>Jumbo</td>\n",
       "      <td>PYP_001</td>\n",
       "      <td>Panadería y Pastelería</td>\n",
       "      <td>PAS_001</td>\n",
       "      <td>Pastelería</td>\n",
       "    </tr>\n",
       "  </tbody>\n",
       "</table>\n",
       "</div>"
      ],
      "text/plain": [
       "         id                             name  \\\n",
       "0  J1887323                  7 especias 70 g   \n",
       "1  J1949971     ALFAJOR CHOCOLATE DEUBEL 6UN   \n",
       "2  J1949973  ALFAJOR SANTAFESINO DEUBEL 4 UN   \n",
       "\n",
       "                                         description   marca     formato  \\\n",
       "0  ¡Úsalo sólo y punto! Este condimento no necesi...     suk        70 g   \n",
       "1                                            no info  deubel  deubel 6un   \n",
       "2                                            no info  deubel        4 un   \n",
       "\n",
       "  empresa cod_cat_n1_smt       categoria_nivel_1 cod_cat_n2_smt  \\\n",
       "0   Jumbo          D_001                Despensa        AYA_001   \n",
       "1   Jumbo        PYP_001  Panadería y Pastelería        PAS_001   \n",
       "2   Jumbo        PYP_001  Panadería y Pastelería        PAS_001   \n",
       "\n",
       "    categoria_nivel_2  \n",
       "0  Aceites y Aderezos  \n",
       "1          Pastelería  \n",
       "2          Pastelería  "
      ]
     },
     "execution_count": 1122,
     "metadata": {},
     "output_type": "execute_result"
    }
   ],
   "source": [
    "df_productos_cat = df_matching[vars_productos_cat].reset_index(drop=True).drop_duplicates()\n",
    "df_productos_cat = df_productos_cat.sort_values(['empresa', 'name']).reset_index(drop=True)\n",
    "df_productos_cat.head(3)"
   ]
  },
  {
   "cell_type": "code",
   "execution_count": 1123,
   "metadata": {},
   "outputs": [
    {
     "data": {
      "text/plain": [
       "id                     0\n",
       "name                   0\n",
       "description           55\n",
       "marca                265\n",
       "formato                1\n",
       "empresa                0\n",
       "cod_cat_n1_smt         0\n",
       "categoria_nivel_1      0\n",
       "cod_cat_n2_smt         0\n",
       "categoria_nivel_2      0\n",
       "dtype: int64"
      ]
     },
     "execution_count": 1123,
     "metadata": {},
     "output_type": "execute_result"
    }
   ],
   "source": [
    "df_productos_cat.isnull().sum()"
   ]
  },
  {
   "cell_type": "code",
   "execution_count": 1124,
   "metadata": {},
   "outputs": [
    {
     "data": {
      "text/plain": [
       "(22330, 10)"
      ]
     },
     "execution_count": 1124,
     "metadata": {},
     "output_type": "execute_result"
    }
   ],
   "source": [
    "df_productos_cat.shape"
   ]
  },
  {
   "cell_type": "code",
   "execution_count": 1125,
   "metadata": {},
   "outputs": [
    {
     "data": {
      "text/plain": [
       "(22329, 10)"
      ]
     },
     "execution_count": 1125,
     "metadata": {},
     "output_type": "execute_result"
    }
   ],
   "source": [
    "df_productos_cat[df_productos_cat['name']!='no info'].shape"
   ]
  },
  {
   "cell_type": "code",
   "execution_count": 1126,
   "metadata": {},
   "outputs": [],
   "source": [
    "actual_date = str(datetime.now())[0:10]\n",
    "\n",
    "df_productos_cat[(df_productos_cat['name']!='no info')].to_excel(ruta + f'data_productos_cat.xlsx'.format(actual_date), index=0)"
   ]
  },
  {
   "cell_type": "markdown",
   "metadata": {},
   "source": [
    "### Código Smart Buy"
   ]
  },
  {
   "cell_type": "markdown",
   "metadata": {},
   "source": [
    "#### Lider"
   ]
  },
  {
   "cell_type": "code",
   "execution_count": 1127,
   "metadata": {},
   "outputs": [],
   "source": [
    "df_lider = df_productos[df_productos['empresa']=='Lider'].reset_index(drop=True)"
   ]
  },
  {
   "cell_type": "code",
   "execution_count": 1128,
   "metadata": {},
   "outputs": [],
   "source": [
    "df_lider['cod_smt'] = df_lider.index+1\n",
    "df_lider['cod_smt'] = 'SMT_' + df_lider['cod_smt'].astype(str).str.zfill(6)"
   ]
  },
  {
   "cell_type": "code",
   "execution_count": 1129,
   "metadata": {},
   "outputs": [
    {
     "data": {
      "text/plain": [
       "((10346, 11), 10346)"
      ]
     },
     "execution_count": 1129,
     "metadata": {},
     "output_type": "execute_result"
    }
   ],
   "source": [
    "df_lider.shape, df_lider['id'].nunique()"
   ]
  },
  {
   "cell_type": "code",
   "execution_count": 1130,
   "metadata": {},
   "outputs": [
    {
     "data": {
      "text/plain": [
       "(21399, 10)"
      ]
     },
     "execution_count": 1130,
     "metadata": {},
     "output_type": "execute_result"
    }
   ],
   "source": [
    "df_productos.shape"
   ]
  },
  {
   "cell_type": "code",
   "execution_count": 1131,
   "metadata": {},
   "outputs": [],
   "source": [
    "df_productos_1 = pd.merge(df_productos, df_lider[['id', 'empresa', 'cod_smt']], on=['id', 'empresa'], how='left')"
   ]
  },
  {
   "cell_type": "code",
   "execution_count": 1132,
   "metadata": {},
   "outputs": [
    {
     "data": {
      "text/plain": [
       "(21399, 11)"
      ]
     },
     "execution_count": 1132,
     "metadata": {},
     "output_type": "execute_result"
    }
   ],
   "source": [
    "df_productos_1.shape"
   ]
  },
  {
   "cell_type": "code",
   "execution_count": 1133,
   "metadata": {},
   "outputs": [
    {
     "data": {
      "text/html": [
       "<div>\n",
       "<style scoped>\n",
       "    .dataframe tbody tr th:only-of-type {\n",
       "        vertical-align: middle;\n",
       "    }\n",
       "\n",
       "    .dataframe tbody tr th {\n",
       "        vertical-align: top;\n",
       "    }\n",
       "\n",
       "    .dataframe thead th {\n",
       "        text-align: right;\n",
       "    }\n",
       "</style>\n",
       "<table border=\"1\" class=\"dataframe\">\n",
       "  <thead>\n",
       "    <tr style=\"text-align: right;\">\n",
       "      <th></th>\n",
       "      <th>id</th>\n",
       "      <th>name</th>\n",
       "      <th>description</th>\n",
       "      <th>marca</th>\n",
       "      <th>formato</th>\n",
       "      <th>precio</th>\n",
       "      <th>image1</th>\n",
       "      <th>image2</th>\n",
       "      <th>image3</th>\n",
       "      <th>empresa</th>\n",
       "      <th>cod_smt</th>\n",
       "    </tr>\n",
       "  </thead>\n",
       "  <tbody>\n",
       "    <tr>\n",
       "      <th>0</th>\n",
       "      <td>J1887323</td>\n",
       "      <td>7 especias 70 g</td>\n",
       "      <td>¡Úsalo sólo y punto! Este condimento no necesi...</td>\n",
       "      <td>suk</td>\n",
       "      <td>70 g</td>\n",
       "      <td>3999</td>\n",
       "      <td>https://jumbo.vtexassets.com/arquivos/ids/5018...</td>\n",
       "      <td>NaN</td>\n",
       "      <td>NaN</td>\n",
       "      <td>Jumbo</td>\n",
       "      <td>NaN</td>\n",
       "    </tr>\n",
       "  </tbody>\n",
       "</table>\n",
       "</div>"
      ],
      "text/plain": [
       "         id             name  \\\n",
       "0  J1887323  7 especias 70 g   \n",
       "\n",
       "                                         description marca formato  precio  \\\n",
       "0  ¡Úsalo sólo y punto! Este condimento no necesi...   suk    70 g    3999   \n",
       "\n",
       "                                              image1 image2 image3 empresa  \\\n",
       "0  https://jumbo.vtexassets.com/arquivos/ids/5018...    NaN    NaN   Jumbo   \n",
       "\n",
       "  cod_smt  \n",
       "0     NaN  "
      ]
     },
     "execution_count": 1133,
     "metadata": {},
     "output_type": "execute_result"
    }
   ],
   "source": [
    "df_productos_1.head(1)"
   ]
  },
  {
   "cell_type": "code",
   "execution_count": 1134,
   "metadata": {},
   "outputs": [
    {
     "data": {
      "text/plain": [
       "(21399, 11)"
      ]
     },
     "execution_count": 1134,
     "metadata": {},
     "output_type": "execute_result"
    }
   ],
   "source": [
    "df_productos_1.shape"
   ]
  },
  {
   "cell_type": "markdown",
   "metadata": {},
   "source": [
    "#### Jumbo"
   ]
  },
  {
   "cell_type": "markdown",
   "metadata": {},
   "source": [
    "##### Jumbo vs Lider"
   ]
  },
  {
   "cell_type": "code",
   "execution_count": 1135,
   "metadata": {},
   "outputs": [
    {
     "data": {
      "text/plain": [
       "(10413, 10)"
      ]
     },
     "execution_count": 1135,
     "metadata": {},
     "output_type": "execute_result"
    }
   ],
   "source": [
    "df_jumbo = df_productos[df_productos['empresa']=='Jumbo'].reset_index(drop=True)\n",
    "df_jumbo.shape"
   ]
  },
  {
   "cell_type": "code",
   "execution_count": 1136,
   "metadata": {},
   "outputs": [],
   "source": [
    "df_jumbo_2 = pd.merge(df_jumbo, df_matching[(df_matching['empresa']=='Jumbo')][['id', 'empresa', 'name_lider', 'score_lider', 'precio_lider', 'marca_lider', 'formato_lider']].drop_duplicates(), on=['id', 'empresa'], how='left')"
   ]
  },
  {
   "cell_type": "code",
   "execution_count": 1137,
   "metadata": {},
   "outputs": [
    {
     "data": {
      "text/plain": [
       "(10413, 15)"
      ]
     },
     "execution_count": 1137,
     "metadata": {},
     "output_type": "execute_result"
    }
   ],
   "source": [
    "df_jumbo_2.shape"
   ]
  },
  {
   "cell_type": "code",
   "execution_count": 1138,
   "metadata": {},
   "outputs": [
    {
     "data": {
      "text/html": [
       "<div>\n",
       "<style scoped>\n",
       "    .dataframe tbody tr th:only-of-type {\n",
       "        vertical-align: middle;\n",
       "    }\n",
       "\n",
       "    .dataframe tbody tr th {\n",
       "        vertical-align: top;\n",
       "    }\n",
       "\n",
       "    .dataframe thead th {\n",
       "        text-align: right;\n",
       "    }\n",
       "</style>\n",
       "<table border=\"1\" class=\"dataframe\">\n",
       "  <thead>\n",
       "    <tr style=\"text-align: right;\">\n",
       "      <th></th>\n",
       "      <th>id</th>\n",
       "      <th>name</th>\n",
       "      <th>description</th>\n",
       "      <th>marca</th>\n",
       "      <th>formato</th>\n",
       "      <th>precio</th>\n",
       "      <th>image1</th>\n",
       "      <th>image2</th>\n",
       "      <th>image3</th>\n",
       "      <th>empresa</th>\n",
       "      <th>cod_smt</th>\n",
       "    </tr>\n",
       "  </thead>\n",
       "  <tbody>\n",
       "    <tr>\n",
       "      <th>0</th>\n",
       "      <td>J1887323</td>\n",
       "      <td>7 especias 70 g</td>\n",
       "      <td>¡Úsalo sólo y punto! Este condimento no necesi...</td>\n",
       "      <td>suk</td>\n",
       "      <td>70 g</td>\n",
       "      <td>3999</td>\n",
       "      <td>https://jumbo.vtexassets.com/arquivos/ids/5018...</td>\n",
       "      <td>NaN</td>\n",
       "      <td>NaN</td>\n",
       "      <td>Jumbo</td>\n",
       "      <td>NaN</td>\n",
       "    </tr>\n",
       "  </tbody>\n",
       "</table>\n",
       "</div>"
      ],
      "text/plain": [
       "         id             name  \\\n",
       "0  J1887323  7 especias 70 g   \n",
       "\n",
       "                                         description marca formato  precio  \\\n",
       "0  ¡Úsalo sólo y punto! Este condimento no necesi...   suk    70 g    3999   \n",
       "\n",
       "                                              image1 image2 image3 empresa  \\\n",
       "0  https://jumbo.vtexassets.com/arquivos/ids/5018...    NaN    NaN   Jumbo   \n",
       "\n",
       "  cod_smt  \n",
       "0     NaN  "
      ]
     },
     "execution_count": 1138,
     "metadata": {},
     "output_type": "execute_result"
    }
   ],
   "source": [
    "df_productos_1.head(1)"
   ]
  },
  {
   "cell_type": "code",
   "execution_count": 1139,
   "metadata": {},
   "outputs": [],
   "source": [
    "df_prod_lider = df_productos_1[df_productos_1['empresa']=='Lider'][['name', 'marca', 'formato', 'cod_smt']]"
   ]
  },
  {
   "cell_type": "code",
   "execution_count": 1140,
   "metadata": {},
   "outputs": [],
   "source": [
    "df_prod_lider['product'] = df_prod_lider['name'].astype(str) + ' ' +\\\n",
    "                            df_prod_lider['marca'].astype(str) + ' ' +\\\n",
    "                            df_prod_lider['formato'].astype(str)"
   ]
  },
  {
   "cell_type": "code",
   "execution_count": 1141,
   "metadata": {},
   "outputs": [],
   "source": [
    "def remove_stopwords(lines, sw = sw):\n",
    "    '''\n",
    "    The purpose of this function is to remove stopwords from a given array of \n",
    "    lines.\n",
    "    \n",
    "    params:\n",
    "        lines (Array / List) : The list of lines you want to remove the stopwords from\n",
    "        sw (Set) : The set of stopwords you want to remove\n",
    "        \n",
    "    example:\n",
    "        lines = remove_stopwords(lines = lines, sw = sw)\n",
    "    '''\n",
    "    \n",
    "    res = []\n",
    "    for line in lines:\n",
    "        original = line\n",
    "        line = [w for w in line if w not in sw]\n",
    "        if len(line) < 1:\n",
    "            line = original\n",
    "        res.append(line)\n",
    "    return res"
   ]
  },
  {
   "cell_type": "code",
   "execution_count": 1142,
   "metadata": {},
   "outputs": [],
   "source": [
    "lines = df_prod_lider['product'].tolist()\n",
    "\n",
    "# remove new lines\n",
    "lines = [line.rstrip('\\n') for line in lines]\n",
    "\n",
    "# make all characters lower\n",
    "lines = [line.lower() for line in lines]\n",
    "\n",
    "# remove punctuations from each line\n",
    "lines = [line.translate(str.maketrans('', '', string.punctuation)) for line in lines]\n",
    "\n",
    "# tokenize\n",
    "lines = [word_tokenize(line) for line in lines]\n",
    "    \n",
    "filtered_lines = remove_stopwords(lines = lines, sw = sw)\n",
    "\n",
    "filtered_lines = [TreebankWordDetokenizer().detokenize(line) for line in filtered_lines]"
   ]
  },
  {
   "cell_type": "code",
   "execution_count": 1143,
   "metadata": {},
   "outputs": [],
   "source": [
    "df_prod_lider['product'] = filtered_lines"
   ]
  },
  {
   "cell_type": "code",
   "execution_count": 1144,
   "metadata": {},
   "outputs": [],
   "source": [
    "df_jumbo_3 = pd.merge(df_jumbo_2, df_prod_lider[['product', 'cod_smt']], left_on=['name_lider'], right_on=['product'], how='left')"
   ]
  },
  {
   "cell_type": "code",
   "execution_count": 1145,
   "metadata": {},
   "outputs": [
    {
     "data": {
      "text/plain": [
       "(21399, 11)"
      ]
     },
     "execution_count": 1145,
     "metadata": {},
     "output_type": "execute_result"
    }
   ],
   "source": [
    "df_productos_1.shape"
   ]
  },
  {
   "cell_type": "code",
   "execution_count": 1146,
   "metadata": {},
   "outputs": [],
   "source": [
    "df_productos_2 = pd.merge(df_productos_1, df_jumbo_3[['id', 'name_lider', 'score_lider', 'precio_lider', 'marca_lider', 'formato_lider', 'cod_smt']], on=['id'], how='left')"
   ]
  },
  {
   "cell_type": "code",
   "execution_count": 1147,
   "metadata": {},
   "outputs": [
    {
     "data": {
      "text/plain": [
       "(21469, 17)"
      ]
     },
     "execution_count": 1147,
     "metadata": {},
     "output_type": "execute_result"
    }
   ],
   "source": [
    "df_productos_2.shape"
   ]
  },
  {
   "cell_type": "code",
   "execution_count": 1148,
   "metadata": {},
   "outputs": [],
   "source": [
    "df_productos_2['cod_smt'] = np.where(df_productos_2['cod_smt_x'].isnull(), df_productos_2['cod_smt_y'], df_productos_2['cod_smt_x'])"
   ]
  },
  {
   "cell_type": "code",
   "execution_count": 1149,
   "metadata": {},
   "outputs": [],
   "source": [
    "del df_productos_2['cod_smt_x'], df_productos_2['cod_smt_y']"
   ]
  },
  {
   "cell_type": "code",
   "execution_count": 1150,
   "metadata": {},
   "outputs": [
    {
     "data": {
      "text/plain": [
       "((21399, 11), (21399, 10))"
      ]
     },
     "execution_count": 1150,
     "metadata": {},
     "output_type": "execute_result"
    }
   ],
   "source": [
    "cols = df_productos.columns.tolist()\n",
    "df_productos_2.sort_values(['score_lider', 'precio_lider'], ascending=[False, True], inplace=True)\n",
    "df_productos_2['rank'] = 1\n",
    "df_productos_2['rank'] = df_productos_2.groupby(cols, dropna=False)['rank'].cumsum()\n",
    "df_productos_2 = df_productos_2[df_productos_2['rank']==1]\n",
    "df_prod_jumbo = df_productos_2[df_productos_2['empresa']=='Jumbo']\n",
    "df_productos_2 = df_productos_2[df_productos_1.columns]\n",
    "df_productos_2.shape, df_productos_2[cols].drop_duplicates().shape"
   ]
  },
  {
   "cell_type": "code",
   "execution_count": 1151,
   "metadata": {},
   "outputs": [
    {
     "data": {
      "text/html": [
       "<div>\n",
       "<style scoped>\n",
       "    .dataframe tbody tr th:only-of-type {\n",
       "        vertical-align: middle;\n",
       "    }\n",
       "\n",
       "    .dataframe tbody tr th {\n",
       "        vertical-align: top;\n",
       "    }\n",
       "\n",
       "    .dataframe thead th {\n",
       "        text-align: right;\n",
       "    }\n",
       "</style>\n",
       "<table border=\"1\" class=\"dataframe\">\n",
       "  <thead>\n",
       "    <tr style=\"text-align: right;\">\n",
       "      <th></th>\n",
       "      <th>id</th>\n",
       "      <th>name</th>\n",
       "      <th>description</th>\n",
       "      <th>marca</th>\n",
       "      <th>formato</th>\n",
       "      <th>precio</th>\n",
       "      <th>image1</th>\n",
       "      <th>image2</th>\n",
       "      <th>image3</th>\n",
       "      <th>cod_smt</th>\n",
       "    </tr>\n",
       "    <tr>\n",
       "      <th>empresa</th>\n",
       "      <th></th>\n",
       "      <th></th>\n",
       "      <th></th>\n",
       "      <th></th>\n",
       "      <th></th>\n",
       "      <th></th>\n",
       "      <th></th>\n",
       "      <th></th>\n",
       "      <th></th>\n",
       "      <th></th>\n",
       "    </tr>\n",
       "  </thead>\n",
       "  <tbody>\n",
       "    <tr>\n",
       "      <th>Jumbo</th>\n",
       "      <td>10413</td>\n",
       "      <td>10413</td>\n",
       "      <td>10413</td>\n",
       "      <td>10413</td>\n",
       "      <td>10413</td>\n",
       "      <td>10413</td>\n",
       "      <td>10413</td>\n",
       "      <td>0</td>\n",
       "      <td>0</td>\n",
       "      <td>6122</td>\n",
       "    </tr>\n",
       "    <tr>\n",
       "      <th>Lider</th>\n",
       "      <td>10346</td>\n",
       "      <td>10346</td>\n",
       "      <td>10346</td>\n",
       "      <td>10346</td>\n",
       "      <td>10346</td>\n",
       "      <td>10346</td>\n",
       "      <td>10346</td>\n",
       "      <td>0</td>\n",
       "      <td>0</td>\n",
       "      <td>10346</td>\n",
       "    </tr>\n",
       "    <tr>\n",
       "      <th>Tottus</th>\n",
       "      <td>640</td>\n",
       "      <td>640</td>\n",
       "      <td>585</td>\n",
       "      <td>394</td>\n",
       "      <td>639</td>\n",
       "      <td>640</td>\n",
       "      <td>640</td>\n",
       "      <td>35</td>\n",
       "      <td>10</td>\n",
       "      <td>0</td>\n",
       "    </tr>\n",
       "  </tbody>\n",
       "</table>\n",
       "</div>"
      ],
      "text/plain": [
       "            id   name  description  marca  formato  precio  image1  image2  \\\n",
       "empresa                                                                      \n",
       "Jumbo    10413  10413        10413  10413    10413   10413   10413       0   \n",
       "Lider    10346  10346        10346  10346    10346   10346   10346       0   \n",
       "Tottus     640    640          585    394      639     640     640      35   \n",
       "\n",
       "         image3  cod_smt  \n",
       "empresa                   \n",
       "Jumbo         0     6122  \n",
       "Lider         0    10346  \n",
       "Tottus       10        0  "
      ]
     },
     "execution_count": 1151,
     "metadata": {},
     "output_type": "execute_result"
    }
   ],
   "source": [
    "df_productos_2.groupby('empresa').count()"
   ]
  },
  {
   "cell_type": "code",
   "execution_count": 1152,
   "metadata": {},
   "outputs": [
    {
     "data": {
      "text/html": [
       "<div>\n",
       "<style scoped>\n",
       "    .dataframe tbody tr th:only-of-type {\n",
       "        vertical-align: middle;\n",
       "    }\n",
       "\n",
       "    .dataframe tbody tr th {\n",
       "        vertical-align: top;\n",
       "    }\n",
       "\n",
       "    .dataframe thead th {\n",
       "        text-align: right;\n",
       "    }\n",
       "</style>\n",
       "<table border=\"1\" class=\"dataframe\">\n",
       "  <thead>\n",
       "    <tr style=\"text-align: right;\">\n",
       "      <th></th>\n",
       "      <th>id</th>\n",
       "      <th>name</th>\n",
       "      <th>description</th>\n",
       "      <th>marca</th>\n",
       "      <th>formato</th>\n",
       "      <th>precio</th>\n",
       "      <th>image1</th>\n",
       "      <th>image2</th>\n",
       "      <th>image3</th>\n",
       "      <th>cod_smt</th>\n",
       "    </tr>\n",
       "    <tr>\n",
       "      <th>empresa</th>\n",
       "      <th></th>\n",
       "      <th></th>\n",
       "      <th></th>\n",
       "      <th></th>\n",
       "      <th></th>\n",
       "      <th></th>\n",
       "      <th></th>\n",
       "      <th></th>\n",
       "      <th></th>\n",
       "      <th></th>\n",
       "    </tr>\n",
       "  </thead>\n",
       "  <tbody>\n",
       "    <tr>\n",
       "      <th>Jumbo</th>\n",
       "      <td>10413</td>\n",
       "      <td>10087</td>\n",
       "      <td>7885</td>\n",
       "      <td>1543</td>\n",
       "      <td>1503</td>\n",
       "      <td>1590</td>\n",
       "      <td>10406</td>\n",
       "      <td>0</td>\n",
       "      <td>0</td>\n",
       "      <td>3615</td>\n",
       "    </tr>\n",
       "    <tr>\n",
       "      <th>Lider</th>\n",
       "      <td>10346</td>\n",
       "      <td>9813</td>\n",
       "      <td>6726</td>\n",
       "      <td>1387</td>\n",
       "      <td>899</td>\n",
       "      <td>978</td>\n",
       "      <td>9462</td>\n",
       "      <td>0</td>\n",
       "      <td>0</td>\n",
       "      <td>10346</td>\n",
       "    </tr>\n",
       "    <tr>\n",
       "      <th>Tottus</th>\n",
       "      <td>640</td>\n",
       "      <td>632</td>\n",
       "      <td>579</td>\n",
       "      <td>173</td>\n",
       "      <td>162</td>\n",
       "      <td>324</td>\n",
       "      <td>640</td>\n",
       "      <td>35</td>\n",
       "      <td>10</td>\n",
       "      <td>0</td>\n",
       "    </tr>\n",
       "  </tbody>\n",
       "</table>\n",
       "</div>"
      ],
      "text/plain": [
       "            id   name  description  marca  formato  precio  image1  image2  \\\n",
       "empresa                                                                      \n",
       "Jumbo    10413  10087         7885   1543     1503    1590   10406       0   \n",
       "Lider    10346   9813         6726   1387      899     978    9462       0   \n",
       "Tottus     640    632          579    173      162     324     640      35   \n",
       "\n",
       "         image3  cod_smt  \n",
       "empresa                   \n",
       "Jumbo         0     3615  \n",
       "Lider         0    10346  \n",
       "Tottus       10        0  "
      ]
     },
     "execution_count": 1152,
     "metadata": {},
     "output_type": "execute_result"
    }
   ],
   "source": [
    "df_productos_2.groupby('empresa').nunique()"
   ]
  },
  {
   "cell_type": "code",
   "execution_count": 1153,
   "metadata": {},
   "outputs": [
    {
     "data": {
      "text/html": [
       "<div>\n",
       "<style scoped>\n",
       "    .dataframe tbody tr th:only-of-type {\n",
       "        vertical-align: middle;\n",
       "    }\n",
       "\n",
       "    .dataframe tbody tr th {\n",
       "        vertical-align: top;\n",
       "    }\n",
       "\n",
       "    .dataframe thead th {\n",
       "        text-align: right;\n",
       "    }\n",
       "</style>\n",
       "<table border=\"1\" class=\"dataframe\">\n",
       "  <thead>\n",
       "    <tr style=\"text-align: right;\">\n",
       "      <th></th>\n",
       "      <th>id</th>\n",
       "      <th>name</th>\n",
       "      <th>description</th>\n",
       "      <th>marca</th>\n",
       "      <th>formato</th>\n",
       "      <th>precio</th>\n",
       "      <th>image1</th>\n",
       "      <th>image2</th>\n",
       "      <th>image3</th>\n",
       "      <th>empresa</th>\n",
       "      <th>name_lider</th>\n",
       "      <th>score_lider</th>\n",
       "      <th>precio_lider</th>\n",
       "      <th>marca_lider</th>\n",
       "      <th>formato_lider</th>\n",
       "      <th>cod_smt</th>\n",
       "      <th>rank</th>\n",
       "    </tr>\n",
       "  </thead>\n",
       "  <tbody>\n",
       "    <tr>\n",
       "      <th>2208</th>\n",
       "      <td>J302475</td>\n",
       "      <td>Chucrut bolsa 200 g</td>\n",
       "      <td>Don Juan es sabor auténtico. El sabroso y trad...</td>\n",
       "      <td>don juan</td>\n",
       "      <td>200 g</td>\n",
       "      <td>751</td>\n",
       "      <td>https://jumbo.vtexassets.com/arquivos/ids/4402...</td>\n",
       "      <td>NaN</td>\n",
       "      <td>NaN</td>\n",
       "      <td>Jumbo</td>\n",
       "      <td>chucrut bolsa 200 g don juan 200 g</td>\n",
       "      <td>100.0</td>\n",
       "      <td>980.0</td>\n",
       "      <td>don juan</td>\n",
       "      <td>200 g</td>\n",
       "      <td>SMT_002331</td>\n",
       "      <td>1</td>\n",
       "    </tr>\n",
       "  </tbody>\n",
       "</table>\n",
       "</div>"
      ],
      "text/plain": [
       "           id                 name  \\\n",
       "2208  J302475  Chucrut bolsa 200 g   \n",
       "\n",
       "                                            description     marca formato  \\\n",
       "2208  Don Juan es sabor auténtico. El sabroso y trad...  don juan   200 g   \n",
       "\n",
       "      precio                                             image1 image2 image3  \\\n",
       "2208     751  https://jumbo.vtexassets.com/arquivos/ids/4402...    NaN    NaN   \n",
       "\n",
       "     empresa                          name_lider  score_lider  precio_lider  \\\n",
       "2208   Jumbo  chucrut bolsa 200 g don juan 200 g        100.0         980.0   \n",
       "\n",
       "     marca_lider formato_lider     cod_smt  rank  \n",
       "2208    don juan         200 g  SMT_002331     1  "
      ]
     },
     "execution_count": 1153,
     "metadata": {},
     "output_type": "execute_result"
    }
   ],
   "source": [
    "df_prod_jumbo.head(1)"
   ]
  },
  {
   "cell_type": "code",
   "execution_count": 1154,
   "metadata": {},
   "outputs": [],
   "source": [
    "df_prod_jumbo['var_precio'] = abs((df_prod_jumbo['precio_lider']-df_prod_jumbo['precio'])/df_prod_jumbo['precio'])"
   ]
  },
  {
   "cell_type": "code",
   "execution_count": 1155,
   "metadata": {},
   "outputs": [
    {
     "data": {
      "text/html": [
       "<div>\n",
       "<style scoped>\n",
       "    .dataframe tbody tr th:only-of-type {\n",
       "        vertical-align: middle;\n",
       "    }\n",
       "\n",
       "    .dataframe tbody tr th {\n",
       "        vertical-align: top;\n",
       "    }\n",
       "\n",
       "    .dataframe thead th {\n",
       "        text-align: right;\n",
       "    }\n",
       "</style>\n",
       "<table border=\"1\" class=\"dataframe\">\n",
       "  <thead>\n",
       "    <tr style=\"text-align: right;\">\n",
       "      <th></th>\n",
       "      <th>id</th>\n",
       "      <th>name</th>\n",
       "      <th>description</th>\n",
       "      <th>marca</th>\n",
       "      <th>formato</th>\n",
       "      <th>precio</th>\n",
       "      <th>image1</th>\n",
       "      <th>image2</th>\n",
       "      <th>image3</th>\n",
       "      <th>empresa</th>\n",
       "      <th>name_lider</th>\n",
       "      <th>score_lider</th>\n",
       "      <th>precio_lider</th>\n",
       "      <th>marca_lider</th>\n",
       "      <th>formato_lider</th>\n",
       "      <th>cod_smt</th>\n",
       "      <th>rank</th>\n",
       "      <th>var_precio</th>\n",
       "    </tr>\n",
       "  </thead>\n",
       "  <tbody>\n",
       "    <tr>\n",
       "      <th>2208</th>\n",
       "      <td>J302475</td>\n",
       "      <td>Chucrut bolsa 200 g</td>\n",
       "      <td>Don Juan es sabor auténtico. El sabroso y trad...</td>\n",
       "      <td>don juan</td>\n",
       "      <td>200 g</td>\n",
       "      <td>751</td>\n",
       "      <td>https://jumbo.vtexassets.com/arquivos/ids/4402...</td>\n",
       "      <td>NaN</td>\n",
       "      <td>NaN</td>\n",
       "      <td>Jumbo</td>\n",
       "      <td>chucrut bolsa 200 g don juan 200 g</td>\n",
       "      <td>100.0</td>\n",
       "      <td>980.0</td>\n",
       "      <td>don juan</td>\n",
       "      <td>200 g</td>\n",
       "      <td>SMT_002331</td>\n",
       "      <td>1</td>\n",
       "      <td>0.304927</td>\n",
       "    </tr>\n",
       "  </tbody>\n",
       "</table>\n",
       "</div>"
      ],
      "text/plain": [
       "           id                 name  \\\n",
       "2208  J302475  Chucrut bolsa 200 g   \n",
       "\n",
       "                                            description     marca formato  \\\n",
       "2208  Don Juan es sabor auténtico. El sabroso y trad...  don juan   200 g   \n",
       "\n",
       "      precio                                             image1 image2 image3  \\\n",
       "2208     751  https://jumbo.vtexassets.com/arquivos/ids/4402...    NaN    NaN   \n",
       "\n",
       "     empresa                          name_lider  score_lider  precio_lider  \\\n",
       "2208   Jumbo  chucrut bolsa 200 g don juan 200 g        100.0         980.0   \n",
       "\n",
       "     marca_lider formato_lider     cod_smt  rank  var_precio  \n",
       "2208    don juan         200 g  SMT_002331     1    0.304927  "
      ]
     },
     "execution_count": 1155,
     "metadata": {},
     "output_type": "execute_result"
    }
   ],
   "source": [
    "df_prod_jumbo.head(1)"
   ]
  },
  {
   "cell_type": "code",
   "execution_count": 1156,
   "metadata": {},
   "outputs": [
    {
     "data": {
      "text/plain": [
       "((3616, 16), (3616,))"
      ]
     },
     "execution_count": 1156,
     "metadata": {},
     "output_type": "execute_result"
    }
   ],
   "source": [
    "df_prod_jumbo.sort_values(['var_precio'], ascending=[True], inplace=True)\n",
    "df_prod_jumbo['rank'] = 1\n",
    "df_prod_jumbo['rank'] = df_prod_jumbo.groupby('cod_smt', dropna=False)['rank'].cumsum()\n",
    "df_prod_jumbo = df_prod_jumbo[df_prod_jumbo['rank']==1]\n",
    "del df_prod_jumbo['rank'], df_prod_jumbo['var_precio']\n",
    "df_prod_jumbo.shape, df_prod_jumbo['cod_smt'].drop_duplicates().shape"
   ]
  },
  {
   "cell_type": "code",
   "execution_count": 1157,
   "metadata": {},
   "outputs": [],
   "source": [
    "df_productos_2 = pd.merge(df_productos_2, df_prod_jumbo[['id', 'cod_smt']], on=['id'], how='left')"
   ]
  },
  {
   "cell_type": "code",
   "execution_count": 1158,
   "metadata": {},
   "outputs": [
    {
     "data": {
      "text/plain": [
       "(21399, 12)"
      ]
     },
     "execution_count": 1158,
     "metadata": {},
     "output_type": "execute_result"
    }
   ],
   "source": [
    "df_productos_2.shape"
   ]
  },
  {
   "cell_type": "code",
   "execution_count": 1159,
   "metadata": {},
   "outputs": [],
   "source": [
    "df_productos_2['cod_smt'] = np.where(df_productos_2['empresa']=='Jumbo', df_productos_2['cod_smt_y'], df_productos_2['cod_smt_x'])"
   ]
  },
  {
   "cell_type": "code",
   "execution_count": 1160,
   "metadata": {},
   "outputs": [],
   "source": [
    "del df_productos_2['cod_smt_x'], df_productos_2['cod_smt_y']"
   ]
  },
  {
   "cell_type": "code",
   "execution_count": 1161,
   "metadata": {},
   "outputs": [
    {
     "data": {
      "text/html": [
       "<div>\n",
       "<style scoped>\n",
       "    .dataframe tbody tr th:only-of-type {\n",
       "        vertical-align: middle;\n",
       "    }\n",
       "\n",
       "    .dataframe tbody tr th {\n",
       "        vertical-align: top;\n",
       "    }\n",
       "\n",
       "    .dataframe thead th {\n",
       "        text-align: right;\n",
       "    }\n",
       "</style>\n",
       "<table border=\"1\" class=\"dataframe\">\n",
       "  <thead>\n",
       "    <tr style=\"text-align: right;\">\n",
       "      <th></th>\n",
       "      <th>id</th>\n",
       "      <th>name</th>\n",
       "      <th>description</th>\n",
       "      <th>marca</th>\n",
       "      <th>formato</th>\n",
       "      <th>precio</th>\n",
       "      <th>image1</th>\n",
       "      <th>image2</th>\n",
       "      <th>image3</th>\n",
       "      <th>cod_smt</th>\n",
       "    </tr>\n",
       "    <tr>\n",
       "      <th>empresa</th>\n",
       "      <th></th>\n",
       "      <th></th>\n",
       "      <th></th>\n",
       "      <th></th>\n",
       "      <th></th>\n",
       "      <th></th>\n",
       "      <th></th>\n",
       "      <th></th>\n",
       "      <th></th>\n",
       "      <th></th>\n",
       "    </tr>\n",
       "  </thead>\n",
       "  <tbody>\n",
       "    <tr>\n",
       "      <th>Jumbo</th>\n",
       "      <td>10413</td>\n",
       "      <td>10413</td>\n",
       "      <td>10413</td>\n",
       "      <td>10413</td>\n",
       "      <td>10413</td>\n",
       "      <td>10413</td>\n",
       "      <td>10413</td>\n",
       "      <td>0</td>\n",
       "      <td>0</td>\n",
       "      <td>3615</td>\n",
       "    </tr>\n",
       "    <tr>\n",
       "      <th>Lider</th>\n",
       "      <td>10346</td>\n",
       "      <td>10346</td>\n",
       "      <td>10346</td>\n",
       "      <td>10346</td>\n",
       "      <td>10346</td>\n",
       "      <td>10346</td>\n",
       "      <td>10346</td>\n",
       "      <td>0</td>\n",
       "      <td>0</td>\n",
       "      <td>10346</td>\n",
       "    </tr>\n",
       "    <tr>\n",
       "      <th>Tottus</th>\n",
       "      <td>640</td>\n",
       "      <td>640</td>\n",
       "      <td>585</td>\n",
       "      <td>394</td>\n",
       "      <td>639</td>\n",
       "      <td>640</td>\n",
       "      <td>640</td>\n",
       "      <td>35</td>\n",
       "      <td>10</td>\n",
       "      <td>0</td>\n",
       "    </tr>\n",
       "  </tbody>\n",
       "</table>\n",
       "</div>"
      ],
      "text/plain": [
       "            id   name  description  marca  formato  precio  image1  image2  \\\n",
       "empresa                                                                      \n",
       "Jumbo    10413  10413        10413  10413    10413   10413   10413       0   \n",
       "Lider    10346  10346        10346  10346    10346   10346   10346       0   \n",
       "Tottus     640    640          585    394      639     640     640      35   \n",
       "\n",
       "         image3  cod_smt  \n",
       "empresa                   \n",
       "Jumbo         0     3615  \n",
       "Lider         0    10346  \n",
       "Tottus       10        0  "
      ]
     },
     "execution_count": 1161,
     "metadata": {},
     "output_type": "execute_result"
    }
   ],
   "source": [
    "df_productos_2.groupby('empresa').count()"
   ]
  },
  {
   "cell_type": "code",
   "execution_count": 1162,
   "metadata": {},
   "outputs": [
    {
     "data": {
      "text/html": [
       "<div>\n",
       "<style scoped>\n",
       "    .dataframe tbody tr th:only-of-type {\n",
       "        vertical-align: middle;\n",
       "    }\n",
       "\n",
       "    .dataframe tbody tr th {\n",
       "        vertical-align: top;\n",
       "    }\n",
       "\n",
       "    .dataframe thead th {\n",
       "        text-align: right;\n",
       "    }\n",
       "</style>\n",
       "<table border=\"1\" class=\"dataframe\">\n",
       "  <thead>\n",
       "    <tr style=\"text-align: right;\">\n",
       "      <th></th>\n",
       "      <th>id</th>\n",
       "      <th>name</th>\n",
       "      <th>description</th>\n",
       "      <th>marca</th>\n",
       "      <th>formato</th>\n",
       "      <th>precio</th>\n",
       "      <th>image1</th>\n",
       "      <th>image2</th>\n",
       "      <th>image3</th>\n",
       "      <th>cod_smt</th>\n",
       "    </tr>\n",
       "    <tr>\n",
       "      <th>empresa</th>\n",
       "      <th></th>\n",
       "      <th></th>\n",
       "      <th></th>\n",
       "      <th></th>\n",
       "      <th></th>\n",
       "      <th></th>\n",
       "      <th></th>\n",
       "      <th></th>\n",
       "      <th></th>\n",
       "      <th></th>\n",
       "    </tr>\n",
       "  </thead>\n",
       "  <tbody>\n",
       "    <tr>\n",
       "      <th>Jumbo</th>\n",
       "      <td>10413</td>\n",
       "      <td>10087</td>\n",
       "      <td>7885</td>\n",
       "      <td>1543</td>\n",
       "      <td>1503</td>\n",
       "      <td>1590</td>\n",
       "      <td>10406</td>\n",
       "      <td>0</td>\n",
       "      <td>0</td>\n",
       "      <td>3615</td>\n",
       "    </tr>\n",
       "    <tr>\n",
       "      <th>Lider</th>\n",
       "      <td>10346</td>\n",
       "      <td>9813</td>\n",
       "      <td>6726</td>\n",
       "      <td>1387</td>\n",
       "      <td>899</td>\n",
       "      <td>978</td>\n",
       "      <td>9462</td>\n",
       "      <td>0</td>\n",
       "      <td>0</td>\n",
       "      <td>10346</td>\n",
       "    </tr>\n",
       "    <tr>\n",
       "      <th>Tottus</th>\n",
       "      <td>640</td>\n",
       "      <td>632</td>\n",
       "      <td>579</td>\n",
       "      <td>173</td>\n",
       "      <td>162</td>\n",
       "      <td>324</td>\n",
       "      <td>640</td>\n",
       "      <td>35</td>\n",
       "      <td>10</td>\n",
       "      <td>0</td>\n",
       "    </tr>\n",
       "  </tbody>\n",
       "</table>\n",
       "</div>"
      ],
      "text/plain": [
       "            id   name  description  marca  formato  precio  image1  image2  \\\n",
       "empresa                                                                      \n",
       "Jumbo    10413  10087         7885   1543     1503    1590   10406       0   \n",
       "Lider    10346   9813         6726   1387      899     978    9462       0   \n",
       "Tottus     640    632          579    173      162     324     640      35   \n",
       "\n",
       "         image3  cod_smt  \n",
       "empresa                   \n",
       "Jumbo         0     3615  \n",
       "Lider         0    10346  \n",
       "Tottus       10        0  "
      ]
     },
     "execution_count": 1162,
     "metadata": {},
     "output_type": "execute_result"
    }
   ],
   "source": [
    "df_productos_2.groupby('empresa').nunique()"
   ]
  },
  {
   "cell_type": "code",
   "execution_count": 1163,
   "metadata": {},
   "outputs": [
    {
     "data": {
      "text/plain": [
       "'010346'"
      ]
     },
     "execution_count": 1163,
     "metadata": {},
     "output_type": "execute_result"
    }
   ],
   "source": [
    "df_productos_2['cod_smt'].sort_values(ascending=False).iloc[0][4:]"
   ]
  },
  {
   "cell_type": "code",
   "execution_count": 1164,
   "metadata": {},
   "outputs": [],
   "source": [
    "df_det_jumbo = df_productos_2[df_productos_2['empresa']=='Jumbo'].reset_index(drop=True)"
   ]
  },
  {
   "cell_type": "code",
   "execution_count": 1165,
   "metadata": {},
   "outputs": [
    {
     "data": {
      "text/html": [
       "<div>\n",
       "<style scoped>\n",
       "    .dataframe tbody tr th:only-of-type {\n",
       "        vertical-align: middle;\n",
       "    }\n",
       "\n",
       "    .dataframe tbody tr th {\n",
       "        vertical-align: top;\n",
       "    }\n",
       "\n",
       "    .dataframe thead th {\n",
       "        text-align: right;\n",
       "    }\n",
       "</style>\n",
       "<table border=\"1\" class=\"dataframe\">\n",
       "  <thead>\n",
       "    <tr style=\"text-align: right;\">\n",
       "      <th></th>\n",
       "      <th>id</th>\n",
       "      <th>name</th>\n",
       "      <th>description</th>\n",
       "      <th>marca</th>\n",
       "      <th>formato</th>\n",
       "      <th>precio</th>\n",
       "      <th>image1</th>\n",
       "      <th>image2</th>\n",
       "      <th>image3</th>\n",
       "      <th>empresa</th>\n",
       "      <th>cod_smt</th>\n",
       "    </tr>\n",
       "  </thead>\n",
       "  <tbody>\n",
       "    <tr>\n",
       "      <th>5029</th>\n",
       "      <td>J1887323</td>\n",
       "      <td>7 especias 70 g</td>\n",
       "      <td>¡Úsalo sólo y punto! Este condimento no necesi...</td>\n",
       "      <td>suk</td>\n",
       "      <td>70 g</td>\n",
       "      <td>3999</td>\n",
       "      <td>https://jumbo.vtexassets.com/arquivos/ids/5018...</td>\n",
       "      <td>NaN</td>\n",
       "      <td>NaN</td>\n",
       "      <td>Jumbo</td>\n",
       "      <td>NaN</td>\n",
       "    </tr>\n",
       "    <tr>\n",
       "      <th>6122</th>\n",
       "      <td>J1949971</td>\n",
       "      <td>ALFAJOR CHOCOLATE DEUBEL 6UN</td>\n",
       "      <td>no info</td>\n",
       "      <td>deubel</td>\n",
       "      <td>deubel 6un</td>\n",
       "      <td>6490</td>\n",
       "      <td>https://jumbo.vtexassets.com/arquivos/ids/6619...</td>\n",
       "      <td>NaN</td>\n",
       "      <td>NaN</td>\n",
       "      <td>Jumbo</td>\n",
       "      <td>NaN</td>\n",
       "    </tr>\n",
       "    <tr>\n",
       "      <th>6123</th>\n",
       "      <td>J1949973</td>\n",
       "      <td>ALFAJOR SANTAFESINO DEUBEL 4 UN</td>\n",
       "      <td>no info</td>\n",
       "      <td>deubel</td>\n",
       "      <td>4 un</td>\n",
       "      <td>3990</td>\n",
       "      <td>https://jumbo.vtexassets.com/arquivos/ids/6620...</td>\n",
       "      <td>NaN</td>\n",
       "      <td>NaN</td>\n",
       "      <td>Jumbo</td>\n",
       "      <td>NaN</td>\n",
       "    </tr>\n",
       "  </tbody>\n",
       "</table>\n",
       "</div>"
      ],
      "text/plain": [
       "            id                             name  \\\n",
       "5029  J1887323                  7 especias 70 g   \n",
       "6122  J1949971     ALFAJOR CHOCOLATE DEUBEL 6UN   \n",
       "6123  J1949973  ALFAJOR SANTAFESINO DEUBEL 4 UN   \n",
       "\n",
       "                                            description   marca     formato  \\\n",
       "5029  ¡Úsalo sólo y punto! Este condimento no necesi...     suk        70 g   \n",
       "6122                                            no info  deubel  deubel 6un   \n",
       "6123                                            no info  deubel        4 un   \n",
       "\n",
       "      precio                                             image1 image2 image3  \\\n",
       "5029    3999  https://jumbo.vtexassets.com/arquivos/ids/5018...    NaN    NaN   \n",
       "6122    6490  https://jumbo.vtexassets.com/arquivos/ids/6619...    NaN    NaN   \n",
       "6123    3990  https://jumbo.vtexassets.com/arquivos/ids/6620...    NaN    NaN   \n",
       "\n",
       "     empresa cod_smt  \n",
       "5029   Jumbo     NaN  \n",
       "6122   Jumbo     NaN  \n",
       "6123   Jumbo     NaN  "
      ]
     },
     "execution_count": 1165,
     "metadata": {},
     "output_type": "execute_result"
    }
   ],
   "source": [
    "df_det_jumbo_1 = df_det_jumbo[df_det_jumbo['cod_smt'].isnull()].sort_values('name')\n",
    "df_det_jumbo_1.head(3)"
   ]
  },
  {
   "cell_type": "code",
   "execution_count": 1166,
   "metadata": {},
   "outputs": [
    {
     "data": {
      "text/plain": [
       "'SMT_010346'"
      ]
     },
     "execution_count": 1166,
     "metadata": {},
     "output_type": "execute_result"
    }
   ],
   "source": [
    "df_productos_2['cod_smt'].sort_values(ascending=False).iloc[0]"
   ]
  },
  {
   "cell_type": "code",
   "execution_count": 1167,
   "metadata": {},
   "outputs": [
    {
     "data": {
      "text/plain": [
       "10346"
      ]
     },
     "execution_count": 1167,
     "metadata": {},
     "output_type": "execute_result"
    }
   ],
   "source": [
    "last_lider = int(df_productos_2['cod_smt'].sort_values(ascending=False).iloc[0][4:])\n",
    "last_lider"
   ]
  },
  {
   "cell_type": "code",
   "execution_count": 1168,
   "metadata": {},
   "outputs": [
    {
     "data": {
      "text/plain": [
       "6798"
      ]
     },
     "execution_count": 1168,
     "metadata": {},
     "output_type": "execute_result"
    }
   ],
   "source": [
    "df_det_jumbo_1.shape[0]"
   ]
  },
  {
   "cell_type": "code",
   "execution_count": 1169,
   "metadata": {},
   "outputs": [
    {
     "data": {
      "text/plain": [
       "6798"
      ]
     },
     "execution_count": 1169,
     "metadata": {},
     "output_type": "execute_result"
    }
   ],
   "source": [
    "len(range(last_lider+1, last_lider+df_det_jumbo_1.shape[0]+1))"
   ]
  },
  {
   "cell_type": "code",
   "execution_count": 1170,
   "metadata": {},
   "outputs": [],
   "source": [
    "df_det_jumbo_1['cod_smt'] = range(last_lider+1, last_lider+df_det_jumbo_1.shape[0]+1)\n",
    "df_det_jumbo_1['cod_smt'] = 'SMT_' + df_det_jumbo_1['cod_smt'].astype(str).str.zfill(6)"
   ]
  },
  {
   "cell_type": "code",
   "execution_count": 1171,
   "metadata": {},
   "outputs": [
    {
     "data": {
      "text/plain": [
       "((6798, 11), 6798)"
      ]
     },
     "execution_count": 1171,
     "metadata": {},
     "output_type": "execute_result"
    }
   ],
   "source": [
    "df_det_jumbo_1.shape, df_det_jumbo_1['id'].nunique()"
   ]
  },
  {
   "cell_type": "code",
   "execution_count": 1172,
   "metadata": {},
   "outputs": [
    {
     "data": {
      "text/plain": [
       "(21399, 11)"
      ]
     },
     "execution_count": 1172,
     "metadata": {},
     "output_type": "execute_result"
    }
   ],
   "source": [
    "df_productos_2.shape"
   ]
  },
  {
   "cell_type": "code",
   "execution_count": 1173,
   "metadata": {},
   "outputs": [],
   "source": [
    "df_productos_3 = pd.merge(df_productos_2, df_det_jumbo_1[['id', 'cod_smt']], on=['id'], how='left')"
   ]
  },
  {
   "cell_type": "code",
   "execution_count": 1174,
   "metadata": {},
   "outputs": [
    {
     "data": {
      "text/plain": [
       "(21399, 12)"
      ]
     },
     "execution_count": 1174,
     "metadata": {},
     "output_type": "execute_result"
    }
   ],
   "source": [
    "df_productos_3.shape"
   ]
  },
  {
   "cell_type": "code",
   "execution_count": 1175,
   "metadata": {},
   "outputs": [],
   "source": [
    "df_productos_3['cod_smt'] = np.where(df_productos_3['cod_smt_x'].isnull(), df_productos_3['cod_smt_y'], df_productos_3['cod_smt_x'])"
   ]
  },
  {
   "cell_type": "code",
   "execution_count": 1176,
   "metadata": {},
   "outputs": [],
   "source": [
    "del df_productos_3['cod_smt_x'], df_productos_3['cod_smt_y']"
   ]
  },
  {
   "cell_type": "code",
   "execution_count": 1177,
   "metadata": {},
   "outputs": [
    {
     "data": {
      "text/html": [
       "<div>\n",
       "<style scoped>\n",
       "    .dataframe tbody tr th:only-of-type {\n",
       "        vertical-align: middle;\n",
       "    }\n",
       "\n",
       "    .dataframe tbody tr th {\n",
       "        vertical-align: top;\n",
       "    }\n",
       "\n",
       "    .dataframe thead th {\n",
       "        text-align: right;\n",
       "    }\n",
       "</style>\n",
       "<table border=\"1\" class=\"dataframe\">\n",
       "  <thead>\n",
       "    <tr style=\"text-align: right;\">\n",
       "      <th></th>\n",
       "      <th>id</th>\n",
       "      <th>name</th>\n",
       "      <th>description</th>\n",
       "      <th>marca</th>\n",
       "      <th>formato</th>\n",
       "      <th>precio</th>\n",
       "      <th>image1</th>\n",
       "      <th>image2</th>\n",
       "      <th>image3</th>\n",
       "      <th>cod_smt</th>\n",
       "    </tr>\n",
       "    <tr>\n",
       "      <th>empresa</th>\n",
       "      <th></th>\n",
       "      <th></th>\n",
       "      <th></th>\n",
       "      <th></th>\n",
       "      <th></th>\n",
       "      <th></th>\n",
       "      <th></th>\n",
       "      <th></th>\n",
       "      <th></th>\n",
       "      <th></th>\n",
       "    </tr>\n",
       "  </thead>\n",
       "  <tbody>\n",
       "    <tr>\n",
       "      <th>Jumbo</th>\n",
       "      <td>10413</td>\n",
       "      <td>10413</td>\n",
       "      <td>10413</td>\n",
       "      <td>10413</td>\n",
       "      <td>10413</td>\n",
       "      <td>10413</td>\n",
       "      <td>10413</td>\n",
       "      <td>0</td>\n",
       "      <td>0</td>\n",
       "      <td>10413</td>\n",
       "    </tr>\n",
       "    <tr>\n",
       "      <th>Lider</th>\n",
       "      <td>10346</td>\n",
       "      <td>10346</td>\n",
       "      <td>10346</td>\n",
       "      <td>10346</td>\n",
       "      <td>10346</td>\n",
       "      <td>10346</td>\n",
       "      <td>10346</td>\n",
       "      <td>0</td>\n",
       "      <td>0</td>\n",
       "      <td>10346</td>\n",
       "    </tr>\n",
       "    <tr>\n",
       "      <th>Tottus</th>\n",
       "      <td>640</td>\n",
       "      <td>640</td>\n",
       "      <td>585</td>\n",
       "      <td>394</td>\n",
       "      <td>639</td>\n",
       "      <td>640</td>\n",
       "      <td>640</td>\n",
       "      <td>35</td>\n",
       "      <td>10</td>\n",
       "      <td>0</td>\n",
       "    </tr>\n",
       "  </tbody>\n",
       "</table>\n",
       "</div>"
      ],
      "text/plain": [
       "            id   name  description  marca  formato  precio  image1  image2  \\\n",
       "empresa                                                                      \n",
       "Jumbo    10413  10413        10413  10413    10413   10413   10413       0   \n",
       "Lider    10346  10346        10346  10346    10346   10346   10346       0   \n",
       "Tottus     640    640          585    394      639     640     640      35   \n",
       "\n",
       "         image3  cod_smt  \n",
       "empresa                   \n",
       "Jumbo         0    10413  \n",
       "Lider         0    10346  \n",
       "Tottus       10        0  "
      ]
     },
     "execution_count": 1177,
     "metadata": {},
     "output_type": "execute_result"
    }
   ],
   "source": [
    "df_productos_3.groupby('empresa').count()"
   ]
  },
  {
   "cell_type": "markdown",
   "metadata": {},
   "source": [
    "#### Tottus"
   ]
  },
  {
   "cell_type": "markdown",
   "metadata": {},
   "source": [
    "##### Tottus vs Lider"
   ]
  },
  {
   "cell_type": "code",
   "execution_count": 1178,
   "metadata": {},
   "outputs": [
    {
     "data": {
      "text/plain": [
       "(640, 10)"
      ]
     },
     "execution_count": 1178,
     "metadata": {},
     "output_type": "execute_result"
    }
   ],
   "source": [
    "df_tottus = df_productos[df_productos['empresa']=='Tottus'].reset_index(drop=True)\n",
    "df_tottus.shape"
   ]
  },
  {
   "cell_type": "code",
   "execution_count": 1179,
   "metadata": {},
   "outputs": [],
   "source": [
    "df_tottus_2 = pd.merge(df_tottus, df_matching[(df_matching['empresa']=='Tottus')][['id', 'empresa', 'name_lider', 'score_lider', 'precio_lider', 'marca_lider', 'formato_lider']].drop_duplicates(), on=['id', 'empresa'], how='left')"
   ]
  },
  {
   "cell_type": "code",
   "execution_count": 1180,
   "metadata": {},
   "outputs": [
    {
     "data": {
      "text/plain": [
       "(640, 15)"
      ]
     },
     "execution_count": 1180,
     "metadata": {},
     "output_type": "execute_result"
    }
   ],
   "source": [
    "df_tottus_2.shape"
   ]
  },
  {
   "cell_type": "code",
   "execution_count": 1181,
   "metadata": {},
   "outputs": [
    {
     "data": {
      "text/html": [
       "<div>\n",
       "<style scoped>\n",
       "    .dataframe tbody tr th:only-of-type {\n",
       "        vertical-align: middle;\n",
       "    }\n",
       "\n",
       "    .dataframe tbody tr th {\n",
       "        vertical-align: top;\n",
       "    }\n",
       "\n",
       "    .dataframe thead th {\n",
       "        text-align: right;\n",
       "    }\n",
       "</style>\n",
       "<table border=\"1\" class=\"dataframe\">\n",
       "  <thead>\n",
       "    <tr style=\"text-align: right;\">\n",
       "      <th></th>\n",
       "      <th>id</th>\n",
       "      <th>name</th>\n",
       "      <th>description</th>\n",
       "      <th>marca</th>\n",
       "      <th>formato</th>\n",
       "      <th>precio</th>\n",
       "      <th>image1</th>\n",
       "      <th>image2</th>\n",
       "      <th>image3</th>\n",
       "      <th>empresa</th>\n",
       "      <th>cod_smt</th>\n",
       "    </tr>\n",
       "  </thead>\n",
       "  <tbody>\n",
       "    <tr>\n",
       "      <th>0</th>\n",
       "      <td>J302475</td>\n",
       "      <td>Chucrut bolsa 200 g</td>\n",
       "      <td>Don Juan es sabor auténtico. El sabroso y trad...</td>\n",
       "      <td>don juan</td>\n",
       "      <td>200 g</td>\n",
       "      <td>751</td>\n",
       "      <td>https://jumbo.vtexassets.com/arquivos/ids/4402...</td>\n",
       "      <td>NaN</td>\n",
       "      <td>NaN</td>\n",
       "      <td>Jumbo</td>\n",
       "      <td>SMT_011775</td>\n",
       "    </tr>\n",
       "  </tbody>\n",
       "</table>\n",
       "</div>"
      ],
      "text/plain": [
       "        id                 name  \\\n",
       "0  J302475  Chucrut bolsa 200 g   \n",
       "\n",
       "                                         description     marca formato  \\\n",
       "0  Don Juan es sabor auténtico. El sabroso y trad...  don juan   200 g   \n",
       "\n",
       "   precio                                             image1 image2 image3  \\\n",
       "0     751  https://jumbo.vtexassets.com/arquivos/ids/4402...    NaN    NaN   \n",
       "\n",
       "  empresa     cod_smt  \n",
       "0   Jumbo  SMT_011775  "
      ]
     },
     "execution_count": 1181,
     "metadata": {},
     "output_type": "execute_result"
    }
   ],
   "source": [
    "df_productos_3.head(1)"
   ]
  },
  {
   "cell_type": "code",
   "execution_count": 1182,
   "metadata": {},
   "outputs": [],
   "source": [
    "df_tottus_3 = pd.merge(df_tottus_2, df_prod_lider[['product', 'cod_smt']], left_on=['name_lider'], right_on=['product'], how='left')"
   ]
  },
  {
   "cell_type": "code",
   "execution_count": 1183,
   "metadata": {},
   "outputs": [
    {
     "data": {
      "text/plain": [
       "(646, 17)"
      ]
     },
     "execution_count": 1183,
     "metadata": {},
     "output_type": "execute_result"
    }
   ],
   "source": [
    "df_tottus_3.shape"
   ]
  },
  {
   "cell_type": "code",
   "execution_count": 1184,
   "metadata": {},
   "outputs": [
    {
     "data": {
      "text/plain": [
       "(21399, 11)"
      ]
     },
     "execution_count": 1184,
     "metadata": {},
     "output_type": "execute_result"
    }
   ],
   "source": [
    "df_productos_3.shape"
   ]
  },
  {
   "cell_type": "code",
   "execution_count": 1185,
   "metadata": {},
   "outputs": [],
   "source": [
    "df_productos_4 = pd.merge(df_productos_3, df_tottus_3[['id', 'name_lider', 'score_lider', 'precio_lider', 'marca_lider', 'formato_lider', 'cod_smt']], on=['id'], how='left')"
   ]
  },
  {
   "cell_type": "code",
   "execution_count": 1186,
   "metadata": {},
   "outputs": [
    {
     "data": {
      "text/plain": [
       "(21405, 17)"
      ]
     },
     "execution_count": 1186,
     "metadata": {},
     "output_type": "execute_result"
    }
   ],
   "source": [
    "df_productos_4.shape"
   ]
  },
  {
   "cell_type": "code",
   "execution_count": 1187,
   "metadata": {},
   "outputs": [],
   "source": [
    "df_productos_4['cod_smt'] = np.where(df_productos_4['cod_smt_x'].isnull(), df_productos_4['cod_smt_y'], df_productos_4['cod_smt_x'])"
   ]
  },
  {
   "cell_type": "code",
   "execution_count": 1188,
   "metadata": {},
   "outputs": [],
   "source": [
    "del df_productos_4['cod_smt_x'], df_productos_4['cod_smt_y']"
   ]
  },
  {
   "cell_type": "code",
   "execution_count": 1189,
   "metadata": {},
   "outputs": [
    {
     "data": {
      "text/plain": [
       "((21399, 11), (21399, 10))"
      ]
     },
     "execution_count": 1189,
     "metadata": {},
     "output_type": "execute_result"
    }
   ],
   "source": [
    "cols = df_productos.columns.tolist()\n",
    "df_productos_4.sort_values(['score_lider', 'precio_lider'], ascending=[False, True], inplace=True)\n",
    "df_productos_4['rank'] = 1\n",
    "df_productos_4['rank'] = df_productos_4.groupby(cols, dropna=False)['rank'].cumsum()\n",
    "df_productos_4 = df_productos_4[df_productos_4['rank']==1]\n",
    "df_prod_tottus = df_productos_4[df_productos_4['empresa']=='Tottus']\n",
    "df_productos_4 = df_productos_4[df_productos_1.columns]\n",
    "df_productos_4.shape, df_productos_4[cols].drop_duplicates().shape"
   ]
  },
  {
   "cell_type": "code",
   "execution_count": 1190,
   "metadata": {},
   "outputs": [
    {
     "data": {
      "text/html": [
       "<div>\n",
       "<style scoped>\n",
       "    .dataframe tbody tr th:only-of-type {\n",
       "        vertical-align: middle;\n",
       "    }\n",
       "\n",
       "    .dataframe tbody tr th {\n",
       "        vertical-align: top;\n",
       "    }\n",
       "\n",
       "    .dataframe thead th {\n",
       "        text-align: right;\n",
       "    }\n",
       "</style>\n",
       "<table border=\"1\" class=\"dataframe\">\n",
       "  <thead>\n",
       "    <tr style=\"text-align: right;\">\n",
       "      <th></th>\n",
       "      <th>id</th>\n",
       "      <th>name</th>\n",
       "      <th>description</th>\n",
       "      <th>marca</th>\n",
       "      <th>formato</th>\n",
       "      <th>precio</th>\n",
       "      <th>image1</th>\n",
       "      <th>image2</th>\n",
       "      <th>image3</th>\n",
       "      <th>cod_smt</th>\n",
       "    </tr>\n",
       "    <tr>\n",
       "      <th>empresa</th>\n",
       "      <th></th>\n",
       "      <th></th>\n",
       "      <th></th>\n",
       "      <th></th>\n",
       "      <th></th>\n",
       "      <th></th>\n",
       "      <th></th>\n",
       "      <th></th>\n",
       "      <th></th>\n",
       "      <th></th>\n",
       "    </tr>\n",
       "  </thead>\n",
       "  <tbody>\n",
       "    <tr>\n",
       "      <th>Jumbo</th>\n",
       "      <td>10413</td>\n",
       "      <td>10413</td>\n",
       "      <td>10413</td>\n",
       "      <td>10413</td>\n",
       "      <td>10413</td>\n",
       "      <td>10413</td>\n",
       "      <td>10413</td>\n",
       "      <td>0</td>\n",
       "      <td>0</td>\n",
       "      <td>10413</td>\n",
       "    </tr>\n",
       "    <tr>\n",
       "      <th>Lider</th>\n",
       "      <td>10346</td>\n",
       "      <td>10346</td>\n",
       "      <td>10346</td>\n",
       "      <td>10346</td>\n",
       "      <td>10346</td>\n",
       "      <td>10346</td>\n",
       "      <td>10346</td>\n",
       "      <td>0</td>\n",
       "      <td>0</td>\n",
       "      <td>10346</td>\n",
       "    </tr>\n",
       "    <tr>\n",
       "      <th>Tottus</th>\n",
       "      <td>640</td>\n",
       "      <td>640</td>\n",
       "      <td>585</td>\n",
       "      <td>394</td>\n",
       "      <td>639</td>\n",
       "      <td>640</td>\n",
       "      <td>640</td>\n",
       "      <td>35</td>\n",
       "      <td>10</td>\n",
       "      <td>353</td>\n",
       "    </tr>\n",
       "  </tbody>\n",
       "</table>\n",
       "</div>"
      ],
      "text/plain": [
       "            id   name  description  marca  formato  precio  image1  image2  \\\n",
       "empresa                                                                      \n",
       "Jumbo    10413  10413        10413  10413    10413   10413   10413       0   \n",
       "Lider    10346  10346        10346  10346    10346   10346   10346       0   \n",
       "Tottus     640    640          585    394      639     640     640      35   \n",
       "\n",
       "         image3  cod_smt  \n",
       "empresa                   \n",
       "Jumbo         0    10413  \n",
       "Lider         0    10346  \n",
       "Tottus       10      353  "
      ]
     },
     "execution_count": 1190,
     "metadata": {},
     "output_type": "execute_result"
    }
   ],
   "source": [
    "df_productos_4.groupby('empresa').count()"
   ]
  },
  {
   "cell_type": "code",
   "execution_count": 1191,
   "metadata": {},
   "outputs": [
    {
     "data": {
      "text/html": [
       "<div>\n",
       "<style scoped>\n",
       "    .dataframe tbody tr th:only-of-type {\n",
       "        vertical-align: middle;\n",
       "    }\n",
       "\n",
       "    .dataframe tbody tr th {\n",
       "        vertical-align: top;\n",
       "    }\n",
       "\n",
       "    .dataframe thead th {\n",
       "        text-align: right;\n",
       "    }\n",
       "</style>\n",
       "<table border=\"1\" class=\"dataframe\">\n",
       "  <thead>\n",
       "    <tr style=\"text-align: right;\">\n",
       "      <th></th>\n",
       "      <th>id</th>\n",
       "      <th>name</th>\n",
       "      <th>description</th>\n",
       "      <th>marca</th>\n",
       "      <th>formato</th>\n",
       "      <th>precio</th>\n",
       "      <th>image1</th>\n",
       "      <th>image2</th>\n",
       "      <th>image3</th>\n",
       "      <th>cod_smt</th>\n",
       "    </tr>\n",
       "    <tr>\n",
       "      <th>empresa</th>\n",
       "      <th></th>\n",
       "      <th></th>\n",
       "      <th></th>\n",
       "      <th></th>\n",
       "      <th></th>\n",
       "      <th></th>\n",
       "      <th></th>\n",
       "      <th></th>\n",
       "      <th></th>\n",
       "      <th></th>\n",
       "    </tr>\n",
       "  </thead>\n",
       "  <tbody>\n",
       "    <tr>\n",
       "      <th>Jumbo</th>\n",
       "      <td>10413</td>\n",
       "      <td>10087</td>\n",
       "      <td>7885</td>\n",
       "      <td>1543</td>\n",
       "      <td>1503</td>\n",
       "      <td>1590</td>\n",
       "      <td>10406</td>\n",
       "      <td>0</td>\n",
       "      <td>0</td>\n",
       "      <td>10413</td>\n",
       "    </tr>\n",
       "    <tr>\n",
       "      <th>Lider</th>\n",
       "      <td>10346</td>\n",
       "      <td>9813</td>\n",
       "      <td>6726</td>\n",
       "      <td>1387</td>\n",
       "      <td>899</td>\n",
       "      <td>978</td>\n",
       "      <td>9462</td>\n",
       "      <td>0</td>\n",
       "      <td>0</td>\n",
       "      <td>10346</td>\n",
       "    </tr>\n",
       "    <tr>\n",
       "      <th>Tottus</th>\n",
       "      <td>640</td>\n",
       "      <td>632</td>\n",
       "      <td>579</td>\n",
       "      <td>173</td>\n",
       "      <td>162</td>\n",
       "      <td>324</td>\n",
       "      <td>640</td>\n",
       "      <td>35</td>\n",
       "      <td>10</td>\n",
       "      <td>278</td>\n",
       "    </tr>\n",
       "  </tbody>\n",
       "</table>\n",
       "</div>"
      ],
      "text/plain": [
       "            id   name  description  marca  formato  precio  image1  image2  \\\n",
       "empresa                                                                      \n",
       "Jumbo    10413  10087         7885   1543     1503    1590   10406       0   \n",
       "Lider    10346   9813         6726   1387      899     978    9462       0   \n",
       "Tottus     640    632          579    173      162     324     640      35   \n",
       "\n",
       "         image3  cod_smt  \n",
       "empresa                   \n",
       "Jumbo         0    10413  \n",
       "Lider         0    10346  \n",
       "Tottus       10      278  "
      ]
     },
     "execution_count": 1191,
     "metadata": {},
     "output_type": "execute_result"
    }
   ],
   "source": [
    "df_productos_4.groupby('empresa').nunique()"
   ]
  },
  {
   "cell_type": "code",
   "execution_count": 1192,
   "metadata": {},
   "outputs": [
    {
     "data": {
      "text/html": [
       "<div>\n",
       "<style scoped>\n",
       "    .dataframe tbody tr th:only-of-type {\n",
       "        vertical-align: middle;\n",
       "    }\n",
       "\n",
       "    .dataframe tbody tr th {\n",
       "        vertical-align: top;\n",
       "    }\n",
       "\n",
       "    .dataframe thead th {\n",
       "        text-align: right;\n",
       "    }\n",
       "</style>\n",
       "<table border=\"1\" class=\"dataframe\">\n",
       "  <thead>\n",
       "    <tr style=\"text-align: right;\">\n",
       "      <th></th>\n",
       "      <th>id</th>\n",
       "      <th>name</th>\n",
       "      <th>description</th>\n",
       "      <th>marca</th>\n",
       "      <th>formato</th>\n",
       "      <th>precio</th>\n",
       "      <th>image1</th>\n",
       "      <th>image2</th>\n",
       "      <th>image3</th>\n",
       "      <th>empresa</th>\n",
       "      <th>name_lider</th>\n",
       "      <th>score_lider</th>\n",
       "      <th>precio_lider</th>\n",
       "      <th>marca_lider</th>\n",
       "      <th>formato_lider</th>\n",
       "      <th>cod_smt</th>\n",
       "      <th>rank</th>\n",
       "    </tr>\n",
       "  </thead>\n",
       "  <tbody>\n",
       "    <tr>\n",
       "      <th>20822</th>\n",
       "      <td>T110611751</td>\n",
       "      <td>Arroz Rissoto Italiano - 1 KG</td>\n",
       "      <td>Arroz Risotto Italiano Tucapel</td>\n",
       "      <td>tucapel</td>\n",
       "      <td>1 kg</td>\n",
       "      <td>3460</td>\n",
       "      <td>https://s7d2.scene7.com/is/image/Tottus/202352...</td>\n",
       "      <td>NaN</td>\n",
       "      <td>NaN</td>\n",
       "      <td>Tottus</td>\n",
       "      <td>arroz risotto italiano 1 kg tucapel 1 kg</td>\n",
       "      <td>98.0</td>\n",
       "      <td>3990.0</td>\n",
       "      <td>tucapel</td>\n",
       "      <td>1 kg</td>\n",
       "      <td>SMT_000743</td>\n",
       "      <td>1</td>\n",
       "    </tr>\n",
       "  </tbody>\n",
       "</table>\n",
       "</div>"
      ],
      "text/plain": [
       "               id                           name  \\\n",
       "20822  T110611751  Arroz Rissoto Italiano - 1 KG   \n",
       "\n",
       "                          description    marca formato  precio  \\\n",
       "20822  Arroz Risotto Italiano Tucapel  tucapel    1 kg    3460   \n",
       "\n",
       "                                                  image1 image2 image3  \\\n",
       "20822  https://s7d2.scene7.com/is/image/Tottus/202352...    NaN    NaN   \n",
       "\n",
       "      empresa                                name_lider  score_lider  \\\n",
       "20822  Tottus  arroz risotto italiano 1 kg tucapel 1 kg         98.0   \n",
       "\n",
       "       precio_lider marca_lider formato_lider     cod_smt  rank  \n",
       "20822        3990.0     tucapel          1 kg  SMT_000743     1  "
      ]
     },
     "execution_count": 1192,
     "metadata": {},
     "output_type": "execute_result"
    }
   ],
   "source": [
    "df_prod_tottus.head(1)"
   ]
  },
  {
   "cell_type": "code",
   "execution_count": 1193,
   "metadata": {},
   "outputs": [],
   "source": [
    "df_prod_tottus['var_precio'] = abs((df_prod_tottus['precio_lider']-df_prod_tottus['precio'])/df_prod_tottus['precio'])"
   ]
  },
  {
   "cell_type": "code",
   "execution_count": 1194,
   "metadata": {},
   "outputs": [
    {
     "data": {
      "text/html": [
       "<div>\n",
       "<style scoped>\n",
       "    .dataframe tbody tr th:only-of-type {\n",
       "        vertical-align: middle;\n",
       "    }\n",
       "\n",
       "    .dataframe tbody tr th {\n",
       "        vertical-align: top;\n",
       "    }\n",
       "\n",
       "    .dataframe thead th {\n",
       "        text-align: right;\n",
       "    }\n",
       "</style>\n",
       "<table border=\"1\" class=\"dataframe\">\n",
       "  <thead>\n",
       "    <tr style=\"text-align: right;\">\n",
       "      <th></th>\n",
       "      <th>id</th>\n",
       "      <th>name</th>\n",
       "      <th>description</th>\n",
       "      <th>marca</th>\n",
       "      <th>formato</th>\n",
       "      <th>precio</th>\n",
       "      <th>image1</th>\n",
       "      <th>image2</th>\n",
       "      <th>image3</th>\n",
       "      <th>empresa</th>\n",
       "      <th>name_lider</th>\n",
       "      <th>score_lider</th>\n",
       "      <th>precio_lider</th>\n",
       "      <th>marca_lider</th>\n",
       "      <th>formato_lider</th>\n",
       "      <th>cod_smt</th>\n",
       "      <th>rank</th>\n",
       "      <th>var_precio</th>\n",
       "    </tr>\n",
       "  </thead>\n",
       "  <tbody>\n",
       "    <tr>\n",
       "      <th>20822</th>\n",
       "      <td>T110611751</td>\n",
       "      <td>Arroz Rissoto Italiano - 1 KG</td>\n",
       "      <td>Arroz Risotto Italiano Tucapel</td>\n",
       "      <td>tucapel</td>\n",
       "      <td>1 kg</td>\n",
       "      <td>3460</td>\n",
       "      <td>https://s7d2.scene7.com/is/image/Tottus/202352...</td>\n",
       "      <td>NaN</td>\n",
       "      <td>NaN</td>\n",
       "      <td>Tottus</td>\n",
       "      <td>arroz risotto italiano 1 kg tucapel 1 kg</td>\n",
       "      <td>98.0</td>\n",
       "      <td>3990.0</td>\n",
       "      <td>tucapel</td>\n",
       "      <td>1 kg</td>\n",
       "      <td>SMT_000743</td>\n",
       "      <td>1</td>\n",
       "      <td>0.153179</td>\n",
       "    </tr>\n",
       "  </tbody>\n",
       "</table>\n",
       "</div>"
      ],
      "text/plain": [
       "               id                           name  \\\n",
       "20822  T110611751  Arroz Rissoto Italiano - 1 KG   \n",
       "\n",
       "                          description    marca formato  precio  \\\n",
       "20822  Arroz Risotto Italiano Tucapel  tucapel    1 kg    3460   \n",
       "\n",
       "                                                  image1 image2 image3  \\\n",
       "20822  https://s7d2.scene7.com/is/image/Tottus/202352...    NaN    NaN   \n",
       "\n",
       "      empresa                                name_lider  score_lider  \\\n",
       "20822  Tottus  arroz risotto italiano 1 kg tucapel 1 kg         98.0   \n",
       "\n",
       "       precio_lider marca_lider formato_lider     cod_smt  rank  var_precio  \n",
       "20822        3990.0     tucapel          1 kg  SMT_000743     1    0.153179  "
      ]
     },
     "execution_count": 1194,
     "metadata": {},
     "output_type": "execute_result"
    }
   ],
   "source": [
    "df_prod_tottus.head(1)"
   ]
  },
  {
   "cell_type": "code",
   "execution_count": 1195,
   "metadata": {},
   "outputs": [
    {
     "data": {
      "text/plain": [
       "((279, 16), (279,))"
      ]
     },
     "execution_count": 1195,
     "metadata": {},
     "output_type": "execute_result"
    }
   ],
   "source": [
    "df_prod_tottus.sort_values(['var_precio'], ascending=[True], inplace=True)\n",
    "df_prod_tottus['rank'] = 1\n",
    "df_prod_tottus['rank'] = df_prod_tottus.groupby('cod_smt', dropna=False)['rank'].cumsum()\n",
    "df_prod_tottus = df_prod_tottus[df_prod_tottus['rank']==1]\n",
    "del df_prod_tottus['rank'], df_prod_tottus['var_precio']\n",
    "df_prod_tottus.shape, df_prod_tottus['cod_smt'].drop_duplicates().shape"
   ]
  },
  {
   "cell_type": "code",
   "execution_count": 1196,
   "metadata": {},
   "outputs": [],
   "source": [
    "df_productos_4 = pd.merge(df_productos_4, df_prod_tottus[['id', 'cod_smt']], on=['id'], how='left')"
   ]
  },
  {
   "cell_type": "code",
   "execution_count": 1197,
   "metadata": {},
   "outputs": [
    {
     "data": {
      "text/plain": [
       "(21399, 12)"
      ]
     },
     "execution_count": 1197,
     "metadata": {},
     "output_type": "execute_result"
    }
   ],
   "source": [
    "df_productos_4.shape"
   ]
  },
  {
   "cell_type": "code",
   "execution_count": 1198,
   "metadata": {},
   "outputs": [],
   "source": [
    "df_productos_4['cod_smt'] = np.where(df_productos_4['empresa']=='Tottus', df_productos_4['cod_smt_y'], df_productos_4['cod_smt_x'])"
   ]
  },
  {
   "cell_type": "code",
   "execution_count": 1199,
   "metadata": {},
   "outputs": [],
   "source": [
    "del df_productos_4['cod_smt_x'], df_productos_4['cod_smt_y']"
   ]
  },
  {
   "cell_type": "code",
   "execution_count": 1200,
   "metadata": {},
   "outputs": [
    {
     "data": {
      "text/html": [
       "<div>\n",
       "<style scoped>\n",
       "    .dataframe tbody tr th:only-of-type {\n",
       "        vertical-align: middle;\n",
       "    }\n",
       "\n",
       "    .dataframe tbody tr th {\n",
       "        vertical-align: top;\n",
       "    }\n",
       "\n",
       "    .dataframe thead th {\n",
       "        text-align: right;\n",
       "    }\n",
       "</style>\n",
       "<table border=\"1\" class=\"dataframe\">\n",
       "  <thead>\n",
       "    <tr style=\"text-align: right;\">\n",
       "      <th></th>\n",
       "      <th>id</th>\n",
       "      <th>name</th>\n",
       "      <th>description</th>\n",
       "      <th>marca</th>\n",
       "      <th>formato</th>\n",
       "      <th>precio</th>\n",
       "      <th>image1</th>\n",
       "      <th>image2</th>\n",
       "      <th>image3</th>\n",
       "      <th>cod_smt</th>\n",
       "    </tr>\n",
       "    <tr>\n",
       "      <th>empresa</th>\n",
       "      <th></th>\n",
       "      <th></th>\n",
       "      <th></th>\n",
       "      <th></th>\n",
       "      <th></th>\n",
       "      <th></th>\n",
       "      <th></th>\n",
       "      <th></th>\n",
       "      <th></th>\n",
       "      <th></th>\n",
       "    </tr>\n",
       "  </thead>\n",
       "  <tbody>\n",
       "    <tr>\n",
       "      <th>Jumbo</th>\n",
       "      <td>10413</td>\n",
       "      <td>10413</td>\n",
       "      <td>10413</td>\n",
       "      <td>10413</td>\n",
       "      <td>10413</td>\n",
       "      <td>10413</td>\n",
       "      <td>10413</td>\n",
       "      <td>0</td>\n",
       "      <td>0</td>\n",
       "      <td>10413</td>\n",
       "    </tr>\n",
       "    <tr>\n",
       "      <th>Lider</th>\n",
       "      <td>10346</td>\n",
       "      <td>10346</td>\n",
       "      <td>10346</td>\n",
       "      <td>10346</td>\n",
       "      <td>10346</td>\n",
       "      <td>10346</td>\n",
       "      <td>10346</td>\n",
       "      <td>0</td>\n",
       "      <td>0</td>\n",
       "      <td>10346</td>\n",
       "    </tr>\n",
       "    <tr>\n",
       "      <th>Tottus</th>\n",
       "      <td>640</td>\n",
       "      <td>640</td>\n",
       "      <td>585</td>\n",
       "      <td>394</td>\n",
       "      <td>639</td>\n",
       "      <td>640</td>\n",
       "      <td>640</td>\n",
       "      <td>35</td>\n",
       "      <td>10</td>\n",
       "      <td>278</td>\n",
       "    </tr>\n",
       "  </tbody>\n",
       "</table>\n",
       "</div>"
      ],
      "text/plain": [
       "            id   name  description  marca  formato  precio  image1  image2  \\\n",
       "empresa                                                                      \n",
       "Jumbo    10413  10413        10413  10413    10413   10413   10413       0   \n",
       "Lider    10346  10346        10346  10346    10346   10346   10346       0   \n",
       "Tottus     640    640          585    394      639     640     640      35   \n",
       "\n",
       "         image3  cod_smt  \n",
       "empresa                   \n",
       "Jumbo         0    10413  \n",
       "Lider         0    10346  \n",
       "Tottus       10      278  "
      ]
     },
     "execution_count": 1200,
     "metadata": {},
     "output_type": "execute_result"
    }
   ],
   "source": [
    "df_productos_4.groupby('empresa').count()"
   ]
  },
  {
   "cell_type": "code",
   "execution_count": 1201,
   "metadata": {},
   "outputs": [
    {
     "data": {
      "text/html": [
       "<div>\n",
       "<style scoped>\n",
       "    .dataframe tbody tr th:only-of-type {\n",
       "        vertical-align: middle;\n",
       "    }\n",
       "\n",
       "    .dataframe tbody tr th {\n",
       "        vertical-align: top;\n",
       "    }\n",
       "\n",
       "    .dataframe thead th {\n",
       "        text-align: right;\n",
       "    }\n",
       "</style>\n",
       "<table border=\"1\" class=\"dataframe\">\n",
       "  <thead>\n",
       "    <tr style=\"text-align: right;\">\n",
       "      <th></th>\n",
       "      <th>id</th>\n",
       "      <th>name</th>\n",
       "      <th>description</th>\n",
       "      <th>marca</th>\n",
       "      <th>formato</th>\n",
       "      <th>precio</th>\n",
       "      <th>image1</th>\n",
       "      <th>image2</th>\n",
       "      <th>image3</th>\n",
       "      <th>cod_smt</th>\n",
       "    </tr>\n",
       "    <tr>\n",
       "      <th>empresa</th>\n",
       "      <th></th>\n",
       "      <th></th>\n",
       "      <th></th>\n",
       "      <th></th>\n",
       "      <th></th>\n",
       "      <th></th>\n",
       "      <th></th>\n",
       "      <th></th>\n",
       "      <th></th>\n",
       "      <th></th>\n",
       "    </tr>\n",
       "  </thead>\n",
       "  <tbody>\n",
       "    <tr>\n",
       "      <th>Jumbo</th>\n",
       "      <td>10413</td>\n",
       "      <td>10087</td>\n",
       "      <td>7885</td>\n",
       "      <td>1543</td>\n",
       "      <td>1503</td>\n",
       "      <td>1590</td>\n",
       "      <td>10406</td>\n",
       "      <td>0</td>\n",
       "      <td>0</td>\n",
       "      <td>10413</td>\n",
       "    </tr>\n",
       "    <tr>\n",
       "      <th>Lider</th>\n",
       "      <td>10346</td>\n",
       "      <td>9813</td>\n",
       "      <td>6726</td>\n",
       "      <td>1387</td>\n",
       "      <td>899</td>\n",
       "      <td>978</td>\n",
       "      <td>9462</td>\n",
       "      <td>0</td>\n",
       "      <td>0</td>\n",
       "      <td>10346</td>\n",
       "    </tr>\n",
       "    <tr>\n",
       "      <th>Tottus</th>\n",
       "      <td>640</td>\n",
       "      <td>632</td>\n",
       "      <td>579</td>\n",
       "      <td>173</td>\n",
       "      <td>162</td>\n",
       "      <td>324</td>\n",
       "      <td>640</td>\n",
       "      <td>35</td>\n",
       "      <td>10</td>\n",
       "      <td>278</td>\n",
       "    </tr>\n",
       "  </tbody>\n",
       "</table>\n",
       "</div>"
      ],
      "text/plain": [
       "            id   name  description  marca  formato  precio  image1  image2  \\\n",
       "empresa                                                                      \n",
       "Jumbo    10413  10087         7885   1543     1503    1590   10406       0   \n",
       "Lider    10346   9813         6726   1387      899     978    9462       0   \n",
       "Tottus     640    632          579    173      162     324     640      35   \n",
       "\n",
       "         image3  cod_smt  \n",
       "empresa                   \n",
       "Jumbo         0    10413  \n",
       "Lider         0    10346  \n",
       "Tottus       10      278  "
      ]
     },
     "execution_count": 1201,
     "metadata": {},
     "output_type": "execute_result"
    }
   ],
   "source": [
    "df_productos_4.groupby('empresa').nunique()"
   ]
  },
  {
   "cell_type": "markdown",
   "metadata": {},
   "source": [
    "##### Tottus vs Jumbo"
   ]
  },
  {
   "cell_type": "code",
   "execution_count": 1202,
   "metadata": {},
   "outputs": [],
   "source": [
    "df_tottus_4 = pd.merge(df_tottus, df_matching[(df_matching['empresa']=='Tottus')][['id', 'empresa', 'name_jumbo', 'score_jumbo', 'precio_jumbo', 'marca_jumbo', 'formato_jumbo']].drop_duplicates(), on=['id', 'empresa'], how='left')"
   ]
  },
  {
   "cell_type": "code",
   "execution_count": 1203,
   "metadata": {},
   "outputs": [
    {
     "data": {
      "text/plain": [
       "(640, 15)"
      ]
     },
     "execution_count": 1203,
     "metadata": {},
     "output_type": "execute_result"
    }
   ],
   "source": [
    "df_tottus_4.shape"
   ]
  },
  {
   "cell_type": "code",
   "execution_count": 1204,
   "metadata": {},
   "outputs": [
    {
     "data": {
      "text/html": [
       "<div>\n",
       "<style scoped>\n",
       "    .dataframe tbody tr th:only-of-type {\n",
       "        vertical-align: middle;\n",
       "    }\n",
       "\n",
       "    .dataframe tbody tr th {\n",
       "        vertical-align: top;\n",
       "    }\n",
       "\n",
       "    .dataframe thead th {\n",
       "        text-align: right;\n",
       "    }\n",
       "</style>\n",
       "<table border=\"1\" class=\"dataframe\">\n",
       "  <thead>\n",
       "    <tr style=\"text-align: right;\">\n",
       "      <th></th>\n",
       "      <th>id</th>\n",
       "      <th>name</th>\n",
       "      <th>description</th>\n",
       "      <th>marca</th>\n",
       "      <th>formato</th>\n",
       "      <th>precio</th>\n",
       "      <th>image1</th>\n",
       "      <th>image2</th>\n",
       "      <th>image3</th>\n",
       "      <th>empresa</th>\n",
       "      <th>cod_smt</th>\n",
       "    </tr>\n",
       "  </thead>\n",
       "  <tbody>\n",
       "    <tr>\n",
       "      <th>0</th>\n",
       "      <td>T110611751</td>\n",
       "      <td>Arroz Rissoto Italiano - 1 KG</td>\n",
       "      <td>Arroz Risotto Italiano Tucapel</td>\n",
       "      <td>tucapel</td>\n",
       "      <td>1 kg</td>\n",
       "      <td>3460</td>\n",
       "      <td>https://s7d2.scene7.com/is/image/Tottus/202352...</td>\n",
       "      <td>NaN</td>\n",
       "      <td>NaN</td>\n",
       "      <td>Tottus</td>\n",
       "      <td>SMT_000743</td>\n",
       "    </tr>\n",
       "  </tbody>\n",
       "</table>\n",
       "</div>"
      ],
      "text/plain": [
       "           id                           name                     description  \\\n",
       "0  T110611751  Arroz Rissoto Italiano - 1 KG  Arroz Risotto Italiano Tucapel   \n",
       "\n",
       "     marca formato  precio                                             image1  \\\n",
       "0  tucapel    1 kg    3460  https://s7d2.scene7.com/is/image/Tottus/202352...   \n",
       "\n",
       "  image2 image3 empresa     cod_smt  \n",
       "0    NaN    NaN  Tottus  SMT_000743  "
      ]
     },
     "execution_count": 1204,
     "metadata": {},
     "output_type": "execute_result"
    }
   ],
   "source": [
    "df_productos_4.head(1)"
   ]
  },
  {
   "cell_type": "code",
   "execution_count": 1205,
   "metadata": {},
   "outputs": [],
   "source": [
    "df_tottus_5 = pd.merge(df_tottus_4, df_prod_lider[['product', 'cod_smt']], left_on=['name_jumbo'], right_on=['product'], how='left')"
   ]
  },
  {
   "cell_type": "code",
   "execution_count": 1206,
   "metadata": {},
   "outputs": [
    {
     "data": {
      "text/plain": [
       "(640, 17)"
      ]
     },
     "execution_count": 1206,
     "metadata": {},
     "output_type": "execute_result"
    }
   ],
   "source": [
    "df_tottus_5.shape"
   ]
  },
  {
   "cell_type": "code",
   "execution_count": 1207,
   "metadata": {},
   "outputs": [
    {
     "data": {
      "text/plain": [
       "(21399, 11)"
      ]
     },
     "execution_count": 1207,
     "metadata": {},
     "output_type": "execute_result"
    }
   ],
   "source": [
    "df_productos_4.shape"
   ]
  },
  {
   "cell_type": "code",
   "execution_count": 1208,
   "metadata": {},
   "outputs": [],
   "source": [
    "df_productos_5 = pd.merge(df_productos_4, df_tottus_5[['id', 'name_jumbo', 'score_jumbo', 'precio_jumbo', 'marca_jumbo', 'formato_jumbo', 'cod_smt']], on=['id'], how='left')"
   ]
  },
  {
   "cell_type": "code",
   "execution_count": 1209,
   "metadata": {},
   "outputs": [
    {
     "data": {
      "text/plain": [
       "(21399, 17)"
      ]
     },
     "execution_count": 1209,
     "metadata": {},
     "output_type": "execute_result"
    }
   ],
   "source": [
    "df_productos_5.shape"
   ]
  },
  {
   "cell_type": "code",
   "execution_count": 1210,
   "metadata": {},
   "outputs": [],
   "source": [
    "df_productos_5['cod_smt'] = np.where(df_productos_5['cod_smt_x'].isnull(), df_productos_5['cod_smt_y'], df_productos_5['cod_smt_x'])"
   ]
  },
  {
   "cell_type": "code",
   "execution_count": 1211,
   "metadata": {},
   "outputs": [],
   "source": [
    "del df_productos_5['cod_smt_x'], df_productos_5['cod_smt_y']"
   ]
  },
  {
   "cell_type": "code",
   "execution_count": 1212,
   "metadata": {},
   "outputs": [
    {
     "data": {
      "text/plain": [
       "((21399, 11), (21399, 10))"
      ]
     },
     "execution_count": 1212,
     "metadata": {},
     "output_type": "execute_result"
    }
   ],
   "source": [
    "cols = df_productos.columns.tolist()\n",
    "df_productos_5.sort_values(['score_jumbo', 'precio_jumbo'], ascending=[False, True], inplace=True)\n",
    "df_productos_5['rank'] = 1\n",
    "df_productos_5['rank'] = df_productos_5.groupby(cols, dropna=False)['rank'].cumsum()\n",
    "df_productos_5 = df_productos_5[df_productos_5['rank']==1]\n",
    "df_prod_tottus_1 = df_productos_5[df_productos_5['empresa']=='Tottus']\n",
    "df_productos_5 = df_productos_5[df_productos_1.columns]\n",
    "df_productos_5.shape, df_productos_5[cols].drop_duplicates().shape"
   ]
  },
  {
   "cell_type": "code",
   "execution_count": 1213,
   "metadata": {},
   "outputs": [
    {
     "data": {
      "text/html": [
       "<div>\n",
       "<style scoped>\n",
       "    .dataframe tbody tr th:only-of-type {\n",
       "        vertical-align: middle;\n",
       "    }\n",
       "\n",
       "    .dataframe tbody tr th {\n",
       "        vertical-align: top;\n",
       "    }\n",
       "\n",
       "    .dataframe thead th {\n",
       "        text-align: right;\n",
       "    }\n",
       "</style>\n",
       "<table border=\"1\" class=\"dataframe\">\n",
       "  <thead>\n",
       "    <tr style=\"text-align: right;\">\n",
       "      <th></th>\n",
       "      <th>id</th>\n",
       "      <th>name</th>\n",
       "      <th>description</th>\n",
       "      <th>marca</th>\n",
       "      <th>formato</th>\n",
       "      <th>precio</th>\n",
       "      <th>image1</th>\n",
       "      <th>image2</th>\n",
       "      <th>image3</th>\n",
       "      <th>cod_smt</th>\n",
       "    </tr>\n",
       "    <tr>\n",
       "      <th>empresa</th>\n",
       "      <th></th>\n",
       "      <th></th>\n",
       "      <th></th>\n",
       "      <th></th>\n",
       "      <th></th>\n",
       "      <th></th>\n",
       "      <th></th>\n",
       "      <th></th>\n",
       "      <th></th>\n",
       "      <th></th>\n",
       "    </tr>\n",
       "  </thead>\n",
       "  <tbody>\n",
       "    <tr>\n",
       "      <th>Jumbo</th>\n",
       "      <td>10413</td>\n",
       "      <td>10413</td>\n",
       "      <td>10413</td>\n",
       "      <td>10413</td>\n",
       "      <td>10413</td>\n",
       "      <td>10413</td>\n",
       "      <td>10413</td>\n",
       "      <td>0</td>\n",
       "      <td>0</td>\n",
       "      <td>10413</td>\n",
       "    </tr>\n",
       "    <tr>\n",
       "      <th>Lider</th>\n",
       "      <td>10346</td>\n",
       "      <td>10346</td>\n",
       "      <td>10346</td>\n",
       "      <td>10346</td>\n",
       "      <td>10346</td>\n",
       "      <td>10346</td>\n",
       "      <td>10346</td>\n",
       "      <td>0</td>\n",
       "      <td>0</td>\n",
       "      <td>10346</td>\n",
       "    </tr>\n",
       "    <tr>\n",
       "      <th>Tottus</th>\n",
       "      <td>640</td>\n",
       "      <td>640</td>\n",
       "      <td>585</td>\n",
       "      <td>394</td>\n",
       "      <td>639</td>\n",
       "      <td>640</td>\n",
       "      <td>640</td>\n",
       "      <td>35</td>\n",
       "      <td>10</td>\n",
       "      <td>280</td>\n",
       "    </tr>\n",
       "  </tbody>\n",
       "</table>\n",
       "</div>"
      ],
      "text/plain": [
       "            id   name  description  marca  formato  precio  image1  image2  \\\n",
       "empresa                                                                      \n",
       "Jumbo    10413  10413        10413  10413    10413   10413   10413       0   \n",
       "Lider    10346  10346        10346  10346    10346   10346   10346       0   \n",
       "Tottus     640    640          585    394      639     640     640      35   \n",
       "\n",
       "         image3  cod_smt  \n",
       "empresa                   \n",
       "Jumbo         0    10413  \n",
       "Lider         0    10346  \n",
       "Tottus       10      280  "
      ]
     },
     "execution_count": 1213,
     "metadata": {},
     "output_type": "execute_result"
    }
   ],
   "source": [
    "df_productos_5.groupby('empresa').count()"
   ]
  },
  {
   "cell_type": "code",
   "execution_count": 1214,
   "metadata": {},
   "outputs": [
    {
     "data": {
      "text/html": [
       "<div>\n",
       "<style scoped>\n",
       "    .dataframe tbody tr th:only-of-type {\n",
       "        vertical-align: middle;\n",
       "    }\n",
       "\n",
       "    .dataframe tbody tr th {\n",
       "        vertical-align: top;\n",
       "    }\n",
       "\n",
       "    .dataframe thead th {\n",
       "        text-align: right;\n",
       "    }\n",
       "</style>\n",
       "<table border=\"1\" class=\"dataframe\">\n",
       "  <thead>\n",
       "    <tr style=\"text-align: right;\">\n",
       "      <th></th>\n",
       "      <th>id</th>\n",
       "      <th>name</th>\n",
       "      <th>description</th>\n",
       "      <th>marca</th>\n",
       "      <th>formato</th>\n",
       "      <th>precio</th>\n",
       "      <th>image1</th>\n",
       "      <th>image2</th>\n",
       "      <th>image3</th>\n",
       "      <th>cod_smt</th>\n",
       "    </tr>\n",
       "    <tr>\n",
       "      <th>empresa</th>\n",
       "      <th></th>\n",
       "      <th></th>\n",
       "      <th></th>\n",
       "      <th></th>\n",
       "      <th></th>\n",
       "      <th></th>\n",
       "      <th></th>\n",
       "      <th></th>\n",
       "      <th></th>\n",
       "      <th></th>\n",
       "    </tr>\n",
       "  </thead>\n",
       "  <tbody>\n",
       "    <tr>\n",
       "      <th>Jumbo</th>\n",
       "      <td>10413</td>\n",
       "      <td>10087</td>\n",
       "      <td>7885</td>\n",
       "      <td>1543</td>\n",
       "      <td>1503</td>\n",
       "      <td>1590</td>\n",
       "      <td>10406</td>\n",
       "      <td>0</td>\n",
       "      <td>0</td>\n",
       "      <td>10413</td>\n",
       "    </tr>\n",
       "    <tr>\n",
       "      <th>Lider</th>\n",
       "      <td>10346</td>\n",
       "      <td>9813</td>\n",
       "      <td>6726</td>\n",
       "      <td>1387</td>\n",
       "      <td>899</td>\n",
       "      <td>978</td>\n",
       "      <td>9462</td>\n",
       "      <td>0</td>\n",
       "      <td>0</td>\n",
       "      <td>10346</td>\n",
       "    </tr>\n",
       "    <tr>\n",
       "      <th>Tottus</th>\n",
       "      <td>640</td>\n",
       "      <td>632</td>\n",
       "      <td>579</td>\n",
       "      <td>173</td>\n",
       "      <td>162</td>\n",
       "      <td>324</td>\n",
       "      <td>640</td>\n",
       "      <td>35</td>\n",
       "      <td>10</td>\n",
       "      <td>278</td>\n",
       "    </tr>\n",
       "  </tbody>\n",
       "</table>\n",
       "</div>"
      ],
      "text/plain": [
       "            id   name  description  marca  formato  precio  image1  image2  \\\n",
       "empresa                                                                      \n",
       "Jumbo    10413  10087         7885   1543     1503    1590   10406       0   \n",
       "Lider    10346   9813         6726   1387      899     978    9462       0   \n",
       "Tottus     640    632          579    173      162     324     640      35   \n",
       "\n",
       "         image3  cod_smt  \n",
       "empresa                   \n",
       "Jumbo         0    10413  \n",
       "Lider         0    10346  \n",
       "Tottus       10      278  "
      ]
     },
     "execution_count": 1214,
     "metadata": {},
     "output_type": "execute_result"
    }
   ],
   "source": [
    "df_productos_5.groupby('empresa').nunique()"
   ]
  },
  {
   "cell_type": "code",
   "execution_count": 1215,
   "metadata": {},
   "outputs": [
    {
     "data": {
      "text/html": [
       "<div>\n",
       "<style scoped>\n",
       "    .dataframe tbody tr th:only-of-type {\n",
       "        vertical-align: middle;\n",
       "    }\n",
       "\n",
       "    .dataframe tbody tr th {\n",
       "        vertical-align: top;\n",
       "    }\n",
       "\n",
       "    .dataframe thead th {\n",
       "        text-align: right;\n",
       "    }\n",
       "</style>\n",
       "<table border=\"1\" class=\"dataframe\">\n",
       "  <thead>\n",
       "    <tr style=\"text-align: right;\">\n",
       "      <th></th>\n",
       "      <th>id</th>\n",
       "      <th>name</th>\n",
       "      <th>description</th>\n",
       "      <th>marca</th>\n",
       "      <th>formato</th>\n",
       "      <th>precio</th>\n",
       "      <th>image1</th>\n",
       "      <th>image2</th>\n",
       "      <th>image3</th>\n",
       "      <th>empresa</th>\n",
       "      <th>name_jumbo</th>\n",
       "      <th>score_jumbo</th>\n",
       "      <th>precio_jumbo</th>\n",
       "      <th>marca_jumbo</th>\n",
       "      <th>formato_jumbo</th>\n",
       "      <th>cod_smt</th>\n",
       "      <th>rank</th>\n",
       "    </tr>\n",
       "  </thead>\n",
       "  <tbody>\n",
       "    <tr>\n",
       "      <th>8</th>\n",
       "      <td>T110619052</td>\n",
       "      <td>Espumante Brut - 750 CC</td>\n",
       "      <td>Vino Espumante Botella Brut Martini</td>\n",
       "      <td>martini</td>\n",
       "      <td>750 cc</td>\n",
       "      <td>12990</td>\n",
       "      <td>https://7483c243aa9da28f329c-903e05bc00667eb97...</td>\n",
       "      <td>NaN</td>\n",
       "      <td>NaN</td>\n",
       "      <td>Tottus</td>\n",
       "      <td>espumante brut 750 cc martini 750 cc</td>\n",
       "      <td>100.0</td>\n",
       "      <td>13390.0</td>\n",
       "      <td>martini</td>\n",
       "      <td>750 cc</td>\n",
       "      <td>SMT_003272</td>\n",
       "      <td>1</td>\n",
       "    </tr>\n",
       "  </tbody>\n",
       "</table>\n",
       "</div>"
      ],
      "text/plain": [
       "           id                     name                          description  \\\n",
       "8  T110619052  Espumante Brut - 750 CC  Vino Espumante Botella Brut Martini   \n",
       "\n",
       "     marca formato  precio                                             image1  \\\n",
       "8  martini  750 cc   12990  https://7483c243aa9da28f329c-903e05bc00667eb97...   \n",
       "\n",
       "  image2 image3 empresa                            name_jumbo  score_jumbo  \\\n",
       "8    NaN    NaN  Tottus  espumante brut 750 cc martini 750 cc        100.0   \n",
       "\n",
       "   precio_jumbo marca_jumbo formato_jumbo     cod_smt  rank  \n",
       "8       13390.0     martini        750 cc  SMT_003272     1  "
      ]
     },
     "execution_count": 1215,
     "metadata": {},
     "output_type": "execute_result"
    }
   ],
   "source": [
    "df_prod_tottus_1.head(1)"
   ]
  },
  {
   "cell_type": "code",
   "execution_count": 1216,
   "metadata": {},
   "outputs": [],
   "source": [
    "df_prod_tottus_1['var_precio'] = abs((df_prod_tottus_1['precio_jumbo']-df_prod_tottus_1['precio'])/df_prod_tottus_1['precio'])"
   ]
  },
  {
   "cell_type": "code",
   "execution_count": 1217,
   "metadata": {},
   "outputs": [
    {
     "data": {
      "text/html": [
       "<div>\n",
       "<style scoped>\n",
       "    .dataframe tbody tr th:only-of-type {\n",
       "        vertical-align: middle;\n",
       "    }\n",
       "\n",
       "    .dataframe tbody tr th {\n",
       "        vertical-align: top;\n",
       "    }\n",
       "\n",
       "    .dataframe thead th {\n",
       "        text-align: right;\n",
       "    }\n",
       "</style>\n",
       "<table border=\"1\" class=\"dataframe\">\n",
       "  <thead>\n",
       "    <tr style=\"text-align: right;\">\n",
       "      <th></th>\n",
       "      <th>id</th>\n",
       "      <th>name</th>\n",
       "      <th>description</th>\n",
       "      <th>marca</th>\n",
       "      <th>formato</th>\n",
       "      <th>precio</th>\n",
       "      <th>image1</th>\n",
       "      <th>image2</th>\n",
       "      <th>image3</th>\n",
       "      <th>empresa</th>\n",
       "      <th>name_jumbo</th>\n",
       "      <th>score_jumbo</th>\n",
       "      <th>precio_jumbo</th>\n",
       "      <th>marca_jumbo</th>\n",
       "      <th>formato_jumbo</th>\n",
       "      <th>cod_smt</th>\n",
       "      <th>rank</th>\n",
       "      <th>var_precio</th>\n",
       "    </tr>\n",
       "  </thead>\n",
       "  <tbody>\n",
       "    <tr>\n",
       "      <th>8</th>\n",
       "      <td>T110619052</td>\n",
       "      <td>Espumante Brut - 750 CC</td>\n",
       "      <td>Vino Espumante Botella Brut Martini</td>\n",
       "      <td>martini</td>\n",
       "      <td>750 cc</td>\n",
       "      <td>12990</td>\n",
       "      <td>https://7483c243aa9da28f329c-903e05bc00667eb97...</td>\n",
       "      <td>NaN</td>\n",
       "      <td>NaN</td>\n",
       "      <td>Tottus</td>\n",
       "      <td>espumante brut 750 cc martini 750 cc</td>\n",
       "      <td>100.0</td>\n",
       "      <td>13390.0</td>\n",
       "      <td>martini</td>\n",
       "      <td>750 cc</td>\n",
       "      <td>SMT_003272</td>\n",
       "      <td>1</td>\n",
       "      <td>0.030793</td>\n",
       "    </tr>\n",
       "  </tbody>\n",
       "</table>\n",
       "</div>"
      ],
      "text/plain": [
       "           id                     name                          description  \\\n",
       "8  T110619052  Espumante Brut - 750 CC  Vino Espumante Botella Brut Martini   \n",
       "\n",
       "     marca formato  precio                                             image1  \\\n",
       "8  martini  750 cc   12990  https://7483c243aa9da28f329c-903e05bc00667eb97...   \n",
       "\n",
       "  image2 image3 empresa                            name_jumbo  score_jumbo  \\\n",
       "8    NaN    NaN  Tottus  espumante brut 750 cc martini 750 cc        100.0   \n",
       "\n",
       "   precio_jumbo marca_jumbo formato_jumbo     cod_smt  rank  var_precio  \n",
       "8       13390.0     martini        750 cc  SMT_003272     1    0.030793  "
      ]
     },
     "execution_count": 1217,
     "metadata": {},
     "output_type": "execute_result"
    }
   ],
   "source": [
    "df_prod_tottus_1.head(1)"
   ]
  },
  {
   "cell_type": "code",
   "execution_count": 1218,
   "metadata": {},
   "outputs": [
    {
     "data": {
      "text/plain": [
       "((279, 16), (279,))"
      ]
     },
     "execution_count": 1218,
     "metadata": {},
     "output_type": "execute_result"
    }
   ],
   "source": [
    "df_prod_tottus_1.sort_values(['var_precio'], ascending=[True], inplace=True)\n",
    "df_prod_tottus_1['rank'] = 1\n",
    "df_prod_tottus_1['rank'] = df_prod_tottus_1.groupby('cod_smt', dropna=False)['rank'].cumsum()\n",
    "df_prod_tottus_1 = df_prod_tottus_1[df_prod_tottus_1['rank']==1]\n",
    "del df_prod_tottus_1['rank'], df_prod_tottus_1['var_precio']\n",
    "df_prod_tottus_1.shape, df_prod_tottus_1['cod_smt'].drop_duplicates().shape"
   ]
  },
  {
   "cell_type": "code",
   "execution_count": 1219,
   "metadata": {},
   "outputs": [],
   "source": [
    "df_productos_5 = pd.merge(df_productos_5, df_prod_tottus_1[['id', 'cod_smt']], on=['id'], how='left')"
   ]
  },
  {
   "cell_type": "code",
   "execution_count": 1220,
   "metadata": {},
   "outputs": [
    {
     "data": {
      "text/plain": [
       "(21399, 12)"
      ]
     },
     "execution_count": 1220,
     "metadata": {},
     "output_type": "execute_result"
    }
   ],
   "source": [
    "df_productos_5.shape"
   ]
  },
  {
   "cell_type": "code",
   "execution_count": 1221,
   "metadata": {},
   "outputs": [],
   "source": [
    "df_productos_5['cod_smt'] = np.where(df_productos_5['empresa']=='Tottus', df_productos_5['cod_smt_y'], df_productos_5['cod_smt_x'])"
   ]
  },
  {
   "cell_type": "code",
   "execution_count": 1222,
   "metadata": {},
   "outputs": [],
   "source": [
    "del df_productos_5['cod_smt_x'], df_productos_5['cod_smt_y']"
   ]
  },
  {
   "cell_type": "code",
   "execution_count": 1223,
   "metadata": {},
   "outputs": [
    {
     "data": {
      "text/html": [
       "<div>\n",
       "<style scoped>\n",
       "    .dataframe tbody tr th:only-of-type {\n",
       "        vertical-align: middle;\n",
       "    }\n",
       "\n",
       "    .dataframe tbody tr th {\n",
       "        vertical-align: top;\n",
       "    }\n",
       "\n",
       "    .dataframe thead th {\n",
       "        text-align: right;\n",
       "    }\n",
       "</style>\n",
       "<table border=\"1\" class=\"dataframe\">\n",
       "  <thead>\n",
       "    <tr style=\"text-align: right;\">\n",
       "      <th></th>\n",
       "      <th>id</th>\n",
       "      <th>name</th>\n",
       "      <th>description</th>\n",
       "      <th>marca</th>\n",
       "      <th>formato</th>\n",
       "      <th>precio</th>\n",
       "      <th>image1</th>\n",
       "      <th>image2</th>\n",
       "      <th>image3</th>\n",
       "      <th>cod_smt</th>\n",
       "    </tr>\n",
       "    <tr>\n",
       "      <th>empresa</th>\n",
       "      <th></th>\n",
       "      <th></th>\n",
       "      <th></th>\n",
       "      <th></th>\n",
       "      <th></th>\n",
       "      <th></th>\n",
       "      <th></th>\n",
       "      <th></th>\n",
       "      <th></th>\n",
       "      <th></th>\n",
       "    </tr>\n",
       "  </thead>\n",
       "  <tbody>\n",
       "    <tr>\n",
       "      <th>Jumbo</th>\n",
       "      <td>10413</td>\n",
       "      <td>10413</td>\n",
       "      <td>10413</td>\n",
       "      <td>10413</td>\n",
       "      <td>10413</td>\n",
       "      <td>10413</td>\n",
       "      <td>10413</td>\n",
       "      <td>0</td>\n",
       "      <td>0</td>\n",
       "      <td>10413</td>\n",
       "    </tr>\n",
       "    <tr>\n",
       "      <th>Lider</th>\n",
       "      <td>10346</td>\n",
       "      <td>10346</td>\n",
       "      <td>10346</td>\n",
       "      <td>10346</td>\n",
       "      <td>10346</td>\n",
       "      <td>10346</td>\n",
       "      <td>10346</td>\n",
       "      <td>0</td>\n",
       "      <td>0</td>\n",
       "      <td>10346</td>\n",
       "    </tr>\n",
       "    <tr>\n",
       "      <th>Tottus</th>\n",
       "      <td>640</td>\n",
       "      <td>640</td>\n",
       "      <td>585</td>\n",
       "      <td>394</td>\n",
       "      <td>639</td>\n",
       "      <td>640</td>\n",
       "      <td>640</td>\n",
       "      <td>35</td>\n",
       "      <td>10</td>\n",
       "      <td>278</td>\n",
       "    </tr>\n",
       "  </tbody>\n",
       "</table>\n",
       "</div>"
      ],
      "text/plain": [
       "            id   name  description  marca  formato  precio  image1  image2  \\\n",
       "empresa                                                                      \n",
       "Jumbo    10413  10413        10413  10413    10413   10413   10413       0   \n",
       "Lider    10346  10346        10346  10346    10346   10346   10346       0   \n",
       "Tottus     640    640          585    394      639     640     640      35   \n",
       "\n",
       "         image3  cod_smt  \n",
       "empresa                   \n",
       "Jumbo         0    10413  \n",
       "Lider         0    10346  \n",
       "Tottus       10      278  "
      ]
     },
     "execution_count": 1223,
     "metadata": {},
     "output_type": "execute_result"
    }
   ],
   "source": [
    "df_productos_5.groupby('empresa').count()"
   ]
  },
  {
   "cell_type": "code",
   "execution_count": 1224,
   "metadata": {},
   "outputs": [
    {
     "data": {
      "text/html": [
       "<div>\n",
       "<style scoped>\n",
       "    .dataframe tbody tr th:only-of-type {\n",
       "        vertical-align: middle;\n",
       "    }\n",
       "\n",
       "    .dataframe tbody tr th {\n",
       "        vertical-align: top;\n",
       "    }\n",
       "\n",
       "    .dataframe thead th {\n",
       "        text-align: right;\n",
       "    }\n",
       "</style>\n",
       "<table border=\"1\" class=\"dataframe\">\n",
       "  <thead>\n",
       "    <tr style=\"text-align: right;\">\n",
       "      <th></th>\n",
       "      <th>id</th>\n",
       "      <th>name</th>\n",
       "      <th>description</th>\n",
       "      <th>marca</th>\n",
       "      <th>formato</th>\n",
       "      <th>precio</th>\n",
       "      <th>image1</th>\n",
       "      <th>image2</th>\n",
       "      <th>image3</th>\n",
       "      <th>cod_smt</th>\n",
       "    </tr>\n",
       "    <tr>\n",
       "      <th>empresa</th>\n",
       "      <th></th>\n",
       "      <th></th>\n",
       "      <th></th>\n",
       "      <th></th>\n",
       "      <th></th>\n",
       "      <th></th>\n",
       "      <th></th>\n",
       "      <th></th>\n",
       "      <th></th>\n",
       "      <th></th>\n",
       "    </tr>\n",
       "  </thead>\n",
       "  <tbody>\n",
       "    <tr>\n",
       "      <th>Jumbo</th>\n",
       "      <td>10413</td>\n",
       "      <td>10087</td>\n",
       "      <td>7885</td>\n",
       "      <td>1543</td>\n",
       "      <td>1503</td>\n",
       "      <td>1590</td>\n",
       "      <td>10406</td>\n",
       "      <td>0</td>\n",
       "      <td>0</td>\n",
       "      <td>10413</td>\n",
       "    </tr>\n",
       "    <tr>\n",
       "      <th>Lider</th>\n",
       "      <td>10346</td>\n",
       "      <td>9813</td>\n",
       "      <td>6726</td>\n",
       "      <td>1387</td>\n",
       "      <td>899</td>\n",
       "      <td>978</td>\n",
       "      <td>9462</td>\n",
       "      <td>0</td>\n",
       "      <td>0</td>\n",
       "      <td>10346</td>\n",
       "    </tr>\n",
       "    <tr>\n",
       "      <th>Tottus</th>\n",
       "      <td>640</td>\n",
       "      <td>632</td>\n",
       "      <td>579</td>\n",
       "      <td>173</td>\n",
       "      <td>162</td>\n",
       "      <td>324</td>\n",
       "      <td>640</td>\n",
       "      <td>35</td>\n",
       "      <td>10</td>\n",
       "      <td>278</td>\n",
       "    </tr>\n",
       "  </tbody>\n",
       "</table>\n",
       "</div>"
      ],
      "text/plain": [
       "            id   name  description  marca  formato  precio  image1  image2  \\\n",
       "empresa                                                                      \n",
       "Jumbo    10413  10087         7885   1543     1503    1590   10406       0   \n",
       "Lider    10346   9813         6726   1387      899     978    9462       0   \n",
       "Tottus     640    632          579    173      162     324     640      35   \n",
       "\n",
       "         image3  cod_smt  \n",
       "empresa                   \n",
       "Jumbo         0    10413  \n",
       "Lider         0    10346  \n",
       "Tottus       10      278  "
      ]
     },
     "execution_count": 1224,
     "metadata": {},
     "output_type": "execute_result"
    }
   ],
   "source": [
    "df_productos_5.groupby('empresa').nunique()"
   ]
  },
  {
   "cell_type": "code",
   "execution_count": 1225,
   "metadata": {},
   "outputs": [
    {
     "data": {
      "text/plain": [
       "'017144'"
      ]
     },
     "execution_count": 1225,
     "metadata": {},
     "output_type": "execute_result"
    }
   ],
   "source": [
    "df_productos_5['cod_smt'].sort_values(ascending=False).iloc[0][4:]"
   ]
  },
  {
   "cell_type": "code",
   "execution_count": 1226,
   "metadata": {},
   "outputs": [],
   "source": [
    "df_det_tottus = df_productos_5[df_productos_5['empresa']=='Tottus'].reset_index(drop=True)"
   ]
  },
  {
   "cell_type": "code",
   "execution_count": 1227,
   "metadata": {},
   "outputs": [
    {
     "data": {
      "text/html": [
       "<div>\n",
       "<style scoped>\n",
       "    .dataframe tbody tr th:only-of-type {\n",
       "        vertical-align: middle;\n",
       "    }\n",
       "\n",
       "    .dataframe tbody tr th {\n",
       "        vertical-align: top;\n",
       "    }\n",
       "\n",
       "    .dataframe thead th {\n",
       "        text-align: right;\n",
       "    }\n",
       "</style>\n",
       "<table border=\"1\" class=\"dataframe\">\n",
       "  <thead>\n",
       "    <tr style=\"text-align: right;\">\n",
       "      <th></th>\n",
       "      <th>id</th>\n",
       "      <th>name</th>\n",
       "      <th>description</th>\n",
       "      <th>marca</th>\n",
       "      <th>formato</th>\n",
       "      <th>precio</th>\n",
       "      <th>image1</th>\n",
       "      <th>image2</th>\n",
       "      <th>image3</th>\n",
       "      <th>empresa</th>\n",
       "      <th>cod_smt</th>\n",
       "    </tr>\n",
       "  </thead>\n",
       "  <tbody>\n",
       "    <tr>\n",
       "      <th>413</th>\n",
       "      <td>T110611243</td>\n",
       "      <td>ABRILLANTADOR   FINISH 400 ML</td>\n",
       "      <td>ABRILLANTADOR   FINISH 400 ML</td>\n",
       "      <td>finish</td>\n",
       "      <td>400 ml</td>\n",
       "      <td>4700</td>\n",
       "      <td>https://s7d2.scene7.com/is/image/Tottus/203631...</td>\n",
       "      <td>https://s7d2.scene7.com/is/image/Tottus/203631...</td>\n",
       "      <td>https://s7d2.scene7.com/is/image/Tottus/203631...</td>\n",
       "      <td>Tottus</td>\n",
       "      <td>NaN</td>\n",
       "    </tr>\n",
       "    <tr>\n",
       "      <th>16</th>\n",
       "      <td>T110615848</td>\n",
       "      <td>ACEITE MAIZ 1 LT. CH</td>\n",
       "      <td>ACEITE MAIZ 1 LT. CH</td>\n",
       "      <td>chef</td>\n",
       "      <td>1 l</td>\n",
       "      <td>4390</td>\n",
       "      <td>https://s7d2.scene7.com/is/image/Tottus/010200...</td>\n",
       "      <td>NaN</td>\n",
       "      <td>NaN</td>\n",
       "      <td>Tottus</td>\n",
       "      <td>NaN</td>\n",
       "    </tr>\n",
       "    <tr>\n",
       "      <th>414</th>\n",
       "      <td>T110610573</td>\n",
       "      <td>AGUA AQUARIUS PERA PET 1.6</td>\n",
       "      <td>AGUA AQUARIUS PERA PET 1.6</td>\n",
       "      <td>NaN</td>\n",
       "      <td>1,6 l</td>\n",
       "      <td>870</td>\n",
       "      <td>https://s7d2.scene7.com/is/image/Tottus/202819...</td>\n",
       "      <td>NaN</td>\n",
       "      <td>NaN</td>\n",
       "      <td>Tottus</td>\n",
       "      <td>NaN</td>\n",
       "    </tr>\n",
       "  </tbody>\n",
       "</table>\n",
       "</div>"
      ],
      "text/plain": [
       "             id                           name                    description  \\\n",
       "413  T110611243  ABRILLANTADOR   FINISH 400 ML  ABRILLANTADOR   FINISH 400 ML   \n",
       "16   T110615848           ACEITE MAIZ 1 LT. CH           ACEITE MAIZ 1 LT. CH   \n",
       "414  T110610573     AGUA AQUARIUS PERA PET 1.6     AGUA AQUARIUS PERA PET 1.6   \n",
       "\n",
       "      marca formato  precio  \\\n",
       "413  finish  400 ml    4700   \n",
       "16     chef     1 l    4390   \n",
       "414     NaN   1,6 l     870   \n",
       "\n",
       "                                                image1  \\\n",
       "413  https://s7d2.scene7.com/is/image/Tottus/203631...   \n",
       "16   https://s7d2.scene7.com/is/image/Tottus/010200...   \n",
       "414  https://s7d2.scene7.com/is/image/Tottus/202819...   \n",
       "\n",
       "                                                image2  \\\n",
       "413  https://s7d2.scene7.com/is/image/Tottus/203631...   \n",
       "16                                                 NaN   \n",
       "414                                                NaN   \n",
       "\n",
       "                                                image3 empresa cod_smt  \n",
       "413  https://s7d2.scene7.com/is/image/Tottus/203631...  Tottus     NaN  \n",
       "16                                                 NaN  Tottus     NaN  \n",
       "414                                                NaN  Tottus     NaN  "
      ]
     },
     "execution_count": 1227,
     "metadata": {},
     "output_type": "execute_result"
    }
   ],
   "source": [
    "df_det_tottus_1 = df_det_tottus[df_det_tottus['cod_smt'].isnull()].sort_values('name')\n",
    "df_det_tottus_1.head(3)"
   ]
  },
  {
   "cell_type": "code",
   "execution_count": 1228,
   "metadata": {},
   "outputs": [
    {
     "data": {
      "text/plain": [
       "'SMT_017144'"
      ]
     },
     "execution_count": 1228,
     "metadata": {},
     "output_type": "execute_result"
    }
   ],
   "source": [
    "df_productos_5['cod_smt'].sort_values(ascending=False).iloc[0]"
   ]
  },
  {
   "cell_type": "code",
   "execution_count": 1229,
   "metadata": {},
   "outputs": [
    {
     "data": {
      "text/plain": [
       "17144"
      ]
     },
     "execution_count": 1229,
     "metadata": {},
     "output_type": "execute_result"
    }
   ],
   "source": [
    "last = int(df_productos_5['cod_smt'].sort_values(ascending=False).iloc[0][4:])\n",
    "last"
   ]
  },
  {
   "cell_type": "code",
   "execution_count": 1230,
   "metadata": {},
   "outputs": [
    {
     "data": {
      "text/plain": [
       "362"
      ]
     },
     "execution_count": 1230,
     "metadata": {},
     "output_type": "execute_result"
    }
   ],
   "source": [
    "df_det_tottus_1.shape[0]"
   ]
  },
  {
   "cell_type": "code",
   "execution_count": 1231,
   "metadata": {},
   "outputs": [
    {
     "data": {
      "text/plain": [
       "362"
      ]
     },
     "execution_count": 1231,
     "metadata": {},
     "output_type": "execute_result"
    }
   ],
   "source": [
    "len(range(last+1, last+df_det_tottus_1.shape[0]+1))"
   ]
  },
  {
   "cell_type": "code",
   "execution_count": 1232,
   "metadata": {},
   "outputs": [],
   "source": [
    "df_det_tottus_1['cod_smt'] = range(last+1, last+df_det_tottus_1.shape[0]+1)\n",
    "df_det_tottus_1['cod_smt'] = 'SMT_' + df_det_tottus_1['cod_smt'].astype(str).str.zfill(6)"
   ]
  },
  {
   "cell_type": "code",
   "execution_count": 1233,
   "metadata": {},
   "outputs": [
    {
     "data": {
      "text/plain": [
       "((362, 11), 362)"
      ]
     },
     "execution_count": 1233,
     "metadata": {},
     "output_type": "execute_result"
    }
   ],
   "source": [
    "df_det_tottus_1.shape, df_det_tottus_1['id'].nunique()"
   ]
  },
  {
   "cell_type": "code",
   "execution_count": 1234,
   "metadata": {},
   "outputs": [
    {
     "data": {
      "text/plain": [
       "(21399, 11)"
      ]
     },
     "execution_count": 1234,
     "metadata": {},
     "output_type": "execute_result"
    }
   ],
   "source": [
    "df_productos_5.shape"
   ]
  },
  {
   "cell_type": "code",
   "execution_count": 1235,
   "metadata": {},
   "outputs": [],
   "source": [
    "df_productos_6 = pd.merge(df_productos_5, df_det_tottus_1[['id', 'cod_smt']], on=['id'], how='left')"
   ]
  },
  {
   "cell_type": "code",
   "execution_count": 1236,
   "metadata": {},
   "outputs": [
    {
     "data": {
      "text/plain": [
       "(21399, 12)"
      ]
     },
     "execution_count": 1236,
     "metadata": {},
     "output_type": "execute_result"
    }
   ],
   "source": [
    "df_productos_6.shape"
   ]
  },
  {
   "cell_type": "code",
   "execution_count": 1237,
   "metadata": {},
   "outputs": [],
   "source": [
    "df_productos_6['cod_smt'] = np.where(df_productos_6['cod_smt_x'].isnull(), df_productos_6['cod_smt_y'], df_productos_6['cod_smt_x'])"
   ]
  },
  {
   "cell_type": "code",
   "execution_count": 1238,
   "metadata": {},
   "outputs": [],
   "source": [
    "del df_productos_6['cod_smt_x'], df_productos_6['cod_smt_y']"
   ]
  },
  {
   "cell_type": "code",
   "execution_count": 1239,
   "metadata": {},
   "outputs": [
    {
     "data": {
      "text/html": [
       "<div>\n",
       "<style scoped>\n",
       "    .dataframe tbody tr th:only-of-type {\n",
       "        vertical-align: middle;\n",
       "    }\n",
       "\n",
       "    .dataframe tbody tr th {\n",
       "        vertical-align: top;\n",
       "    }\n",
       "\n",
       "    .dataframe thead th {\n",
       "        text-align: right;\n",
       "    }\n",
       "</style>\n",
       "<table border=\"1\" class=\"dataframe\">\n",
       "  <thead>\n",
       "    <tr style=\"text-align: right;\">\n",
       "      <th></th>\n",
       "      <th>id</th>\n",
       "      <th>name</th>\n",
       "      <th>description</th>\n",
       "      <th>marca</th>\n",
       "      <th>formato</th>\n",
       "      <th>precio</th>\n",
       "      <th>image1</th>\n",
       "      <th>image2</th>\n",
       "      <th>image3</th>\n",
       "      <th>cod_smt</th>\n",
       "    </tr>\n",
       "    <tr>\n",
       "      <th>empresa</th>\n",
       "      <th></th>\n",
       "      <th></th>\n",
       "      <th></th>\n",
       "      <th></th>\n",
       "      <th></th>\n",
       "      <th></th>\n",
       "      <th></th>\n",
       "      <th></th>\n",
       "      <th></th>\n",
       "      <th></th>\n",
       "    </tr>\n",
       "  </thead>\n",
       "  <tbody>\n",
       "    <tr>\n",
       "      <th>Jumbo</th>\n",
       "      <td>10413</td>\n",
       "      <td>10413</td>\n",
       "      <td>10413</td>\n",
       "      <td>10413</td>\n",
       "      <td>10413</td>\n",
       "      <td>10413</td>\n",
       "      <td>10413</td>\n",
       "      <td>0</td>\n",
       "      <td>0</td>\n",
       "      <td>10413</td>\n",
       "    </tr>\n",
       "    <tr>\n",
       "      <th>Lider</th>\n",
       "      <td>10346</td>\n",
       "      <td>10346</td>\n",
       "      <td>10346</td>\n",
       "      <td>10346</td>\n",
       "      <td>10346</td>\n",
       "      <td>10346</td>\n",
       "      <td>10346</td>\n",
       "      <td>0</td>\n",
       "      <td>0</td>\n",
       "      <td>10346</td>\n",
       "    </tr>\n",
       "    <tr>\n",
       "      <th>Tottus</th>\n",
       "      <td>640</td>\n",
       "      <td>640</td>\n",
       "      <td>585</td>\n",
       "      <td>394</td>\n",
       "      <td>639</td>\n",
       "      <td>640</td>\n",
       "      <td>640</td>\n",
       "      <td>35</td>\n",
       "      <td>10</td>\n",
       "      <td>640</td>\n",
       "    </tr>\n",
       "  </tbody>\n",
       "</table>\n",
       "</div>"
      ],
      "text/plain": [
       "            id   name  description  marca  formato  precio  image1  image2  \\\n",
       "empresa                                                                      \n",
       "Jumbo    10413  10413        10413  10413    10413   10413   10413       0   \n",
       "Lider    10346  10346        10346  10346    10346   10346   10346       0   \n",
       "Tottus     640    640          585    394      639     640     640      35   \n",
       "\n",
       "         image3  cod_smt  \n",
       "empresa                   \n",
       "Jumbo         0    10413  \n",
       "Lider         0    10346  \n",
       "Tottus       10      640  "
      ]
     },
     "execution_count": 1239,
     "metadata": {},
     "output_type": "execute_result"
    }
   ],
   "source": [
    "df_productos_6.groupby('empresa').count()"
   ]
  },
  {
   "cell_type": "code",
   "execution_count": 1240,
   "metadata": {},
   "outputs": [
    {
     "data": {
      "text/html": [
       "<div>\n",
       "<style scoped>\n",
       "    .dataframe tbody tr th:only-of-type {\n",
       "        vertical-align: middle;\n",
       "    }\n",
       "\n",
       "    .dataframe tbody tr th {\n",
       "        vertical-align: top;\n",
       "    }\n",
       "\n",
       "    .dataframe thead th {\n",
       "        text-align: right;\n",
       "    }\n",
       "</style>\n",
       "<table border=\"1\" class=\"dataframe\">\n",
       "  <thead>\n",
       "    <tr style=\"text-align: right;\">\n",
       "      <th></th>\n",
       "      <th>id</th>\n",
       "      <th>name</th>\n",
       "      <th>description</th>\n",
       "      <th>marca</th>\n",
       "      <th>formato</th>\n",
       "      <th>precio</th>\n",
       "      <th>image1</th>\n",
       "      <th>image2</th>\n",
       "      <th>image3</th>\n",
       "      <th>cod_smt</th>\n",
       "    </tr>\n",
       "    <tr>\n",
       "      <th>empresa</th>\n",
       "      <th></th>\n",
       "      <th></th>\n",
       "      <th></th>\n",
       "      <th></th>\n",
       "      <th></th>\n",
       "      <th></th>\n",
       "      <th></th>\n",
       "      <th></th>\n",
       "      <th></th>\n",
       "      <th></th>\n",
       "    </tr>\n",
       "  </thead>\n",
       "  <tbody>\n",
       "    <tr>\n",
       "      <th>Jumbo</th>\n",
       "      <td>10413</td>\n",
       "      <td>10087</td>\n",
       "      <td>7885</td>\n",
       "      <td>1543</td>\n",
       "      <td>1503</td>\n",
       "      <td>1590</td>\n",
       "      <td>10406</td>\n",
       "      <td>0</td>\n",
       "      <td>0</td>\n",
       "      <td>10413</td>\n",
       "    </tr>\n",
       "    <tr>\n",
       "      <th>Lider</th>\n",
       "      <td>10346</td>\n",
       "      <td>9813</td>\n",
       "      <td>6726</td>\n",
       "      <td>1387</td>\n",
       "      <td>899</td>\n",
       "      <td>978</td>\n",
       "      <td>9462</td>\n",
       "      <td>0</td>\n",
       "      <td>0</td>\n",
       "      <td>10346</td>\n",
       "    </tr>\n",
       "    <tr>\n",
       "      <th>Tottus</th>\n",
       "      <td>640</td>\n",
       "      <td>632</td>\n",
       "      <td>579</td>\n",
       "      <td>173</td>\n",
       "      <td>162</td>\n",
       "      <td>324</td>\n",
       "      <td>640</td>\n",
       "      <td>35</td>\n",
       "      <td>10</td>\n",
       "      <td>640</td>\n",
       "    </tr>\n",
       "  </tbody>\n",
       "</table>\n",
       "</div>"
      ],
      "text/plain": [
       "            id   name  description  marca  formato  precio  image1  image2  \\\n",
       "empresa                                                                      \n",
       "Jumbo    10413  10087         7885   1543     1503    1590   10406       0   \n",
       "Lider    10346   9813         6726   1387      899     978    9462       0   \n",
       "Tottus     640    632          579    173      162     324     640      35   \n",
       "\n",
       "         image3  cod_smt  \n",
       "empresa                   \n",
       "Jumbo         0    10413  \n",
       "Lider         0    10346  \n",
       "Tottus       10      640  "
      ]
     },
     "execution_count": 1240,
     "metadata": {},
     "output_type": "execute_result"
    }
   ],
   "source": [
    "df_productos_6.groupby('empresa').nunique()"
   ]
  },
  {
   "cell_type": "code",
   "execution_count": 1241,
   "metadata": {},
   "outputs": [
    {
     "data": {
      "text/plain": [
       "(21399, 11)"
      ]
     },
     "execution_count": 1241,
     "metadata": {},
     "output_type": "execute_result"
    }
   ],
   "source": [
    "df_productos_6.shape"
   ]
  },
  {
   "cell_type": "code",
   "execution_count": 1242,
   "metadata": {},
   "outputs": [
    {
     "data": {
      "text/html": [
       "<div>\n",
       "<style scoped>\n",
       "    .dataframe tbody tr th:only-of-type {\n",
       "        vertical-align: middle;\n",
       "    }\n",
       "\n",
       "    .dataframe tbody tr th {\n",
       "        vertical-align: top;\n",
       "    }\n",
       "\n",
       "    .dataframe thead th {\n",
       "        text-align: right;\n",
       "    }\n",
       "</style>\n",
       "<table border=\"1\" class=\"dataframe\">\n",
       "  <thead>\n",
       "    <tr style=\"text-align: right;\">\n",
       "      <th></th>\n",
       "      <th>id</th>\n",
       "      <th>name</th>\n",
       "      <th>description</th>\n",
       "      <th>marca</th>\n",
       "      <th>formato</th>\n",
       "      <th>precio</th>\n",
       "      <th>image1</th>\n",
       "      <th>image2</th>\n",
       "      <th>image3</th>\n",
       "      <th>empresa</th>\n",
       "      <th>cod_smt</th>\n",
       "    </tr>\n",
       "  </thead>\n",
       "  <tbody>\n",
       "    <tr>\n",
       "      <th>0</th>\n",
       "      <td>T110619052</td>\n",
       "      <td>Espumante Brut - 750 CC</td>\n",
       "      <td>Vino Espumante Botella Brut Martini</td>\n",
       "      <td>martini</td>\n",
       "      <td>750 cc</td>\n",
       "      <td>12990</td>\n",
       "      <td>https://7483c243aa9da28f329c-903e05bc00667eb97...</td>\n",
       "      <td>NaN</td>\n",
       "      <td>NaN</td>\n",
       "      <td>Tottus</td>\n",
       "      <td>SMT_003272</td>\n",
       "    </tr>\n",
       "  </tbody>\n",
       "</table>\n",
       "</div>"
      ],
      "text/plain": [
       "           id                     name                          description  \\\n",
       "0  T110619052  Espumante Brut - 750 CC  Vino Espumante Botella Brut Martini   \n",
       "\n",
       "     marca formato  precio                                             image1  \\\n",
       "0  martini  750 cc   12990  https://7483c243aa9da28f329c-903e05bc00667eb97...   \n",
       "\n",
       "  image2 image3 empresa     cod_smt  \n",
       "0    NaN    NaN  Tottus  SMT_003272  "
      ]
     },
     "execution_count": 1242,
     "metadata": {},
     "output_type": "execute_result"
    }
   ],
   "source": [
    "df_productos_6.head(1)"
   ]
  },
  {
   "cell_type": "code",
   "execution_count": 1243,
   "metadata": {},
   "outputs": [],
   "source": [
    "df_mmpp = pd.read_excel(ruta + 'mmpp.xlsx')"
   ]
  },
  {
   "cell_type": "code",
   "execution_count": 1244,
   "metadata": {},
   "outputs": [],
   "source": [
    "lista_mmpp = df_mmpp['mmpp'].values.tolist()"
   ]
  },
  {
   "cell_type": "code",
   "execution_count": 1245,
   "metadata": {},
   "outputs": [
    {
     "data": {
      "text/plain": [
       "['lider', 'cuisine & co', 'tottus']"
      ]
     },
     "execution_count": 1245,
     "metadata": {},
     "output_type": "execute_result"
    }
   ],
   "source": [
    "lista_mmpp"
   ]
  },
  {
   "cell_type": "code",
   "execution_count": 1246,
   "metadata": {},
   "outputs": [],
   "source": [
    "df_productos_6['flag_mmpp'] = 0"
   ]
  },
  {
   "cell_type": "code",
   "execution_count": 1247,
   "metadata": {},
   "outputs": [],
   "source": [
    "for mmpp in lista_mmpp:\n",
    "    df_productos_6['flag_mmpp'] = np.where(df_productos_6['marca'].str.contains(mmpp), 1, df_productos_6['flag_mmpp'])"
   ]
  },
  {
   "cell_type": "code",
   "execution_count": 1248,
   "metadata": {},
   "outputs": [],
   "source": [
    "df_productos_6['flag_mmpp'] = np.where(df_productos_6['marca'].isnull(), 0, df_productos_6['flag_mmpp'])"
   ]
  },
  {
   "cell_type": "code",
   "execution_count": 1249,
   "metadata": {},
   "outputs": [],
   "source": [
    "df_productos_6.to_excel(ruta + f'data_productos.xlsx'.format(actual_date), index=0)"
   ]
  },
  {
   "cell_type": "markdown",
   "metadata": {},
   "source": [
    "##### SmartBuy"
   ]
  },
  {
   "cell_type": "code",
   "execution_count": 1250,
   "metadata": {},
   "outputs": [],
   "source": [
    "df_smt_1 = df_productos_6[df_productos_6['empresa']=='Lider'][['cod_smt', 'id', 'name', 'marca', 'formato' ,'precio']].\\\n",
    "            rename(columns={'id': 'id_lider',\n",
    "                             'name': 'name_lider',\n",
    "                             'marca': 'marca_lider',\n",
    "                             'formato': 'formato_lider',\n",
    "                             'precio': 'precio_lider'})"
   ]
  },
  {
   "cell_type": "code",
   "execution_count": 1251,
   "metadata": {},
   "outputs": [
    {
     "data": {
      "text/plain": [
       "(10346, 6)"
      ]
     },
     "execution_count": 1251,
     "metadata": {},
     "output_type": "execute_result"
    }
   ],
   "source": [
    "df_smt_1.shape"
   ]
  },
  {
   "cell_type": "code",
   "execution_count": 1252,
   "metadata": {},
   "outputs": [],
   "source": [
    "df_smt_jumbo = df_productos_6[df_productos_6['empresa']=='Jumbo'][['cod_smt', 'id', 'name', 'marca', 'formato' ,'precio']].\\\n",
    "            rename(columns={'id': 'id_jumbo',\n",
    "                             'name': 'name_jumbo',\n",
    "                             'marca': 'marca_jumbo',\n",
    "                             'formato': 'formato_jumbo',\n",
    "                             'precio': 'precio_jumbo'})"
   ]
  },
  {
   "cell_type": "code",
   "execution_count": 1253,
   "metadata": {},
   "outputs": [],
   "source": [
    "df_smt_2 = pd.merge(df_smt_1, df_smt_jumbo, on=['cod_smt'], how='outer')"
   ]
  },
  {
   "cell_type": "code",
   "execution_count": 1254,
   "metadata": {},
   "outputs": [
    {
     "data": {
      "text/plain": [
       "(17144, 11)"
      ]
     },
     "execution_count": 1254,
     "metadata": {},
     "output_type": "execute_result"
    }
   ],
   "source": [
    "df_smt_2.shape"
   ]
  },
  {
   "cell_type": "code",
   "execution_count": 1255,
   "metadata": {},
   "outputs": [],
   "source": [
    "df_smt_2['var_precio'] = abs((df_smt_2['precio_lider']-df_smt_2['precio_jumbo'])/df_smt_2['precio_lider'])"
   ]
  },
  {
   "cell_type": "code",
   "execution_count": 1256,
   "metadata": {},
   "outputs": [
    {
     "data": {
      "text/html": [
       "<div>\n",
       "<style scoped>\n",
       "    .dataframe tbody tr th:only-of-type {\n",
       "        vertical-align: middle;\n",
       "    }\n",
       "\n",
       "    .dataframe tbody tr th {\n",
       "        vertical-align: top;\n",
       "    }\n",
       "\n",
       "    .dataframe thead th {\n",
       "        text-align: right;\n",
       "    }\n",
       "</style>\n",
       "<table border=\"1\" class=\"dataframe\">\n",
       "  <thead>\n",
       "    <tr style=\"text-align: right;\">\n",
       "      <th></th>\n",
       "      <th>cod_smt</th>\n",
       "      <th>id_lider</th>\n",
       "      <th>name_lider</th>\n",
       "      <th>marca_lider</th>\n",
       "      <th>formato_lider</th>\n",
       "      <th>precio_lider</th>\n",
       "      <th>id_jumbo</th>\n",
       "      <th>name_jumbo</th>\n",
       "      <th>marca_jumbo</th>\n",
       "      <th>formato_jumbo</th>\n",
       "      <th>precio_jumbo</th>\n",
       "      <th>var_precio</th>\n",
       "    </tr>\n",
       "  </thead>\n",
       "  <tbody>\n",
       "    <tr>\n",
       "      <th>0</th>\n",
       "      <td>SMT_000001</td>\n",
       "      <td>L547336</td>\n",
       "      <td>100% Fruta Durazno Y Manzana Pouch, 90 g</td>\n",
       "      <td>lider</td>\n",
       "      <td>90 g</td>\n",
       "      <td>450.0</td>\n",
       "      <td>NaN</td>\n",
       "      <td>NaN</td>\n",
       "      <td>NaN</td>\n",
       "      <td>NaN</td>\n",
       "      <td>NaN</td>\n",
       "      <td>NaN</td>\n",
       "    </tr>\n",
       "  </tbody>\n",
       "</table>\n",
       "</div>"
      ],
      "text/plain": [
       "      cod_smt id_lider                                name_lider marca_lider  \\\n",
       "0  SMT_000001  L547336  100% Fruta Durazno Y Manzana Pouch, 90 g       lider   \n",
       "\n",
       "  formato_lider  precio_lider id_jumbo name_jumbo marca_jumbo formato_jumbo  \\\n",
       "0          90 g         450.0      NaN        NaN         NaN           NaN   \n",
       "\n",
       "   precio_jumbo  var_precio  \n",
       "0           NaN         NaN  "
      ]
     },
     "execution_count": 1256,
     "metadata": {},
     "output_type": "execute_result"
    }
   ],
   "source": [
    "df_smt_2.head(1)"
   ]
  },
  {
   "cell_type": "code",
   "execution_count": 1257,
   "metadata": {},
   "outputs": [
    {
     "data": {
      "text/plain": [
       "((17144, 11), (17144,))"
      ]
     },
     "execution_count": 1257,
     "metadata": {},
     "output_type": "execute_result"
    }
   ],
   "source": [
    "df_smt_2.sort_values(['var_precio'], ascending=[True], inplace=True)\n",
    "df_smt_2['rank'] = 1\n",
    "df_smt_2['rank'] = df_smt_2.groupby('cod_smt', dropna=False)['rank'].cumsum()\n",
    "df_smt_2 = df_smt_2[df_smt_2['rank']==1]\n",
    "del df_smt_2['rank'], df_smt_2['var_precio']\n",
    "df_smt_2.shape, df_smt_2['cod_smt'].drop_duplicates().shape"
   ]
  },
  {
   "cell_type": "code",
   "execution_count": 1258,
   "metadata": {},
   "outputs": [],
   "source": [
    "df_smt_tottus = df_productos_6[df_productos_6['empresa']=='Tottus'][['cod_smt', 'id', 'name', 'marca', 'formato' ,'precio']].\\\n",
    "            rename(columns={'id': 'id_tottus',\n",
    "                             'name': 'name_tottus',\n",
    "                             'marca': 'marca_tottus',\n",
    "                             'formato': 'formato_tottus',\n",
    "                             'precio': 'precio_tottus'})"
   ]
  },
  {
   "cell_type": "code",
   "execution_count": 1259,
   "metadata": {},
   "outputs": [],
   "source": [
    "df_smt_3 = pd.merge(df_smt_2, df_smt_tottus, on=['cod_smt'], how='outer')"
   ]
  },
  {
   "cell_type": "code",
   "execution_count": 1260,
   "metadata": {},
   "outputs": [
    {
     "data": {
      "text/plain": [
       "(17506, 16)"
      ]
     },
     "execution_count": 1260,
     "metadata": {},
     "output_type": "execute_result"
    }
   ],
   "source": [
    "df_smt_3.shape"
   ]
  },
  {
   "cell_type": "code",
   "execution_count": 1261,
   "metadata": {},
   "outputs": [],
   "source": [
    "df_smt_3['var_precio'] = abs((df_smt_3['precio_lider']-df_smt_3['precio_tottus'])/df_smt_3['precio_lider'])"
   ]
  },
  {
   "cell_type": "code",
   "execution_count": 1262,
   "metadata": {},
   "outputs": [
    {
     "data": {
      "text/html": [
       "<div>\n",
       "<style scoped>\n",
       "    .dataframe tbody tr th:only-of-type {\n",
       "        vertical-align: middle;\n",
       "    }\n",
       "\n",
       "    .dataframe tbody tr th {\n",
       "        vertical-align: top;\n",
       "    }\n",
       "\n",
       "    .dataframe thead th {\n",
       "        text-align: right;\n",
       "    }\n",
       "</style>\n",
       "<table border=\"1\" class=\"dataframe\">\n",
       "  <thead>\n",
       "    <tr style=\"text-align: right;\">\n",
       "      <th></th>\n",
       "      <th>cod_smt</th>\n",
       "      <th>id_lider</th>\n",
       "      <th>name_lider</th>\n",
       "      <th>marca_lider</th>\n",
       "      <th>formato_lider</th>\n",
       "      <th>precio_lider</th>\n",
       "      <th>id_jumbo</th>\n",
       "      <th>name_jumbo</th>\n",
       "      <th>marca_jumbo</th>\n",
       "      <th>formato_jumbo</th>\n",
       "      <th>precio_jumbo</th>\n",
       "      <th>id_tottus</th>\n",
       "      <th>name_tottus</th>\n",
       "      <th>marca_tottus</th>\n",
       "      <th>formato_tottus</th>\n",
       "      <th>precio_tottus</th>\n",
       "      <th>var_precio</th>\n",
       "    </tr>\n",
       "  </thead>\n",
       "  <tbody>\n",
       "    <tr>\n",
       "      <th>0</th>\n",
       "      <td>SMT_008203</td>\n",
       "      <td>L337451</td>\n",
       "      <td>Salanova Hojas, 150 gr</td>\n",
       "      <td>ensalada</td>\n",
       "      <td>150 g</td>\n",
       "      <td>2290.0</td>\n",
       "      <td>J1261606</td>\n",
       "      <td>Lechuga Salanova hojas 150 g</td>\n",
       "      <td>fresh cut</td>\n",
       "      <td>150 g</td>\n",
       "      <td>2290.0</td>\n",
       "      <td>NaN</td>\n",
       "      <td>NaN</td>\n",
       "      <td>NaN</td>\n",
       "      <td>NaN</td>\n",
       "      <td>NaN</td>\n",
       "      <td>NaN</td>\n",
       "    </tr>\n",
       "  </tbody>\n",
       "</table>\n",
       "</div>"
      ],
      "text/plain": [
       "      cod_smt id_lider              name_lider marca_lider formato_lider  \\\n",
       "0  SMT_008203  L337451  Salanova Hojas, 150 gr    ensalada         150 g   \n",
       "\n",
       "   precio_lider  id_jumbo                    name_jumbo marca_jumbo  \\\n",
       "0        2290.0  J1261606  Lechuga Salanova hojas 150 g   fresh cut   \n",
       "\n",
       "  formato_jumbo  precio_jumbo id_tottus name_tottus marca_tottus  \\\n",
       "0         150 g        2290.0       NaN         NaN          NaN   \n",
       "\n",
       "  formato_tottus  precio_tottus  var_precio  \n",
       "0            NaN            NaN         NaN  "
      ]
     },
     "execution_count": 1262,
     "metadata": {},
     "output_type": "execute_result"
    }
   ],
   "source": [
    "df_smt_3.head(1)"
   ]
  },
  {
   "cell_type": "code",
   "execution_count": 1263,
   "metadata": {},
   "outputs": [
    {
     "data": {
      "text/plain": [
       "((17506, 16), (17506,))"
      ]
     },
     "execution_count": 1263,
     "metadata": {},
     "output_type": "execute_result"
    }
   ],
   "source": [
    "df_smt_3.sort_values(['var_precio'], ascending=[True], inplace=True)\n",
    "df_smt_3['rank'] = 1\n",
    "df_smt_3['rank'] = df_smt_3.groupby('cod_smt', dropna=False)['rank'].cumsum()\n",
    "df_smt_3 = df_smt_3[df_smt_3['rank']==1]\n",
    "del df_smt_3['rank'], df_smt_3['var_precio']\n",
    "df_smt_3.shape, df_smt_3['cod_smt'].drop_duplicates().shape"
   ]
  },
  {
   "cell_type": "code",
   "execution_count": 1264,
   "metadata": {},
   "outputs": [],
   "source": [
    "df_smt_3.to_excel(ruta + f'data_productos_smartbuy.xlsx'.format(actual_date), index=0)"
   ]
  },
  {
   "cell_type": "code",
   "execution_count": 1265,
   "metadata": {},
   "outputs": [
    {
     "data": {
      "text/plain": [
       "(17506, 16)"
      ]
     },
     "execution_count": 1265,
     "metadata": {},
     "output_type": "execute_result"
    }
   ],
   "source": [
    "df_smt_3.shape"
   ]
  },
  {
   "cell_type": "code",
   "execution_count": 1266,
   "metadata": {},
   "outputs": [
    {
     "data": {
      "text/plain": [
       "((10346, 16), 10346)"
      ]
     },
     "execution_count": 1266,
     "metadata": {},
     "output_type": "execute_result"
    }
   ],
   "source": [
    "df_smt_3[df_smt_3['id_lider'].notnull()].shape, df_smt_3['id_lider'].nunique()"
   ]
  },
  {
   "cell_type": "code",
   "execution_count": 1267,
   "metadata": {},
   "outputs": [
    {
     "data": {
      "text/plain": [
       "((10413, 16), 10413)"
      ]
     },
     "execution_count": 1267,
     "metadata": {},
     "output_type": "execute_result"
    }
   ],
   "source": [
    "df_smt_3[df_smt_3['id_jumbo'].notnull()].shape, df_smt_3['id_jumbo'].nunique()"
   ]
  },
  {
   "cell_type": "code",
   "execution_count": 1269,
   "metadata": {},
   "outputs": [
    {
     "data": {
      "text/plain": [
       "((640, 16), 640)"
      ]
     },
     "execution_count": 1269,
     "metadata": {},
     "output_type": "execute_result"
    }
   ],
   "source": [
    "df_smt_3[df_smt_3['id_tottus'].notnull()].shape, df_smt_3['id_tottus'].nunique()"
   ]
  },
  {
   "cell_type": "code",
   "execution_count": null,
   "metadata": {},
   "outputs": [],
   "source": []
  }
 ],
 "metadata": {
  "kernelspec": {
   "display_name": "Python 3 (ipykernel)",
   "language": "python",
   "name": "python3"
  },
  "language_info": {
   "codemirror_mode": {
    "name": "ipython",
    "version": 3
   },
   "file_extension": ".py",
   "mimetype": "text/x-python",
   "name": "python",
   "nbconvert_exporter": "python",
   "pygments_lexer": "ipython3",
   "version": "3.8.0"
  }
 },
 "nbformat": 4,
 "nbformat_minor": 2
}
